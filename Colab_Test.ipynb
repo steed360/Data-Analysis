{
  "nbformat": 4,
  "nbformat_minor": 0,
  "metadata": {
    "colab": {
      "provenance": [],
      "authorship_tag": "ABX9TyOmp5T8A4PsgKzjE0aXA5yZ",
      "include_colab_link": true
    },
    "kernelspec": {
      "name": "python3",
      "display_name": "Python 3"
    },
    "language_info": {
      "name": "python"
    }
  },
  "cells": [
    {
      "cell_type": "markdown",
      "metadata": {
        "id": "view-in-github",
        "colab_type": "text"
      },
      "source": [
        "<a href=\"https://colab.research.google.com/github/steed360/Data-Analysis/blob/main/Colab_Test.ipynb\" target=\"_parent\"><img src=\"https://colab.research.google.com/assets/colab-badge.svg\" alt=\"Open In Colab\"/></a>"
      ]
    },
    {
      "cell_type": "code",
      "execution_count": 1,
      "metadata": {
        "id": "xz23_3hoOlCf"
      },
      "outputs": [],
      "source": [
        "import arviz as az\n",
        "import matplotlib.pyplot as plt\n",
        "import numpy as np\n",
        "import pandas as pd\n",
        "import pymc as pm\n",
        "import scipy.stats as stats\n",
        "\n",
        "from scipy.interpolate import griddata"
      ]
    },
    {
      "cell_type": "code",
      "source": [
        "steps = 16\n",
        "repetitions = 1000\n",
        "show_steps = [4, 8, 16]\n",
        "x = np.zeros([steps + 1, repetitions])\n",
        "\n",
        "fig, axs = plt.subplots(1, 3, figsize=(9, 3), sharex=True)\n",
        "for step, ax in zip(show_steps, axs):\n",
        "    az.plot_kde(x[step, :], bw=0.01, ax=ax)\n",
        "    ax.set_title(f\"{step} steps\")\n",
        "    ax.set_ylabel(\"Density\")\n",
        "    ax.set_xlabel(\"Position\")\n",
        "    ax.set_xlim(-6, 6)\n",
        "    ax.set_xticks([-6, -3, 0, 3, 6])\n",
        "\n"
      ],
      "metadata": {
        "colab": {
          "base_uri": "https://localhost:8080/",
          "height": 349
        },
        "id": "nGi_zDGfOoxj",
        "outputId": "4717f129-f0f1-4440-e5b5-667c0d959c58"
      },
      "execution_count": 6,
      "outputs": [
        {
          "output_type": "stream",
          "name": "stderr",
          "text": [
            "/usr/local/lib/python3.8/dist-packages/arviz/stats/density_utils.py:491: UserWarning: Your data appears to have a single value or no finite values\n",
            "  warnings.warn(\"Your data appears to have a single value or no finite values\")\n",
            "/usr/local/lib/python3.8/dist-packages/arviz/stats/density_utils.py:491: UserWarning: Your data appears to have a single value or no finite values\n",
            "  warnings.warn(\"Your data appears to have a single value or no finite values\")\n",
            "/usr/local/lib/python3.8/dist-packages/arviz/stats/density_utils.py:491: UserWarning: Your data appears to have a single value or no finite values\n",
            "  warnings.warn(\"Your data appears to have a single value or no finite values\")\n"
          ]
        },
        {
          "output_type": "display_data",
          "data": {
            "text/plain": [
              "<Figure size 648x216 with 3 Axes>"
            ],
            "image/png": "[encoded data removed]"
          },
          "metadata": {
            "needs_background": "light"
          }
        }
      ]
    }
  ]
}