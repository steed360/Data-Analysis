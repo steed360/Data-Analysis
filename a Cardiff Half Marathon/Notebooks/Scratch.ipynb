{
 "cells": [
  {
   "cell_type": "markdown",
   "metadata": {},
   "source": [
    "#### Ideas to try"
   ]
  },
  {
   "cell_type": "markdown",
   "metadata": {},
   "source": [
    "1) Show my times versus average and elite mens \\\n",
    "Do a nice visualization \\\n",
    "2) Find sensible age groupings for mens times \\\n",
    "3) Look for patterns in how runners slow down \\\n",
    "4) For groups of runners try to chart the distribution"
   ]
  },
  {
   "cell_type": "markdown",
   "metadata": {},
   "source": [
    "#### Just a dumping ground as things get cleaned up"
   ]
  },
  {
   "cell_type": "code",
   "execution_count": 4,
   "metadata": {},
   "outputs": [
    {
     "ename": "NameError",
     "evalue": "name 'pd' is not defined",
     "output_type": "error",
     "traceback": [
      "\u001b[1;31m---------------------------------------------------------------------------\u001b[0m",
      "\u001b[1;31mNameError\u001b[0m                                 Traceback (most recent call last)",
      "\u001b[1;32m<ipython-input-4-b257c214993d>\u001b[0m in \u001b[0;36m<module>\u001b[1;34m\u001b[0m\n\u001b[0;32m      2\u001b[0m \u001b[1;31m# This is so that mean times/speeds can be calculated for gruoups.\u001b[0m\u001b[1;33m\u001b[0m\u001b[1;33m\u001b[0m\u001b[1;33m\u001b[0m\u001b[0m\n\u001b[0;32m      3\u001b[0m \u001b[1;33m\u001b[0m\u001b[0m\n\u001b[1;32m----> 4\u001b[1;33m df_long = pd.concat ( [\n\u001b[0m\u001b[0;32m      5\u001b[0m \u001b[1;33m\u001b[0m\u001b[0m\n\u001b[0;32m      6\u001b[0m DataFrame ({ 'GENDER'    : df.GENDER,\\\n",
      "\u001b[1;31mNameError\u001b[0m: name 'pd' is not defined"
     ]
    }
   ],
   "source": [
    "# Create a new frame indexed by gender, category and race section.\n",
    "# This is so that mean times/speeds can be calculated for gruoups.\n",
    "\n",
    "df_long = pd.concat ( [\n",
    "\n",
    "DataFrame ({ 'GENDER'    : df.GENDER,\\\n",
    "                          'CATEGORY'   : df.ENTRY_STATUS,\\\n",
    "                          'MINS_PER_KM': df.min_per_km_0_5,\n",
    "                          'SECTION'   :'0-5' })\n",
    ",\n",
    "DataFrame ({ 'GENDER'   : df.GENDER,\\\n",
    "                            'CATEGORY'  : df.ENTRY_STATUS,\\\n",
    "                            'MINS_PER_KM': df.min_per_km_6_10,\\\n",
    "                            'SECTION'   :'6-10' })\n",
    ",\n",
    "DataFrame ({ 'GENDER'   : df.GENDER,\\\n",
    "                            'CATEGORY'  : df.ENTRY_STATUS,\\\n",
    "                            'MINS_PER_KM': df.min_per_km_11_15,\\\n",
    "                            'SECTION'   :'11-15' })\n",
    ",\n",
    "DataFrame ({ 'GENDER'   : df.GENDER,\\\n",
    "                            'CATEGORY'  : df.ENTRY_STATUS,\\\n",
    "                            'MINS_PER_KM': df.min_per_km_16_20,\\\n",
    "                            'SECTION'   :'16-20' })\n",
    ",\n",
    "DataFrame ({ 'GENDER'   : df.GENDER,\\\n",
    "                            'CATEGORY'  : df.ENTRY_STATUS,\\\n",
    "                            'MINS_PER_KM': df.min_per_km_16_20,\\\n",
    "                            'SECTION'   :'min_per_km_21_FINISH' })\n",
    "\n",
    "]\n",
    ")"
   ]
  },
  {
   "cell_type": "code",
   "execution_count": null,
   "metadata": {},
   "outputs": [],
   "source": [
    "df [df.SURNAME.fillna ('').str.contains (\"Greenow\") ].sort_values ('FIRST_NAME')"
   ]
  },
  {
   "cell_type": "code",
   "execution_count": 2,
   "metadata": {},
   "outputs": [
    {
     "ename": "NameError",
     "evalue": "name 'df_long' is not defined",
     "output_type": "error",
     "traceback": [
      "\u001b[1;31m---------------------------------------------------------------------------\u001b[0m",
      "\u001b[1;31mNameError\u001b[0m                                 Traceback (most recent call last)",
      "\u001b[1;32m<ipython-input-2-93498e48bdfe>\u001b[0m in \u001b[0;36m<module>\u001b[1;34m\u001b[0m\n\u001b[0;32m      1\u001b[0m \u001b[1;31m# Now Find the means for each section and Category\u001b[0m\u001b[1;33m\u001b[0m\u001b[1;33m\u001b[0m\u001b[1;33m\u001b[0m\u001b[0m\n\u001b[1;32m----> 2\u001b[1;33m df_agg1 =   df_long.groupby (['CATEGORY', \"SECTION\"] ).agg (\n\u001b[0m\u001b[0;32m      3\u001b[0m      \u001b[0mMINS_PER_KM\u001b[0m\u001b[1;33m=\u001b[0m\u001b[1;33m(\u001b[0m\u001b[1;34m'MINS_PER_KM'\u001b[0m\u001b[1;33m,\u001b[0m \u001b[1;34m'mean'\u001b[0m \u001b[1;33m)\u001b[0m\u001b[1;33m\u001b[0m\u001b[1;33m\u001b[0m\u001b[0m\n\u001b[0;32m      4\u001b[0m ).reset_index(drop=False)\n",
      "\u001b[1;31mNameError\u001b[0m: name 'df_long' is not defined"
     ]
    }
   ],
   "source": [
    "# Now Find the means for each section and Category\n",
    "df_agg1 =   df_long.groupby (['CATEGORY', \"SECTION\"] ).agg (\n",
    "     MINS_PER_KM=('MINS_PER_KM', 'mean' )\n",
    ").reset_index(drop=False)"
   ]
  },
  {
   "cell_type": "code",
   "execution_count": null,
   "metadata": {},
   "outputs": [],
   "source": [
    "\n",
    "fig, ax = plt.subplots()\n",
    "fig.set_size_inches(10, 8)\n",
    "g = sns.lineplot ( data = df_agg1, \n",
    "            x=\"SECTION\", \n",
    "              y=\"MINS_PER_KM\",\n",
    "             hue=\"CATEGORY\", sort=False )\n",
    "\n",
    "g.set(xlabel=\"Timing Point\",\n",
    "     ylabel=\"Speed (Minutes Per KM)\")\n",
    "\n",
    "ax.set_ylim (bottom=4)"
   ]
  }
 ],
 "metadata": {
  "kernelspec": {
   "display_name": "Python 3",
   "language": "python",
   "name": "python3"
  },
  "language_info": {
   "codemirror_mode": {
    "name": "ipython",
    "version": 3
   },
   "file_extension": ".py",
   "mimetype": "text/x-python",
   "name": "python",
   "nbconvert_exporter": "python",
   "pygments_lexer": "ipython3",
   "version": "3.7.6"
  }
 },
 "nbformat": 4,
 "nbformat_minor": 4
}
