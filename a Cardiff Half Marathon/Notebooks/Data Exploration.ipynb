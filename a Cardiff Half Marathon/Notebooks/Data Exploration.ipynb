{
 "cells": [
  {
   "cell_type": "markdown",
   "metadata": {},
   "source": [
    "## Sense Check and Explore the April 2022 Race data"
   ]
  },
  {
   "cell_type": "markdown",
   "metadata": {},
   "source": [
    "#### Get a feel for the data and how to process it"
   ]
  },
  {
   "cell_type": "code",
   "execution_count": 33,
   "metadata": {},
   "outputs": [],
   "source": [
    "# Try to use Seaborn/Matplotlib to replicate another cool viz from Cole Nusaumbber Knaflic's book Storytelling with Data.\n",
    "# Inspiration from :\n",
    "# https://github.com/adamribaudo/storytelling-with-data-ggplot\n",
    "# Using code from the excellent:\n",
    "# https://github.com/empathy87/storytelling-with-data\n",
    "\n",
    "## Import libraries\n",
    "import numpy as np\n",
    "import matplotlib\n",
    "import matplotlib.pyplot as plt \n",
    "from matplotlib import transforms\n",
    "import pandas as pd\n",
    "import seaborn as sns\n",
    "from matplotlib.ticker import FixedLocator, FixedFormatter\n",
    "from pandas import DataFrame\n",
    "\n",
    "%matplotlib inline"
   ]
  },
  {
   "cell_type": "code",
   "execution_count": 34,
   "metadata": {},
   "outputs": [],
   "source": [
    "df_Apr = pd.read_csv ('..\\Data\\April_2022.csv'  )\n",
    "df_Apr['Month'] = \"Apr\"\n",
    "\n",
    "df_Oct= pd.read_csv ('..\\Data\\October_2022.csv'  )\n",
    "df_Oct['Month'] = \"Oct\""
   ]
  },
  {
   "cell_type": "code",
   "execution_count": 35,
   "metadata": {},
   "outputs": [],
   "source": [
    "df = pd.concat  ( [  df_Apr , df_Oct ] )"
   ]
  },
  {
   "cell_type": "markdown",
   "metadata": {},
   "source": [
    "#### Temporary fix up - move this code to Scratch Notebook"
   ]
  },
  {
   "cell_type": "code",
   "execution_count": 36,
   "metadata": {},
   "outputs": [],
   "source": [
    "df['0K_5K_SECTION_TIME']   = df['5K_MINS']\n",
    "df['5K_10K_SECTION_TIME']  = df['10K_MINS']  - df['5K_MINS']\n",
    "df['10K_15K_SECTION_TIME'] = df['15K_MINS']  - df['10K_MINS']\n",
    "df['15K_20K_SECTION_TIME'] = df['20K_MINS']  - df['15K_MINS']"
   ]
  },
  {
   "cell_type": "code",
   "execution_count": 37,
   "metadata": {},
   "outputs": [
    {
     "data": {
      "text/plain": [
       "Oct    13160\n",
       "Apr    11572\n",
       "Name: Month, dtype: int64"
      ]
     },
     "execution_count": 37,
     "metadata": {},
     "output_type": "execute_result"
    }
   ],
   "source": [
    "df.Month.value_counts()"
   ]
  },
  {
   "cell_type": "code",
   "execution_count": 38,
   "metadata": {},
   "outputs": [
    {
     "data": {
      "text/html": [
       "<div>\n",
       "<style scoped>\n",
       "    .dataframe tbody tr th:only-of-type {\n",
       "        vertical-align: middle;\n",
       "    }\n",
       "\n",
       "    .dataframe tbody tr th {\n",
       "        vertical-align: top;\n",
       "    }\n",
       "\n",
       "    .dataframe thead th {\n",
       "        text-align: right;\n",
       "    }\n",
       "</style>\n",
       "<table border=\"1\" class=\"dataframe\">\n",
       "  <thead>\n",
       "    <tr style=\"text-align: right;\">\n",
       "      <th></th>\n",
       "      <th>Month</th>\n",
       "      <th>num_runners</th>\n",
       "      <th>time_mins</th>\n",
       "    </tr>\n",
       "  </thead>\n",
       "  <tbody>\n",
       "    <tr>\n",
       "      <th>0</th>\n",
       "      <td>Apr</td>\n",
       "      <td>11572</td>\n",
       "      <td>130.399274</td>\n",
       "    </tr>\n",
       "    <tr>\n",
       "      <th>1</th>\n",
       "      <td>Oct</td>\n",
       "      <td>13160</td>\n",
       "      <td>130.934758</td>\n",
       "    </tr>\n",
       "  </tbody>\n",
       "</table>\n",
       "</div>"
      ],
      "text/plain": [
       "  Month  num_runners   time_mins\n",
       "0   Apr        11572  130.399274\n",
       "1   Oct        13160  130.934758"
      ]
     },
     "execution_count": 38,
     "metadata": {},
     "output_type": "execute_result"
    }
   ],
   "source": [
    "# Now Find the means for each section and Category\n",
    "df.groupby (['Month' ] ).agg (\n",
    "     num_runners=('RACE_NUMBER', 'count' )\n",
    "    ,time_mins = ('CHIP_TIME_MINS', 'mean' )\n",
    ").reset_index(drop=False)\n",
    "#df_agg1.sort_values('CATEGORY')"
   ]
  },
  {
   "cell_type": "code",
   "execution_count": 39,
   "metadata": {},
   "outputs": [],
   "source": [
    "df.loc [ df.CATEGORY.isna(), 'CATEGORY'] = 'NOT_GIVEN'\n",
    "# There are two 'NOT_GIVEN' rows - drop them\n",
    "\n",
    "df = df [ df.CATEGORY != 'NOT_GIVEN'  ]"
   ]
  },
  {
   "cell_type": "markdown",
   "metadata": {},
   "source": [
    "#### Columns"
   ]
  },
  {
   "cell_type": "code",
   "execution_count": 40,
   "metadata": {},
   "outputs": [
    {
     "data": {
      "text/plain": [
       "Index(['RACE_NUMBER', 'FIRST_NAME', 'SURNAME', 'GENDER', 'GENDER_POSITION',\n",
       "       'CATEGORY', 'CATEGORY_POSITION', 'CLUB', '5K', '10K', '15K', '20K',\n",
       "       'OVERALL_POSITION', 'CHIP_TIME', 'CHIP_POSITION', 'CHIP_TIME_MINS',\n",
       "       '5K_MINS', '10K_MINS', '15K_MINS', '20K_MINS', 'min_per_km_course',\n",
       "       'min_per_km_0_5', 'min_per_km_6_10', 'min_per_km_11_15',\n",
       "       'min_per_km_16_20', 'min_per_km_21_FINISH', '5K_10K_SECTION_TIME',\n",
       "       '10K_15K_SECTION_TIME', '15K_20K_SECTION_TIME', 'Month',\n",
       "       '0K_5K_SECTION_TIME'],\n",
       "      dtype='object')"
      ]
     },
     "execution_count": 40,
     "metadata": {},
     "output_type": "execute_result"
    }
   ],
   "source": [
    "df.columns"
   ]
  },
  {
   "cell_type": "markdown",
   "metadata": {},
   "source": [
    "#### How can we group up the ages"
   ]
  },
  {
   "cell_type": "code",
   "execution_count": 41,
   "metadata": {
    "scrolled": true
   },
   "outputs": [
    {
     "data": {
      "text/html": [
       "<div>\n",
       "<style scoped>\n",
       "    .dataframe tbody tr th:only-of-type {\n",
       "        vertical-align: middle;\n",
       "    }\n",
       "\n",
       "    .dataframe tbody tr th {\n",
       "        vertical-align: top;\n",
       "    }\n",
       "\n",
       "    .dataframe thead tr th {\n",
       "        text-align: left;\n",
       "    }\n",
       "\n",
       "    .dataframe thead tr:last-of-type th {\n",
       "        text-align: right;\n",
       "    }\n",
       "</style>\n",
       "<table border=\"1\" class=\"dataframe\">\n",
       "  <thead>\n",
       "    <tr>\n",
       "      <th></th>\n",
       "      <th colspan=\"2\" halign=\"left\">time_mins</th>\n",
       "      <th colspan=\"2\" halign=\"left\">num_runners</th>\n",
       "    </tr>\n",
       "    <tr>\n",
       "      <th>Month</th>\n",
       "      <th>Apr</th>\n",
       "      <th>Oct</th>\n",
       "      <th>Apr</th>\n",
       "      <th>Oct</th>\n",
       "    </tr>\n",
       "    <tr>\n",
       "      <th>CATEGORY</th>\n",
       "      <th></th>\n",
       "      <th></th>\n",
       "      <th></th>\n",
       "      <th></th>\n",
       "    </tr>\n",
       "  </thead>\n",
       "  <tbody>\n",
       "    <tr>\n",
       "      <th>F35+</th>\n",
       "      <td>139.420428</td>\n",
       "      <td>139.701900</td>\n",
       "      <td>740.0</td>\n",
       "      <td>763.0</td>\n",
       "    </tr>\n",
       "    <tr>\n",
       "      <th>F40+</th>\n",
       "      <td>141.822846</td>\n",
       "      <td>141.804206</td>\n",
       "      <td>828.0</td>\n",
       "      <td>852.0</td>\n",
       "    </tr>\n",
       "    <tr>\n",
       "      <th>F45+</th>\n",
       "      <td>143.585848</td>\n",
       "      <td>142.845796</td>\n",
       "      <td>729.0</td>\n",
       "      <td>670.0</td>\n",
       "    </tr>\n",
       "  </tbody>\n",
       "</table>\n",
       "</div>"
      ],
      "text/plain": [
       "           time_mins             num_runners       \n",
       "Month            Apr         Oct         Apr    Oct\n",
       "CATEGORY                                           \n",
       "F35+      139.420428  139.701900       740.0  763.0\n",
       "F40+      141.822846  141.804206       828.0  852.0\n",
       "F45+      143.585848  142.845796       729.0  670.0"
      ]
     },
     "execution_count": 41,
     "metadata": {},
     "output_type": "execute_result"
    }
   ],
   "source": [
    "# Now Find the means for each section and Category\n",
    "df_agg1 =   df.groupby (['CATEGORY', 'Month' ] ).agg (\n",
    "     num_runners=('RACE_NUMBER', 'count' )\n",
    "    ,time_mins = ('CHIP_TIME_MINS', 'mean' )\n",
    ").reset_index(drop=False)\n",
    "df_agg1 = df_agg1.sort_values('CATEGORY')\n",
    "\n",
    "df_piv = df_agg1.reset_index().pivot( index='CATEGORY' , columns='Month', values=['time_mins', 'num_runners'] ).fillna(0)\n",
    "df_piv.head (3)\n"
   ]
  },
  {
   "cell_type": "code",
   "execution_count": 28,
   "metadata": {},
   "outputs": [
    {
     "data": {
      "text/html": [
       "<div>\n",
       "<style scoped>\n",
       "    .dataframe tbody tr th:only-of-type {\n",
       "        vertical-align: middle;\n",
       "    }\n",
       "\n",
       "    .dataframe tbody tr th {\n",
       "        vertical-align: top;\n",
       "    }\n",
       "\n",
       "    .dataframe thead th {\n",
       "        text-align: right;\n",
       "    }\n",
       "</style>\n",
       "<table border=\"1\" class=\"dataframe\">\n",
       "  <thead>\n",
       "    <tr style=\"text-align: right;\">\n",
       "      <th></th>\n",
       "      <th>time_mins_Apr</th>\n",
       "      <th>time_mins_Oct</th>\n",
       "      <th>num_runners_Apr</th>\n",
       "      <th>num_runners_Oct</th>\n",
       "    </tr>\n",
       "    <tr>\n",
       "      <th>CATEGORY</th>\n",
       "      <th></th>\n",
       "      <th></th>\n",
       "      <th></th>\n",
       "      <th></th>\n",
       "    </tr>\n",
       "  </thead>\n",
       "  <tbody>\n",
       "    <tr>\n",
       "      <th>F35+</th>\n",
       "      <td>139.420428</td>\n",
       "      <td>139.701900</td>\n",
       "      <td>740.0</td>\n",
       "      <td>763.0</td>\n",
       "    </tr>\n",
       "    <tr>\n",
       "      <th>F40+</th>\n",
       "      <td>141.822846</td>\n",
       "      <td>141.804206</td>\n",
       "      <td>828.0</td>\n",
       "      <td>852.0</td>\n",
       "    </tr>\n",
       "    <tr>\n",
       "      <th>F45+</th>\n",
       "      <td>143.585848</td>\n",
       "      <td>142.845796</td>\n",
       "      <td>729.0</td>\n",
       "      <td>670.0</td>\n",
       "    </tr>\n",
       "    <tr>\n",
       "      <th>F50+</th>\n",
       "      <td>147.560999</td>\n",
       "      <td>145.279279</td>\n",
       "      <td>544.0</td>\n",
       "      <td>596.0</td>\n",
       "    </tr>\n",
       "    <tr>\n",
       "      <th>F55+</th>\n",
       "      <td>146.216565</td>\n",
       "      <td>148.149046</td>\n",
       "      <td>329.0</td>\n",
       "      <td>332.0</td>\n",
       "    </tr>\n",
       "    <tr>\n",
       "      <th>F60+</th>\n",
       "      <td>155.955839</td>\n",
       "      <td>146.978132</td>\n",
       "      <td>137.0</td>\n",
       "      <td>141.0</td>\n",
       "    </tr>\n",
       "    <tr>\n",
       "      <th>F65+</th>\n",
       "      <td>159.245635</td>\n",
       "      <td>155.558333</td>\n",
       "      <td>42.0</td>\n",
       "      <td>60.0</td>\n",
       "    </tr>\n",
       "    <tr>\n",
       "      <th>F70+</th>\n",
       "      <td>170.104167</td>\n",
       "      <td>164.204167</td>\n",
       "      <td>8.0</td>\n",
       "      <td>24.0</td>\n",
       "    </tr>\n",
       "    <tr>\n",
       "      <th>F75+</th>\n",
       "      <td>180.940000</td>\n",
       "      <td>170.166667</td>\n",
       "      <td>5.0</td>\n",
       "      <td>4.0</td>\n",
       "    </tr>\n",
       "    <tr>\n",
       "      <th>FOPEN</th>\n",
       "      <td>139.085179</td>\n",
       "      <td>141.081022</td>\n",
       "      <td>1815.0</td>\n",
       "      <td>2279.0</td>\n",
       "    </tr>\n",
       "  </tbody>\n",
       "</table>\n",
       "</div>"
      ],
      "text/plain": [
       "          time_mins_Apr  time_mins_Oct  num_runners_Apr  num_runners_Oct\n",
       "CATEGORY                                                                \n",
       "F35+         139.420428     139.701900            740.0            763.0\n",
       "F40+         141.822846     141.804206            828.0            852.0\n",
       "F45+         143.585848     142.845796            729.0            670.0\n",
       "F50+         147.560999     145.279279            544.0            596.0\n",
       "F55+         146.216565     148.149046            329.0            332.0\n",
       "F60+         155.955839     146.978132            137.0            141.0\n",
       "F65+         159.245635     155.558333             42.0             60.0\n",
       "F70+         170.104167     164.204167              8.0             24.0\n",
       "F75+         180.940000     170.166667              5.0              4.0\n",
       "FOPEN        139.085179     141.081022           1815.0           2279.0"
      ]
     },
     "execution_count": 28,
     "metadata": {},
     "output_type": "execute_result"
    }
   ],
   "source": [
    "def flattenHierarchicalCol(col,sep = '_'):\n",
    "    if not type(col) is tuple:\n",
    "        return col\n",
    "    else:\n",
    "        new_col = ''\n",
    "        for leveli,level in enumerate(col):\n",
    "            if not level == '':\n",
    "                if not leveli == 0:\n",
    "                    new_col += sep\n",
    "                new_col += level\n",
    "        return new_col\n",
    "\n",
    "df_piv.columns = df_piv.columns.map(flattenHierarchicalCol)\n",
    "df_piv.head(10)\n"
   ]
  },
  {
   "cell_type": "markdown",
   "metadata": {},
   "source": [
    "#### Recategorize"
   ]
  },
  {
   "cell_type": "code",
   "execution_count": 42,
   "metadata": {},
   "outputs": [],
   "source": [
    "df['SPEED_CATEGORY'] = \"Normal\""
   ]
  },
  {
   "cell_type": "code",
   "execution_count": 43,
   "metadata": {},
   "outputs": [],
   "source": [
    "#df.loc [df.CATEGORY.fillna ('No').str.contains ('OPEN')  , 'ENTRY_STATUS'] = \"Elite\"\n",
    "\n",
    "boolIndex = np.logical_and ( df.CHIP_TIME_MINS <= 60 + 30  , df.GENDER== 'Male')\n",
    "df.loc [ boolIndex , 'SPEED_CATEGORY']  = 'Elite'\n",
    "\n",
    "boolIndex = np.logical_and ( df.CHIP_TIME_MINS <= 60 + 40 , df.GENDER== 'Female')\n",
    "df.loc [ boolIndex , 'SPEED_CATEGORY']  = 'Elite'"
   ]
  },
  {
   "cell_type": "markdown",
   "metadata": {},
   "source": [
    "#### label our rows in the dataset.\n",
    "\n"
   ]
  },
  {
   "cell_type": "code",
   "execution_count": 44,
   "metadata": {},
   "outputs": [],
   "source": [
    "\n",
    "boolIndex =    ( df.FIRST_NAME.str.contains ('Ellena') ) &\\\n",
    "               ( df.SURNAME.str.contains ( 'Green') )    &\\\n",
    "               (  df.Month == \"Apr\" )\n",
    "\n",
    "df.loc [ boolIndex , 'SPEED_CATEGORY']  = 'Us_Apr'\n",
    "\n",
    "\n",
    "\n",
    "boolIndex =    ( df.FIRST_NAME.str.contains ('Ellena') ) &\\\n",
    "               ( df.SURNAME.str.contains ( 'Green') )    &\\\n",
    "               (  df.Month == \"Oct\" )\n",
    "\n",
    "df.loc [ boolIndex , 'SPEED_CATEGORY']  = 'Us_Oct'\n",
    "\n",
    "\n",
    "boolIndex =    ( df.FIRST_NAME.str.contains ('John') ) &\\\n",
    "               ( df.SURNAME.str.contains ( 'Steedman') )&\\\n",
    "               (  df.Month == \"Apr\" )\n",
    "\n",
    "df.loc [ boolIndex , 'SPEED_CATEGORY']  = 'Us_Apr'\n",
    "\n",
    "\n",
    "boolIndex =    ( df.FIRST_NAME.str.contains ('John') ) &\\\n",
    "               ( df.SURNAME.str.contains ( 'Steedman') )&\\\n",
    "               (  df.Month == \"Oct\" )\n",
    "\n",
    "df.loc [ boolIndex , 'SPEED_CATEGORY']  = 'Us_Oct'\n"
   ]
  },
  {
   "cell_type": "code",
   "execution_count": 45,
   "metadata": {},
   "outputs": [
    {
     "data": {
      "text/plain": [
       "False    24729\n",
       "True         1\n",
       "dtype: int64"
      ]
     },
     "execution_count": 45,
     "metadata": {},
     "output_type": "execute_result"
    }
   ],
   "source": [
    "boolIndex.value_counts()"
   ]
  },
  {
   "cell_type": "code",
   "execution_count": 46,
   "metadata": {},
   "outputs": [
    {
     "data": {
      "text/plain": [
       "True     13158\n",
       "False    11572\n",
       "Name: Month, dtype: int64"
      ]
     },
     "execution_count": 46,
     "metadata": {},
     "output_type": "execute_result"
    }
   ],
   "source": [
    "(df.Month=='Oct').value_counts()"
   ]
  },
  {
   "cell_type": "code",
   "execution_count": 47,
   "metadata": {},
   "outputs": [
    {
     "data": {
      "text/plain": [
       "Normal    23261\n",
       "Elite      1465\n",
       "Us_Apr        2\n",
       "Us_Oct        2\n",
       "Name: SPEED_CATEGORY, dtype: int64"
      ]
     },
     "execution_count": 47,
     "metadata": {},
     "output_type": "execute_result"
    }
   ],
   "source": [
    "df.SPEED_CATEGORY.value_counts()"
   ]
  },
  {
   "cell_type": "code",
   "execution_count": 48,
   "metadata": {},
   "outputs": [
    {
     "data": {
      "text/html": [
       "<div>\n",
       "<style scoped>\n",
       "    .dataframe tbody tr th:only-of-type {\n",
       "        vertical-align: middle;\n",
       "    }\n",
       "\n",
       "    .dataframe tbody tr th {\n",
       "        vertical-align: top;\n",
       "    }\n",
       "\n",
       "    .dataframe thead th {\n",
       "        text-align: right;\n",
       "    }\n",
       "</style>\n",
       "<table border=\"1\" class=\"dataframe\">\n",
       "  <thead>\n",
       "    <tr style=\"text-align: right;\">\n",
       "      <th></th>\n",
       "      <th>SPEED_CATEGORY</th>\n",
       "      <th>GENDER</th>\n",
       "      <th>Month</th>\n",
       "      <th>num_runners</th>\n",
       "      <th>time_mins</th>\n",
       "    </tr>\n",
       "  </thead>\n",
       "  <tbody>\n",
       "    <tr>\n",
       "      <th>0</th>\n",
       "      <td>Elite</td>\n",
       "      <td>Female</td>\n",
       "      <td>Apr</td>\n",
       "      <td>146</td>\n",
       "      <td>92.481164</td>\n",
       "    </tr>\n",
       "    <tr>\n",
       "      <th>1</th>\n",
       "      <td>Elite</td>\n",
       "      <td>Female</td>\n",
       "      <td>Oct</td>\n",
       "      <td>204</td>\n",
       "      <td>90.855801</td>\n",
       "    </tr>\n",
       "    <tr>\n",
       "      <th>2</th>\n",
       "      <td>Elite</td>\n",
       "      <td>Male</td>\n",
       "      <td>Apr</td>\n",
       "      <td>488</td>\n",
       "      <td>82.655977</td>\n",
       "    </tr>\n",
       "    <tr>\n",
       "      <th>3</th>\n",
       "      <td>Elite</td>\n",
       "      <td>Male</td>\n",
       "      <td>Oct</td>\n",
       "      <td>627</td>\n",
       "      <td>81.603402</td>\n",
       "    </tr>\n",
       "    <tr>\n",
       "      <th>4</th>\n",
       "      <td>Normal</td>\n",
       "      <td>Female</td>\n",
       "      <td>Apr</td>\n",
       "      <td>5030</td>\n",
       "      <td>143.687247</td>\n",
       "    </tr>\n",
       "    <tr>\n",
       "      <th>5</th>\n",
       "      <td>Normal</td>\n",
       "      <td>Female</td>\n",
       "      <td>Oct</td>\n",
       "      <td>5516</td>\n",
       "      <td>144.383883</td>\n",
       "    </tr>\n",
       "    <tr>\n",
       "      <th>6</th>\n",
       "      <td>Normal</td>\n",
       "      <td>Male</td>\n",
       "      <td>Apr</td>\n",
       "      <td>5906</td>\n",
       "      <td>123.961147</td>\n",
       "    </tr>\n",
       "    <tr>\n",
       "      <th>7</th>\n",
       "      <td>Normal</td>\n",
       "      <td>Male</td>\n",
       "      <td>Oct</td>\n",
       "      <td>6809</td>\n",
       "      <td>125.796245</td>\n",
       "    </tr>\n",
       "    <tr>\n",
       "      <th>8</th>\n",
       "      <td>Us_Apr</td>\n",
       "      <td>Female</td>\n",
       "      <td>Apr</td>\n",
       "      <td>1</td>\n",
       "      <td>163.250000</td>\n",
       "    </tr>\n",
       "    <tr>\n",
       "      <th>9</th>\n",
       "      <td>Us_Apr</td>\n",
       "      <td>Male</td>\n",
       "      <td>Apr</td>\n",
       "      <td>1</td>\n",
       "      <td>117.400000</td>\n",
       "    </tr>\n",
       "    <tr>\n",
       "      <th>10</th>\n",
       "      <td>Us_Oct</td>\n",
       "      <td>Female</td>\n",
       "      <td>Oct</td>\n",
       "      <td>1</td>\n",
       "      <td>134.900000</td>\n",
       "    </tr>\n",
       "    <tr>\n",
       "      <th>11</th>\n",
       "      <td>Us_Oct</td>\n",
       "      <td>Male</td>\n",
       "      <td>Oct</td>\n",
       "      <td>1</td>\n",
       "      <td>109.066667</td>\n",
       "    </tr>\n",
       "  </tbody>\n",
       "</table>\n",
       "</div>"
      ],
      "text/plain": [
       "   SPEED_CATEGORY  GENDER Month  num_runners   time_mins\n",
       "0           Elite  Female   Apr          146   92.481164\n",
       "1           Elite  Female   Oct          204   90.855801\n",
       "2           Elite    Male   Apr          488   82.655977\n",
       "3           Elite    Male   Oct          627   81.603402\n",
       "4          Normal  Female   Apr         5030  143.687247\n",
       "5          Normal  Female   Oct         5516  144.383883\n",
       "6          Normal    Male   Apr         5906  123.961147\n",
       "7          Normal    Male   Oct         6809  125.796245\n",
       "8          Us_Apr  Female   Apr            1  163.250000\n",
       "9          Us_Apr    Male   Apr            1  117.400000\n",
       "10         Us_Oct  Female   Oct            1  134.900000\n",
       "11         Us_Oct    Male   Oct            1  109.066667"
      ]
     },
     "execution_count": 48,
     "metadata": {},
     "output_type": "execute_result"
    }
   ],
   "source": [
    "# Now Find the means for each section and Category\n",
    "df_agg1 =   df.groupby (['SPEED_CATEGORY',  'GENDER', 'Month' ] ).agg (\n",
    "     num_runners=('RACE_NUMBER', 'count' )\n",
    "    ,time_mins = ('CHIP_TIME_MINS', 'mean' )\n",
    ").reset_index(drop=False)\n",
    "df_agg1.sort_values('SPEED_CATEGORY')"
   ]
  },
  {
   "cell_type": "markdown",
   "metadata": {},
   "source": [
    "#### Get a Long Data Frame"
   ]
  },
  {
   "cell_type": "code",
   "execution_count": 55,
   "metadata": {},
   "outputs": [],
   "source": [
    "# Create a new frame indexed by gender, category and race section.\n",
    "# This is so that mean times/speeds can be calculated for gruoups.\n",
    "\n",
    "df_long = pd.concat ( [\n",
    "\n",
    "DataFrame ({               'GENDER'    : df.GENDER,\\\n",
    "                          'SPEED_CATEGORY'   : df.SPEED_CATEGORY,\\\n",
    "                          'SECTION_TIME': df['0K_5K_SECTION_TIME'],\n",
    "                          'SECTION'   :'0-5' })\n",
    ",\n",
    "DataFrame ({                'GENDER'   : df.GENDER,\\\n",
    "                            'SPEED_CATEGORY'  : df.SPEED_CATEGORY,\\\n",
    "                            'SECTION_TIME': df['5K_10K_SECTION_TIME'],\\\n",
    "                            'SECTION'   :'6-10' })\n",
    ",\n",
    "DataFrame ({                'GENDER'   : df.GENDER,\\\n",
    "                            'SPEED_CATEGORY'  : df.SPEED_CATEGORY,\\\n",
    "                            'SECTION_TIME': df['10K_15K_SECTION_TIME'],\\\n",
    "                            'SECTION'   :'11-15' })\n",
    ",\n",
    "DataFrame ({                'GENDER'   : df.GENDER,\\\n",
    "                            'SPEED_CATEGORY'  : df.SPEED_CATEGORY,\\\n",
    "                            'SECTION_TIME': df['15K_20K_SECTION_TIME'],\\\n",
    "                            'SECTION'   :'16-20' })\n",
    "#,\n",
    "#DataFrame ({ 'GENDER'   : df.GENDER,\\\n",
    "#                            'ELITE_STATUS'  : df.ENTRY_STATUS,\\\n",
    "#                            'SECTION_TIME': df.min_per_km_16_20,\\\n",
    "#                            'SECTION'   :'min_per_km_21_FINISH' })\n",
    "\n",
    "]\n",
    ")"
   ]
  },
  {
   "cell_type": "code",
   "execution_count": 50,
   "metadata": {},
   "outputs": [],
   "source": [
    "# Now Find the means for each section and Category\n",
    "df_agg1 =   df_long.groupby (['SPEED_CATEGORY', 'GENDER',\"SECTION\"] ).agg (\n",
    "     SECTION_TIME=('SECTION_TIME', 'mean' )\n",
    "    ,NUM_RUNNERS=('SECTION_TIME', 'count' )\n",
    ").reset_index(drop=False)"
   ]
  },
  {
   "cell_type": "code",
   "execution_count": 51,
   "metadata": {},
   "outputs": [
    {
     "data": {
      "text/html": [
       "<div>\n",
       "<style scoped>\n",
       "    .dataframe tbody tr th:only-of-type {\n",
       "        vertical-align: middle;\n",
       "    }\n",
       "\n",
       "    .dataframe tbody tr th {\n",
       "        vertical-align: top;\n",
       "    }\n",
       "\n",
       "    .dataframe thead th {\n",
       "        text-align: right;\n",
       "    }\n",
       "</style>\n",
       "<table border=\"1\" class=\"dataframe\">\n",
       "  <thead>\n",
       "    <tr style=\"text-align: right;\">\n",
       "      <th></th>\n",
       "      <th>SPEED_CATEGORY</th>\n",
       "      <th>GENDER</th>\n",
       "      <th>SECTION</th>\n",
       "      <th>SECTION_TIME</th>\n",
       "      <th>NUM_RUNNERS</th>\n",
       "    </tr>\n",
       "  </thead>\n",
       "  <tbody>\n",
       "    <tr>\n",
       "      <th>0</th>\n",
       "      <td>Elite</td>\n",
       "      <td>Female</td>\n",
       "      <td>0-5</td>\n",
       "      <td>21.203238</td>\n",
       "      <td>350</td>\n",
       "    </tr>\n",
       "    <tr>\n",
       "      <th>1</th>\n",
       "      <td>Elite</td>\n",
       "      <td>Female</td>\n",
       "      <td>11-15</td>\n",
       "      <td>21.859619</td>\n",
       "      <td>350</td>\n",
       "    </tr>\n",
       "    <tr>\n",
       "      <th>2</th>\n",
       "      <td>Elite</td>\n",
       "      <td>Female</td>\n",
       "      <td>16-20</td>\n",
       "      <td>22.359190</td>\n",
       "      <td>350</td>\n",
       "    </tr>\n",
       "    <tr>\n",
       "      <th>3</th>\n",
       "      <td>Elite</td>\n",
       "      <td>Female</td>\n",
       "      <td>6-10</td>\n",
       "      <td>21.553476</td>\n",
       "      <td>350</td>\n",
       "    </tr>\n",
       "    <tr>\n",
       "      <th>4</th>\n",
       "      <td>Elite</td>\n",
       "      <td>Male</td>\n",
       "      <td>0-5</td>\n",
       "      <td>19.056682</td>\n",
       "      <td>1115</td>\n",
       "    </tr>\n",
       "  </tbody>\n",
       "</table>\n",
       "</div>"
      ],
      "text/plain": [
       "  SPEED_CATEGORY  GENDER SECTION  SECTION_TIME  NUM_RUNNERS\n",
       "0          Elite  Female     0-5     21.203238          350\n",
       "1          Elite  Female   11-15     21.859619          350\n",
       "2          Elite  Female   16-20     22.359190          350\n",
       "3          Elite  Female    6-10     21.553476          350\n",
       "4          Elite    Male     0-5     19.056682         1115"
      ]
     },
     "execution_count": 51,
     "metadata": {},
     "output_type": "execute_result"
    }
   ],
   "source": [
    "df_agg1.head()"
   ]
  },
  {
   "cell_type": "code",
   "execution_count": 52,
   "metadata": {},
   "outputs": [
    {
     "data": {
      "text/html": [
       "<div>\n",
       "<style scoped>\n",
       "    .dataframe tbody tr th:only-of-type {\n",
       "        vertical-align: middle;\n",
       "    }\n",
       "\n",
       "    .dataframe tbody tr th {\n",
       "        vertical-align: top;\n",
       "    }\n",
       "\n",
       "    .dataframe thead th {\n",
       "        text-align: right;\n",
       "    }\n",
       "</style>\n",
       "<table border=\"1\" class=\"dataframe\">\n",
       "  <thead>\n",
       "    <tr style=\"text-align: right;\">\n",
       "      <th></th>\n",
       "      <th>SPEED_CATEGORY</th>\n",
       "      <th>GENDER</th>\n",
       "      <th>SECTION</th>\n",
       "      <th>SECTION_TIME</th>\n",
       "      <th>NUM_RUNNERS</th>\n",
       "      <th>sort_order</th>\n",
       "    </tr>\n",
       "  </thead>\n",
       "  <tbody>\n",
       "    <tr>\n",
       "      <th>0</th>\n",
       "      <td>Elite</td>\n",
       "      <td>Female</td>\n",
       "      <td>0-5</td>\n",
       "      <td>21.203238</td>\n",
       "      <td>350</td>\n",
       "      <td>1</td>\n",
       "    </tr>\n",
       "    <tr>\n",
       "      <th>28</th>\n",
       "      <td>Us_Oct</td>\n",
       "      <td>Male</td>\n",
       "      <td>0-5</td>\n",
       "      <td>23.816667</td>\n",
       "      <td>1</td>\n",
       "      <td>1</td>\n",
       "    </tr>\n",
       "  </tbody>\n",
       "</table>\n",
       "</div>"
      ],
      "text/plain": [
       "   SPEED_CATEGORY  GENDER SECTION  SECTION_TIME  NUM_RUNNERS  sort_order\n",
       "0           Elite  Female     0-5     21.203238          350           1\n",
       "28         Us_Oct    Male     0-5     23.816667            1           1"
      ]
     },
     "execution_count": 52,
     "metadata": {},
     "output_type": "execute_result"
    }
   ],
   "source": [
    "# Need to sort this data frame by section\n",
    "\n",
    "codes = {'0-5':1 , '6-10':2, '11-15':3, '16-20': 4}\n",
    "df_agg1['sort_order'] = df_agg1['SECTION'].map(codes)\n",
    "df_agg1 = df_agg1.sort_values (['sort_order'])\n",
    "df_agg1.head(2)"
   ]
  },
  {
   "cell_type": "code",
   "execution_count": 54,
   "metadata": {
    "scrolled": true
   },
   "outputs": [
    {
     "data": {
      "text/plain": [
       "[Text(0, 0.5, 'Section Time (mins)'), Text(0.5, 0, 'Race Sections')]"
      ]
     },
     "execution_count": 54,
     "metadata": {},
     "output_type": "execute_result"
    },
    {
     "data": {
      "image/png": "[encoded data removed]",
      "text/plain": [
       "<Figure size 720x576 with 1 Axes>"
      ]
     },
     "metadata": {
      "needs_background": "light"
     },
     "output_type": "display_data"
    }
   ],
   "source": [
    "df_agg1['CAT2'] = df_agg1['SPEED_CATEGORY'] + df_agg1['GENDER']\n",
    " \n",
    "fig, ax = plt.subplots()\n",
    "fig.set_size_inches(10, 8)\n",
    "\n",
    "plt.title (\"5 K Race Section Times\")\n",
    "\n",
    "g = sns.lineplot ( data = df_agg1, \n",
    "             x= \"SECTION\", \n",
    "              y=\"SECTION_TIME\",\n",
    "             hue)\n",
    "\n",
    "g.set(xlabel=\"Race Sections\", ylabel=\"Section Time (mins)\")\n",
    "\n",
    "#ax.set_ylim (bottom=4)"
   ]
  },
  {
   "cell_type": "markdown",
   "metadata": {},
   "source": [
    "# Observations\n",
    "1) Ellena crossed average female time\n",
    "2) Ellena is a good finisher\n",
    "3) I was consistently better in the second race but need to work on a smoother pace throughout.\n"
   ]
  }
 ],
 "metadata": {
  "kernelspec": {
   "display_name": "Python 3",
   "language": "python",
   "name": "python3"
  },
  "language_info": {
   "codemirror_mode": {
    "name": "ipython",
    "version": 3
   },
   "file_extension": ".py",
   "mimetype": "text/x-python",
   "name": "python",
   "nbconvert_exporter": "python",
   "pygments_lexer": "ipython3",
   "version": "3.7.6"
  }
 },
 "nbformat": 4,
 "nbformat_minor": 4
}
