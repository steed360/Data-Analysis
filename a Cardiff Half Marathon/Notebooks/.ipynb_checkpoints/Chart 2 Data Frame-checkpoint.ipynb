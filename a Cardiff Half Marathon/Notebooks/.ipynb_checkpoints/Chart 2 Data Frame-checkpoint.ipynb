{
 "cells": [
  {
   "cell_type": "markdown",
   "metadata": {},
   "source": [
    "## Get Summaries for Visualizing Segment Race Times (and proportions)"
   ]
  },
  {
   "cell_type": "markdown",
   "metadata": {},
   "source": [
    "#### Categorize And Clean Data"
   ]
  },
  {
   "cell_type": "code",
   "execution_count": 1,
   "metadata": {},
   "outputs": [],
   "source": [
    "# Try to use Seaborn/Matplotlib to replicate another cool viz from Cole Nusaumbber Knaflic's book Storytelling with Data.\n",
    "# Inspiration from :\n",
    "# https://github.com/adamribaudo/storytelling-with-data-ggplot\n",
    "# Using code from the excellent:\n",
    "# https://github.com/empathy87/storytelling-with-data\n",
    "\n",
    "## Import libraries\n",
    "import numpy as np\n",
    "import matplotlib\n",
    "import matplotlib.pyplot as plt \n",
    "from matplotlib import transforms\n",
    "import pandas as pd\n",
    "import seaborn as sns\n",
    "from matplotlib.ticker import FixedLocator, FixedFormatter\n",
    "from pandas import DataFrame\n",
    "\n",
    "%matplotlib inline"
   ]
  },
  {
   "cell_type": "code",
   "execution_count": 2,
   "metadata": {},
   "outputs": [],
   "source": [
    "df_Apr = pd.read_csv ('..\\Data\\April_2022.csv'  )\n",
    "df_Apr['Month'] = \"Apr\"\n",
    "\n",
    "df_Oct= pd.read_csv ('..\\Data\\October_2022.csv'  )\n",
    "df_Oct['Month'] = \"Oct\""
   ]
  },
  {
   "cell_type": "code",
   "execution_count": 3,
   "metadata": {},
   "outputs": [],
   "source": [
    "df = pd.concat  ( [  df_Apr , df_Oct ] )"
   ]
  },
  {
   "cell_type": "markdown",
   "metadata": {},
   "source": [
    "#### Calculate Section Times"
   ]
  },
  {
   "cell_type": "code",
   "execution_count": 71,
   "metadata": {},
   "outputs": [],
   "source": [
    "df['0-5km']   = df['5K_MINS']\n",
    "df['5-10km']  = df['10K_MINS']  - df['5K_MINS']\n",
    "df['10-15km'] = df['15K_MINS']  - df['10K_MINS']\n",
    "df['15-20km'] = df['20K_MINS']  - df['15K_MINS']"
   ]
  },
  {
   "cell_type": "code",
   "execution_count": 72,
   "metadata": {},
   "outputs": [
    {
     "data": {
      "text/plain": [
       "Oct    13158\n",
       "Apr    11572\n",
       "Name: Month, dtype: int64"
      ]
     },
     "execution_count": 72,
     "metadata": {},
     "output_type": "execute_result"
    }
   ],
   "source": [
    "df.Month.value_counts()"
   ]
  },
  {
   "cell_type": "code",
   "execution_count": 73,
   "metadata": {},
   "outputs": [
    {
     "data": {
      "text/html": [
       "<div>\n",
       "<style scoped>\n",
       "    .dataframe tbody tr th:only-of-type {\n",
       "        vertical-align: middle;\n",
       "    }\n",
       "\n",
       "    .dataframe tbody tr th {\n",
       "        vertical-align: top;\n",
       "    }\n",
       "\n",
       "    .dataframe thead th {\n",
       "        text-align: right;\n",
       "    }\n",
       "</style>\n",
       "<table border=\"1\" class=\"dataframe\">\n",
       "  <thead>\n",
       "    <tr style=\"text-align: right;\">\n",
       "      <th></th>\n",
       "      <th>Month</th>\n",
       "      <th>num_runners</th>\n",
       "      <th>time_mins</th>\n",
       "    </tr>\n",
       "  </thead>\n",
       "  <tbody>\n",
       "    <tr>\n",
       "      <th>0</th>\n",
       "      <td>Apr</td>\n",
       "      <td>11572</td>\n",
       "      <td>130.399274</td>\n",
       "    </tr>\n",
       "    <tr>\n",
       "      <th>1</th>\n",
       "      <td>Oct</td>\n",
       "      <td>13158</td>\n",
       "      <td>130.940266</td>\n",
       "    </tr>\n",
       "  </tbody>\n",
       "</table>\n",
       "</div>"
      ],
      "text/plain": [
       "  Month  num_runners   time_mins\n",
       "0   Apr        11572  130.399274\n",
       "1   Oct        13158  130.940266"
      ]
     },
     "execution_count": 73,
     "metadata": {},
     "output_type": "execute_result"
    }
   ],
   "source": [
    "# Now Find the means for each section and Category\n",
    "df.groupby (['Month' ] ).agg (\n",
    "     num_runners=('RACE_NUMBER', 'count' )\n",
    "    ,time_mins = ('CHIP_TIME_MINS', 'mean' )\n",
    ").reset_index(drop=False)\n",
    "#df_agg1.sort_values('CATEGORY')"
   ]
  },
  {
   "cell_type": "code",
   "execution_count": 74,
   "metadata": {},
   "outputs": [],
   "source": [
    "df.loc [ df.CATEGORY.isna(), 'CATEGORY'] = 'NOT_GIVEN'\n",
    "# There are two 'NOT_GIVEN' rows - drop them\n",
    "\n",
    "df = df [ df.CATEGORY != 'NOT_GIVEN'  ]"
   ]
  },
  {
   "cell_type": "markdown",
   "metadata": {},
   "source": [
    "#### Columns"
   ]
  },
  {
   "cell_type": "code",
   "execution_count": 75,
   "metadata": {},
   "outputs": [
    {
     "data": {
      "text/plain": [
       "Index(['RACE_NUMBER', 'FIRST_NAME', 'SURNAME', 'GENDER', 'GENDER_POSITION',\n",
       "       'CATEGORY', 'CATEGORY_POSITION', 'CLUB', '5K', '10K', '15K', '20K',\n",
       "       'OVERALL_POSITION', 'CHIP_TIME', 'CHIP_POSITION', 'CHIP_TIME_MINS',\n",
       "       '5K_MINS', '10K_MINS', '15K_MINS', '20K_MINS', 'min_per_km_course',\n",
       "       'min_per_km_0_5', 'min_per_km_6_10', 'min_per_km_11_15',\n",
       "       'min_per_km_16_20', 'min_per_km_21_FINISH', '5K_10K_SECTION_TIME',\n",
       "       '10K_15K_SECTION_TIME', '15K_20K_SECTION_TIME', 'Month',\n",
       "       '0K_5K_SECTION_TIME', 'ANALYSIS_CATEGORY', 'Label', '0-5km', '5-10km',\n",
       "       '10-15km', '15-20km'],\n",
       "      dtype='object')"
      ]
     },
     "execution_count": 75,
     "metadata": {},
     "output_type": "execute_result"
    }
   ],
   "source": [
    "df.columns"
   ]
  },
  {
   "cell_type": "markdown",
   "metadata": {},
   "source": [
    "#### Utility function"
   ]
  },
  {
   "cell_type": "code",
   "execution_count": 76,
   "metadata": {},
   "outputs": [],
   "source": [
    "def flattenHierarchicalCol(col,sep = '_'):\n",
    "    if not type(col) is tuple:\n",
    "        return col\n",
    "    else:\n",
    "        new_col = ''\n",
    "        for leveli,level in enumerate(col):\n",
    "            if not level == '':\n",
    "                if not leveli == 0:\n",
    "                    new_col += sep\n",
    "                new_col += level\n",
    "        return new_col\n",
    "\n",
    "#df_piv.columns = df_piv.columns.map(flattenHierarchicalCol)\n",
    "#df_piv.head(10)\n"
   ]
  },
  {
   "cell_type": "markdown",
   "metadata": {},
   "source": [
    "#### Recategorize"
   ]
  },
  {
   "cell_type": "code",
   "execution_count": 77,
   "metadata": {},
   "outputs": [],
   "source": [
    "df['ANALYSIS_CATEGORY'] = \"Normal\""
   ]
  },
  {
   "cell_type": "code",
   "execution_count": 78,
   "metadata": {},
   "outputs": [],
   "source": [
    "#df.loc [df.CATEGORY.fillna ('No').str.contains ('OPEN')  , 'ENTRY_STATUS'] = \"Elite\"\n",
    "\n",
    "boolIndex = np.logical_and ( df.CHIP_TIME_MINS <= 60 + 30  , df.GENDER== 'Male')\n",
    "df.loc [ boolIndex , 'ANALYSIS_CATEGORY']  = 'Elite'\n",
    "\n",
    "boolIndex = np.logical_and ( df.CHIP_TIME_MINS <= 60 + 40 , df.GENDER== 'Female')\n",
    "df.loc [ boolIndex , 'ANALYSIS_CATEGORY']  = 'Elite'"
   ]
  },
  {
   "cell_type": "markdown",
   "metadata": {},
   "source": [
    "#### Extract our rows from  the dataset.\n",
    "\n"
   ]
  },
  {
   "cell_type": "code",
   "execution_count": 79,
   "metadata": {},
   "outputs": [],
   "source": [
    "\n",
    "boolIndex =    ( df.FIRST_NAME.str.contains ('Ellena') ) &\\\n",
    "               ( df.SURNAME.str.contains ( 'Green') )    &\\\n",
    "               (  df.Month == \"Apr\" )\n",
    "\n",
    "df.loc [ boolIndex , 'ANALYSIS_CATEGORY']  = 'Us'\n",
    "\n",
    "\n",
    "boolIndex =    ( df.FIRST_NAME.str.contains ('Ellena') ) &\\\n",
    "               ( df.SURNAME.str.contains ( 'Green') )    &\\\n",
    "               (  df.Month == \"Oct\" )\n",
    "\n",
    "df.loc [ boolIndex , 'ANALYSIS_CATEGORY']  = 'Us'\n",
    "\n",
    "\n",
    "\n",
    "boolIndex =    ( df.FIRST_NAME.str.contains ('John') ) &\\\n",
    "               ( df.SURNAME.str.contains ( 'Steedman') )&\\\n",
    "               (  df.Month == \"Apr\" )\n",
    "\n",
    "df.loc [ boolIndex , 'ANALYSIS_CATEGORY']  = 'Us'\n",
    "\n",
    "\n",
    "boolIndex =    ( df.FIRST_NAME.str.contains ('John') ) &\\\n",
    "               ( df.SURNAME.str.contains ( 'Steedman') )&\\\n",
    "               (  df.Month == \"Oct\" )\n",
    "\n",
    "df.loc [ boolIndex , 'ANALYSIS_CATEGORY']  = 'Us'\n"
   ]
  },
  {
   "cell_type": "code",
   "execution_count": 80,
   "metadata": {},
   "outputs": [
    {
     "data": {
      "text/plain": [
       "Normal    23261\n",
       "Elite      1465\n",
       "Us            4\n",
       "Name: ANALYSIS_CATEGORY, dtype: int64"
      ]
     },
     "execution_count": 80,
     "metadata": {},
     "output_type": "execute_result"
    }
   ],
   "source": [
    "df.ANALYSIS_CATEGORY.value_counts()"
   ]
  },
  {
   "cell_type": "markdown",
   "metadata": {},
   "source": [
    "#### Improve the row labelling"
   ]
  },
  {
   "cell_type": "code",
   "execution_count": 81,
   "metadata": {},
   "outputs": [],
   "source": [
    "df['Label'] = df.ANALYSIS_CATEGORY\n",
    "df.loc[(df.Label == 'Us') & (df.GENDER == 'Male') , 'Label'] = 'John'\n",
    "df.loc[(df.Label == 'Us') & (df.GENDER == 'Female') , 'Label'] = 'Ellena'"
   ]
  },
  {
   "cell_type": "markdown",
   "metadata": {},
   "source": [
    "#### Extract the rows for us."
   ]
  },
  {
   "cell_type": "code",
   "execution_count": 102,
   "metadata": {},
   "outputs": [],
   "source": [
    "df_us = df [ df.ANALYSIS_CATEGORY == 'Us']"
   ]
  },
  {
   "cell_type": "markdown",
   "metadata": {},
   "source": [
    "#### Unpivot df_us  in order to do a line plot"
   ]
  },
  {
   "cell_type": "code",
   "execution_count": 107,
   "metadata": {},
   "outputs": [
    {
     "data": {
      "text/html": [
       "<div>\n",
       "<style scoped>\n",
       "    .dataframe tbody tr th:only-of-type {\n",
       "        vertical-align: middle;\n",
       "    }\n",
       "\n",
       "    .dataframe tbody tr th {\n",
       "        vertical-align: top;\n",
       "    }\n",
       "\n",
       "    .dataframe thead th {\n",
       "        text-align: right;\n",
       "    }\n",
       "</style>\n",
       "<table border=\"1\" class=\"dataframe\">\n",
       "  <thead>\n",
       "    <tr style=\"text-align: right;\">\n",
       "      <th></th>\n",
       "      <th>Label</th>\n",
       "      <th>CHIP_TIME_MINS</th>\n",
       "      <th>Month</th>\n",
       "      <th>SECTION</th>\n",
       "      <th>time_mins</th>\n",
       "    </tr>\n",
       "  </thead>\n",
       "  <tbody>\n",
       "    <tr>\n",
       "      <th>0</th>\n",
       "      <td>John</td>\n",
       "      <td>117.400000</td>\n",
       "      <td>Apr</td>\n",
       "      <td>0-5km</td>\n",
       "      <td>24.500000</td>\n",
       "    </tr>\n",
       "    <tr>\n",
       "      <th>1</th>\n",
       "      <td>Ellena</td>\n",
       "      <td>163.250000</td>\n",
       "      <td>Apr</td>\n",
       "      <td>0-5km</td>\n",
       "      <td>36.416667</td>\n",
       "    </tr>\n",
       "    <tr>\n",
       "      <th>2</th>\n",
       "      <td>John</td>\n",
       "      <td>109.066667</td>\n",
       "      <td>Oct</td>\n",
       "      <td>0-5km</td>\n",
       "      <td>23.816667</td>\n",
       "    </tr>\n",
       "    <tr>\n",
       "      <th>3</th>\n",
       "      <td>Ellena</td>\n",
       "      <td>134.900000</td>\n",
       "      <td>Oct</td>\n",
       "      <td>0-5km</td>\n",
       "      <td>29.833333</td>\n",
       "    </tr>\n",
       "    <tr>\n",
       "      <th>4</th>\n",
       "      <td>John</td>\n",
       "      <td>117.400000</td>\n",
       "      <td>Apr</td>\n",
       "      <td>5-10km</td>\n",
       "      <td>27.416667</td>\n",
       "    </tr>\n",
       "  </tbody>\n",
       "</table>\n",
       "</div>"
      ],
      "text/plain": [
       "    Label  CHIP_TIME_MINS Month SECTION  time_mins\n",
       "0    John      117.400000   Apr   0-5km  24.500000\n",
       "1  Ellena      163.250000   Apr   0-5km  36.416667\n",
       "2    John      109.066667   Oct   0-5km  23.816667\n",
       "3  Ellena      134.900000   Oct   0-5km  29.833333\n",
       "4    John      117.400000   Apr  5-10km  27.416667"
      ]
     },
     "execution_count": 107,
     "metadata": {},
     "output_type": "execute_result"
    }
   ],
   "source": [
    "lstSections = ['0-5km', '5-10km', '10-15km' ,'15-20km' ]\n",
    "\n",
    "df_us2 = df_us [ ['Label', 'CHIP_TIME_MINS', 'Month' ]   + lstSections  ] #, 'CHIP_TIME_MINS'\n",
    "\n",
    "df_unpiv = pd.melt(df_us2, id_vars= ['Label', 'CHIP_TIME_MINS',  'Month'  ], value_vars= lstSections, value_name = 'time_mins', var_name='SECTION')\n",
    "df_unpiv.head(5)"
   ]
  },
  {
   "cell_type": "code",
   "execution_count": 108,
   "metadata": {},
   "outputs": [],
   "source": [
    "df_unpiv.to_csv ( '..\\Data\\Staging\\chart2_data.csv', index=False )"
   ]
  }
 ],
 "metadata": {
  "kernelspec": {
   "display_name": "Python 3",
   "language": "python",
   "name": "python3"
  },
  "language_info": {
   "codemirror_mode": {
    "name": "ipython",
    "version": 3
   },
   "file_extension": ".py",
   "mimetype": "text/x-python",
   "name": "python",
   "nbconvert_exporter": "python",
   "pygments_lexer": "ipython3",
   "version": "3.7.6"
  }
 },
 "nbformat": 4,
 "nbformat_minor": 4
}
