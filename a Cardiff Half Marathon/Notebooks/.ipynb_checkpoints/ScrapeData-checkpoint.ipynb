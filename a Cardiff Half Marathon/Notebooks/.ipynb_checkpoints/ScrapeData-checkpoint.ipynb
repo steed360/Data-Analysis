{
 "cells": [
  {
   "cell_type": "code",
   "execution_count": 1,
   "metadata": {},
   "outputs": [],
   "source": [
    "import requests\n",
    "from bs4 import BeautifulSoup\n",
    "import pandas as pd\n",
    "from pandas import DataFrame\n",
    "\n",
    "import matplotlib.pyplot as plt\n",
    "import seaborn as sns\n",
    "%matplotlib inline"
   ]
  },
  {
   "cell_type": "code",
   "execution_count": 117,
   "metadata": {},
   "outputs": [],
   "source": [
    "# Handle to output list which will be a list of dictionaries\n",
    "lst = { 'RACE_NUMBER'       : [] , \\\n",
    "        'FIRST_NAME'        : [] , \\\n",
    "        'SURNAME'           : [] , \\\n",
    "        'GENDER'            : [] , \\\n",
    "        'GENDER_POSITION'   : [] , \\\n",
    "        'CATEGORY'          : [] , \\\n",
    "        'CATEGORY_POSITION' : [] , \\\n",
    "        'CLUB'              : [] , \\\n",
    "        '5K'                : [] , \\\n",
    "        '10K'               : [] , \\\n",
    "        '15K'               : [] , \\\n",
    "        '20K'               : [] , \\\n",
    "        'OVERALL_POSITION'  : [] , \\\n",
    "        'CHIP_TIME'         : [] , \\\n",
    "        'CHIP_POSITION'     : []      \n",
    "      }\n"
   ]
  },
  {
   "cell_type": "code",
   "execution_count": 135,
   "metadata": {},
   "outputs": [
    {
     "name": "stdout",
     "output_type": "stream",
     "text": [
      "Processed 5 pages\n",
      "Processed 10 pages\n",
      "Processed 15 pages\n",
      "Processed 20 pages\n",
      "Processed 25 pages\n",
      "Processed 30 pages\n",
      "Processed 35 pages\n",
      "Processed 40 pages\n",
      "Processed 45 pages\n",
      "Processed 50 pages\n",
      "Processed 55 pages\n",
      "Processed 60 pages\n",
      "Processed 65 pages\n",
      "Processed 70 pages\n",
      "Processed 75 pages\n",
      "Processed 80 pages\n",
      "Processed 85 pages\n",
      "Processed 90 pages\n",
      "Processed 95 pages\n",
      "Processed 100 pages\n",
      "Processed 105 pages\n",
      "Processed 110 pages\n",
      "Processed 115 pages\n",
      "Processed 120 pages\n",
      "Processed 125 pages\n",
      "Processed 130 pages\n"
     ]
    }
   ],
   "source": [
    "# 2022 Cardiff University Cardiff Half Marathon\n",
    "#   Event 3829 October 2022 Cardiff Half Marathon (130 pages)\n",
    "\n",
    "#   Event 3738 March   2022 Cardiff Half Marathon (118 pages)\n",
    "\n",
    "lastPageNo  = 130\n",
    "#lastPageNo  = 5\n",
    "eventNo     = 3829\n",
    "for pageNo in range ( 1, lastPageNo + 1):\n",
    "\n",
    "    if (pageNo % 5) == 0:\n",
    "        print ('Processed {p} pages'.format (p=pageNo) )\n",
    "    \n",
    "    URL = \"https://www.tdleventservices.co.uk/event-results/events?event={eventNo}&sort=categorypos&page={pageNo}\"\\\n",
    "           .format(eventNo=eventNo,pageNo=pageNo)\n",
    "    \n",
    "    #print (URL)\n",
    "    \n",
    "    page = requests.get(URL)\n",
    "    soup = BeautifulSoup(page.content, \"html.parser\")\n",
    "\n",
    "    results = soup.find('tbody')   #in each page there is currently only one table (one tbody element)\n",
    "    \n",
    "    for tr_element in results.find_all ('tr'):\n",
    "        td_elements = tr_element.find_all ('td')\n",
    "    \n",
    "        l = [i.text for i in td_elements]    \n",
    "        lst['RACE_NUMBER'].append       (l[0] )\n",
    "        lst['FIRST_NAME'].append        (l[1] )    \n",
    "        lst['SURNAME'].append           (l[2] )    \n",
    "        lst['GENDER'].append            (l[3] )        \n",
    "        lst['GENDER_POSITION'].append   (l[4] )            \n",
    "        lst['CATEGORY'].append          (l[5] )\n",
    "        lst['CATEGORY_POSITION'].append (l[6] )    \n",
    "        lst['CLUB'].append              (l[7] )    \n",
    "\n",
    "        lst['5K'].append               (l[8] )                    \n",
    "        lst['10K'].append              (l[10] )  \n",
    "        lst['15K'].append              (l[12] )  \n",
    "        lst['20K'].append              (l[14] )  \n",
    "\n",
    "        lst['OVERALL_POSITION'].append (l[17] )          \n",
    "        lst['CHIP_TIME'].append        (l[18] )  \n",
    "        lst['CHIP_POSITION'].append    (l[19] )      \n",
    "    "
   ]
  },
  {
   "cell_type": "code",
   "execution_count": 136,
   "metadata": {},
   "outputs": [
    {
     "data": {
      "text/plain": [
       "(24679, 15)"
      ]
     },
     "execution_count": 136,
     "metadata": {},
     "output_type": "execute_result"
    }
   ],
   "source": [
    "df = DataFrame ( lst)\n",
    "df.shape"
   ]
  },
  {
   "cell_type": "code",
   "execution_count": 137,
   "metadata": {},
   "outputs": [],
   "source": [
    "# Data Cleaning\n",
    "# Remove the DQ rows\n",
    "df = df [ df.CHIP_TIME != 'DQ'  ]\n",
    "df = df [ df.CHIP_TIME != 'DNF'  ]\n",
    "df = df[  df['5K'].str.contains (':') ]\n",
    "\n",
    "df = df[  df['10K'].str.contains (':') ]\n",
    "df = df[  df['15K'].str.contains (':') ]\n",
    "df = df[  df['20K'].str.contains (':') ]\n",
    "df = df[  df['CHIP_TIME'].str.contains (':') ]\n"
   ]
  },
  {
   "cell_type": "code",
   "execution_count": 138,
   "metadata": {},
   "outputs": [],
   "source": [
    "\n",
    "df['5K']        =  pd.to_datetime (  df['5K']  , format = '%H:%M:%S')\n",
    "df['10K']       =  pd.to_datetime (  df['10K'] , format = '%H:%M:%S')\n",
    "df['15K']       =  pd.to_datetime (  df['15K'] , format = '%H:%M:%S')\n",
    "df['20K']       =  pd.to_datetime (  df['20K'] , format = '%H:%M:%S')\n",
    "df['CHIP_TIME'] =  pd.to_datetime (  df['CHIP_TIME'] , format = '%H:%M:%S')"
   ]
  },
  {
   "cell_type": "code",
   "execution_count": 139,
   "metadata": {},
   "outputs": [],
   "source": [
    "# Convert times to datetime objects and \n",
    "# calculate mins per km for each race section\n",
    "\n",
    "df['5K']        =  pd.to_datetime (  df['5K']  , format = '%H:%M:%S')\n",
    "df['10K']       =  pd.to_datetime (  df['10K'] , format = '%H:%M:%S')\n",
    "\n",
    "df['15K']       =  pd.to_datetime (  df['15K'] , format = '%H:%M:%S')\n",
    "df['20K']       =  pd.to_datetime (  df['20K'] , format = '%H:%M:%S')\n",
    "df['CHIP_TIME'] =  pd.to_datetime (  df['CHIP_TIME'] , format = '%H:%M:%S')\n",
    "\n",
    "\n",
    "df['CHIP_TIME_MINS'] = df['CHIP_TIME'].dt.hour * 60 + \\\n",
    "                       df['CHIP_TIME'].dt.minute    + \\\n",
    "                       df['CHIP_TIME'].dt.second / 60\n",
    "\n",
    "\n",
    "df['5K_MINS']       = df['5K'].dt.hour * 60  + \\\n",
    "                       df['5K'].dt.minute    + \\\n",
    "                       df['5K'].dt.second / 60\n",
    "\n",
    "df['10K_MINS']       = df['10K'].dt.hour * 60  + \\\n",
    "                       df['10K'].dt.minute    + \\\n",
    "                       df['10K'].dt.second / 60\n",
    "\n",
    "df['15K_MINS']       = df['15K'].dt.hour * 60  + \\\n",
    "                       df['15K'].dt.minute    + \\\n",
    "                       df['15K'].dt.second / 60\n",
    "\n",
    "df['20K_MINS']       = df['20K'].dt.hour * 60  + \\\n",
    "                       df['20K'].dt.minute    + \\\n",
    "                       df['20K'].dt.second / 60\n",
    "\n",
    "df['0K_5K_SECTION_TIME']  =  df['5K_MINS']\n",
    "df['5K_10K_SECTION_TIME'] = df['10K_MINS']  - df['5K_MINS']\n",
    "df['10K_15K_SECTION_TIME'] = df['15K_MINS']  - df['10K_MINS']\n",
    "df['15K_20K_SECTION_TIME'] = df['20K_MINS']  - df['15K_MINS']\n",
    "\n",
    "df['min_per_km_course']   = df['CHIP_TIME_MINS']    / 21.075\n",
    "df['min_per_km_0_5']      = df['5K_MINS']               / 5\n",
    "df['min_per_km_6_10']     = df['5K_10K_SECTION_TIME']   / 5\n",
    "df['min_per_km_11_15']    = df['10K_15K_SECTION_TIME']  / 5\n",
    "df['min_per_km_16_20']    = df['15K_20K_SECTION_TIME']  / 5\n",
    "\n",
    "df['min_per_km_21_FINISH'] = (df['CHIP_TIME_MINS'] - df['20K_MINS']) / ( 21.0975 - 20)\n"
   ]
  },
  {
   "cell_type": "code",
   "execution_count": 129,
   "metadata": {},
   "outputs": [],
   "source": [
    "df.to_csv (  '..\\Data\\March_2022.csv'   ,index=False)"
   ]
  }
 ],
 "metadata": {
  "kernelspec": {
   "display_name": "Python 3",
   "language": "python",
   "name": "python3"
  },
  "language_info": {
   "codemirror_mode": {
    "name": "ipython",
    "version": 3
   },
   "file_extension": ".py",
   "mimetype": "text/x-python",
   "name": "python",
   "nbconvert_exporter": "python",
   "pygments_lexer": "ipython3",
   "version": "3.7.6"
  }
 },
 "nbformat": 4,
 "nbformat_minor": 4
}
