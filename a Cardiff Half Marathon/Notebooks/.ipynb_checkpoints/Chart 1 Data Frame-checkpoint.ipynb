{
 "cells": [
  {
   "cell_type": "markdown",
   "metadata": {},
   "source": [
    "## Get Summaries for Visualizing Overall Race Times"
   ]
  },
  {
   "cell_type": "markdown",
   "metadata": {},
   "source": [
    "#### Categorize And Clean Data"
   ]
  },
  {
   "cell_type": "code",
   "execution_count": 1,
   "metadata": {},
   "outputs": [],
   "source": [
    "# Try to use Seaborn/Matplotlib to replicate another cool viz from Cole Nusaumbber Knaflic's book Storytelling with Data.\n",
    "# Inspiration from :\n",
    "# https://github.com/adamribaudo/storytelling-with-data-ggplot\n",
    "# Using code from the excellent:\n",
    "# https://github.com/empathy87/storytelling-with-data\n",
    "\n",
    "## Import libraries\n",
    "import numpy as np\n",
    "import matplotlib\n",
    "import matplotlib.pyplot as plt \n",
    "from matplotlib import transforms\n",
    "import pandas as pd\n",
    "import seaborn as sns\n",
    "from matplotlib.ticker import FixedLocator, FixedFormatter\n",
    "from pandas import DataFrame\n",
    "\n",
    "%matplotlib inline"
   ]
  },
  {
   "cell_type": "code",
   "execution_count": 9,
   "metadata": {},
   "outputs": [],
   "source": [
    "df_Apr = pd.read_csv ('..\\Data\\April_2022.csv'  )\n",
    "df_Apr['Month'] = \"Apr\"\n",
    "\n",
    "df_Oct= pd.read_csv ('..\\Data\\October_2022.csv'  )\n",
    "df_Oct['Month'] = \"Oct\""
   ]
  },
  {
   "cell_type": "code",
   "execution_count": 3,
   "metadata": {},
   "outputs": [],
   "source": [
    "df = pd.concat  ( [  df_Apr , df_Oct ] )"
   ]
  },
  {
   "cell_type": "markdown",
   "metadata": {},
   "source": [
    "#### Temporary fix up - move this code to Scratch Notebook"
   ]
  },
  {
   "cell_type": "code",
   "execution_count": 10,
   "metadata": {},
   "outputs": [],
   "source": [
    "df['0K_5K_SECTION_TIME']   = df['5K_MINS']\n",
    "df['5K_10K_SECTION_TIME']  = df['10K_MINS']  - df['5K_MINS']\n",
    "df['10K_15K_SECTION_TIME'] = df['15K_MINS']  - df['10K_MINS']\n",
    "df['15K_20K_SECTION_TIME'] = df['20K_MINS']  - df['15K_MINS']"
   ]
  },
  {
   "cell_type": "code",
   "execution_count": 5,
   "metadata": {},
   "outputs": [
    {
     "data": {
      "text/plain": [
       "Oct    13160\n",
       "Apr    11572\n",
       "Name: Month, dtype: int64"
      ]
     },
     "execution_count": 5,
     "metadata": {},
     "output_type": "execute_result"
    }
   ],
   "source": [
    "df.Month.value_counts()"
   ]
  },
  {
   "cell_type": "code",
   "execution_count": 6,
   "metadata": {},
   "outputs": [
    {
     "data": {
      "text/html": [
       "<div>\n",
       "<style scoped>\n",
       "    .dataframe tbody tr th:only-of-type {\n",
       "        vertical-align: middle;\n",
       "    }\n",
       "\n",
       "    .dataframe tbody tr th {\n",
       "        vertical-align: top;\n",
       "    }\n",
       "\n",
       "    .dataframe thead th {\n",
       "        text-align: right;\n",
       "    }\n",
       "</style>\n",
       "<table border=\"1\" class=\"dataframe\">\n",
       "  <thead>\n",
       "    <tr style=\"text-align: right;\">\n",
       "      <th></th>\n",
       "      <th>Month</th>\n",
       "      <th>num_runners</th>\n",
       "      <th>time_mins</th>\n",
       "    </tr>\n",
       "  </thead>\n",
       "  <tbody>\n",
       "    <tr>\n",
       "      <th>0</th>\n",
       "      <td>Apr</td>\n",
       "      <td>11572</td>\n",
       "      <td>130.399274</td>\n",
       "    </tr>\n",
       "    <tr>\n",
       "      <th>1</th>\n",
       "      <td>Oct</td>\n",
       "      <td>13160</td>\n",
       "      <td>130.934758</td>\n",
       "    </tr>\n",
       "  </tbody>\n",
       "</table>\n",
       "</div>"
      ],
      "text/plain": [
       "  Month  num_runners   time_mins\n",
       "0   Apr        11572  130.399274\n",
       "1   Oct        13160  130.934758"
      ]
     },
     "execution_count": 6,
     "metadata": {},
     "output_type": "execute_result"
    }
   ],
   "source": [
    "# Now Find the means for each section and Category\n",
    "df.groupby (['Month' ] ).agg (\n",
    "     num_runners=('RACE_NUMBER', 'count' )\n",
    "    ,time_mins = ('CHIP_TIME_MINS', 'mean' )\n",
    ").reset_index(drop=False)\n",
    "#df_agg1.sort_values('CATEGORY')"
   ]
  },
  {
   "cell_type": "code",
   "execution_count": 7,
   "metadata": {},
   "outputs": [],
   "source": [
    "df.loc [ df.CATEGORY.isna(), 'CATEGORY'] = 'NOT_GIVEN'\n",
    "# There are two 'NOT_GIVEN' rows - drop them\n",
    "\n",
    "df = df [ df.CATEGORY != 'NOT_GIVEN'  ]"
   ]
  },
  {
   "cell_type": "markdown",
   "metadata": {},
   "source": [
    "#### Columns"
   ]
  },
  {
   "cell_type": "code",
   "execution_count": 8,
   "metadata": {},
   "outputs": [
    {
     "data": {
      "text/plain": [
       "Index(['RACE_NUMBER', 'FIRST_NAME', 'SURNAME', 'GENDER', 'GENDER_POSITION',\n",
       "       'CATEGORY', 'CATEGORY_POSITION', 'CLUB', '5K', '10K', '15K', '20K',\n",
       "       'OVERALL_POSITION', 'CHIP_TIME', 'CHIP_POSITION', 'CHIP_TIME_MINS',\n",
       "       '5K_MINS', '10K_MINS', '15K_MINS', '20K_MINS', 'min_per_km_course',\n",
       "       'min_per_km_0_5', 'min_per_km_6_10', 'min_per_km_11_15',\n",
       "       'min_per_km_16_20', 'min_per_km_21_FINISH', '5K_10K_SECTION_TIME',\n",
       "       '10K_15K_SECTION_TIME', '15K_20K_SECTION_TIME', 'Month',\n",
       "       '0K_5K_SECTION_TIME'],\n",
       "      dtype='object')"
      ]
     },
     "execution_count": 8,
     "metadata": {},
     "output_type": "execute_result"
    }
   ],
   "source": [
    "df.columns"
   ]
  },
  {
   "cell_type": "markdown",
   "metadata": {},
   "source": [
    "#### How can we group up the ages"
   ]
  },
  {
   "cell_type": "code",
   "execution_count": 11,
   "metadata": {
    "scrolled": true
   },
   "outputs": [],
   "source": [
    "# Now Find the means for each section and Category\n",
    "#df_agg1 =   df.groupby (['CATEGORY', 'Month' ] ).agg (\n",
    "#     num_runners=('RACE_NUMBER', 'count' )\n",
    "#    ,time_mins = ('CHIP_TIME_MINS', 'mean' )\n",
    "#).reset_index(drop=False)\n",
    "#df_agg1 = df_agg1.sort_values('CATEGORY')\n",
    "\n",
    "#df_piv = df_agg1.reset_index().pivot( index='CATEGORY' , columns='Month', values=['time_mins', 'num_runners'] ).fillna(0)\n",
    "#df_piv.head (3)"
   ]
  },
  {
   "cell_type": "code",
   "execution_count": 12,
   "metadata": {},
   "outputs": [],
   "source": [
    "def flattenHierarchicalCol(col,sep = '_'):\n",
    "    if not type(col) is tuple:\n",
    "        return col\n",
    "    else:\n",
    "        new_col = ''\n",
    "        for leveli,level in enumerate(col):\n",
    "            if not level == '':\n",
    "                if not leveli == 0:\n",
    "                    new_col += sep\n",
    "                new_col += level\n",
    "        return new_col\n",
    "\n",
    "#df_piv.columns = df_piv.columns.map(flattenHierarchicalCol)\n",
    "#df_piv.head(10)\n"
   ]
  },
  {
   "cell_type": "markdown",
   "metadata": {},
   "source": [
    "#### Recategorize"
   ]
  },
  {
   "cell_type": "code",
   "execution_count": 24,
   "metadata": {},
   "outputs": [],
   "source": [
    "df['ANALYSIS_CATEGORY'] = \"Normal\""
   ]
  },
  {
   "cell_type": "code",
   "execution_count": 25,
   "metadata": {},
   "outputs": [],
   "source": [
    "#df.loc [df.CATEGORY.fillna ('No').str.contains ('OPEN')  , 'ENTRY_STATUS'] = \"Elite\"\n",
    "\n",
    "boolIndex = np.logical_and ( df.CHIP_TIME_MINS <= 60 + 30  , df.GENDER== 'Male')\n",
    "df.loc [ boolIndex , 'ANALYSIS_CATEGORY']  = 'Elite'\n",
    "\n",
    "boolIndex = np.logical_and ( df.CHIP_TIME_MINS <= 60 + 40 , df.GENDER== 'Female')\n",
    "df.loc [ boolIndex , 'ANALYSIS_CATEGORY']  = 'Elite'"
   ]
  },
  {
   "cell_type": "markdown",
   "metadata": {},
   "source": [
    "#### Extract our rows from  the dataset.\n",
    "\n"
   ]
  },
  {
   "cell_type": "code",
   "execution_count": 67,
   "metadata": {},
   "outputs": [],
   "source": [
    "\n",
    "boolIndex =    ( df.FIRST_NAME.str.contains ('Ellena') ) &\\\n",
    "               ( df.SURNAME.str.contains ( 'Green') )    &\\\n",
    "               (  df.Month == \"Apr\" )\n",
    "\n",
    "df.loc [ boolIndex , 'ANALYSIS_CATEGORY']  = 'Us'\n",
    "\n",
    "\n",
    "boolIndex =    ( df.FIRST_NAME.str.contains ('Ellena') ) &\\\n",
    "               ( df.SURNAME.str.contains ( 'Green') )    &\\\n",
    "               (  df.Month == \"Oct\" )\n",
    "\n",
    "df.loc [ boolIndex , 'ANALYSIS_CATEGORY']  = 'Us'\n",
    "\n",
    "\n",
    "\n",
    "\n",
    "boolIndex =    ( df.FIRST_NAME.str.contains ('John') ) &\\\n",
    "               ( df.SURNAME.str.contains ( 'Steedman') )&\\\n",
    "               (  df.Month == \"Apr\" )\n",
    "\n",
    "df.loc [ boolIndex , 'ANALYSIS_CATEGORY']  = 'Us'\n",
    "\n",
    "\n",
    "boolIndex =    ( df.FIRST_NAME.str.contains ('John') ) &\\\n",
    "               ( df.SURNAME.str.contains ( 'Steedman') )&\\\n",
    "               (  df.Month == \"Oct\" )\n",
    "\n",
    "df.loc [ boolIndex , 'ANALYSIS_CATEGORY']  = 'Us'\n"
   ]
  },
  {
   "cell_type": "code",
   "execution_count": 27,
   "metadata": {},
   "outputs": [
    {
     "data": {
      "text/plain": [
       "Normal    23261\n",
       "Elite      1465\n",
       "Us_Apr        2\n",
       "Us_Oct        2\n",
       "Name: ANALYSIS_CATEGORY, dtype: int64"
      ]
     },
     "execution_count": 27,
     "metadata": {},
     "output_type": "execute_result"
    }
   ],
   "source": [
    "df.ANALYSIS_CATEGORY.value_counts()"
   ]
  },
  {
   "cell_type": "code",
   "execution_count": 68,
   "metadata": {},
   "outputs": [
    {
     "data": {
      "text/html": [
       "<div>\n",
       "<style scoped>\n",
       "    .dataframe tbody tr th:only-of-type {\n",
       "        vertical-align: middle;\n",
       "    }\n",
       "\n",
       "    .dataframe tbody tr th {\n",
       "        vertical-align: top;\n",
       "    }\n",
       "\n",
       "    .dataframe thead th {\n",
       "        text-align: right;\n",
       "    }\n",
       "</style>\n",
       "<table border=\"1\" class=\"dataframe\">\n",
       "  <thead>\n",
       "    <tr style=\"text-align: right;\">\n",
       "      <th></th>\n",
       "      <th>ANALYSIS_CATEGORY</th>\n",
       "      <th>GENDER</th>\n",
       "      <th>Month</th>\n",
       "      <th>num_runners</th>\n",
       "      <th>time_mins</th>\n",
       "    </tr>\n",
       "  </thead>\n",
       "  <tbody>\n",
       "    <tr>\n",
       "      <th>0</th>\n",
       "      <td>Elite</td>\n",
       "      <td>Female</td>\n",
       "      <td>Apr</td>\n",
       "      <td>146</td>\n",
       "      <td>92.481164</td>\n",
       "    </tr>\n",
       "    <tr>\n",
       "      <th>1</th>\n",
       "      <td>Elite</td>\n",
       "      <td>Female</td>\n",
       "      <td>Oct</td>\n",
       "      <td>204</td>\n",
       "      <td>90.855801</td>\n",
       "    </tr>\n",
       "    <tr>\n",
       "      <th>2</th>\n",
       "      <td>Elite</td>\n",
       "      <td>Male</td>\n",
       "      <td>Apr</td>\n",
       "      <td>488</td>\n",
       "      <td>82.655977</td>\n",
       "    </tr>\n",
       "    <tr>\n",
       "      <th>3</th>\n",
       "      <td>Elite</td>\n",
       "      <td>Male</td>\n",
       "      <td>Oct</td>\n",
       "      <td>627</td>\n",
       "      <td>81.603402</td>\n",
       "    </tr>\n",
       "    <tr>\n",
       "      <th>4</th>\n",
       "      <td>Normal</td>\n",
       "      <td>Female</td>\n",
       "      <td>Apr</td>\n",
       "      <td>5030</td>\n",
       "      <td>143.687247</td>\n",
       "    </tr>\n",
       "    <tr>\n",
       "      <th>5</th>\n",
       "      <td>Normal</td>\n",
       "      <td>Female</td>\n",
       "      <td>Oct</td>\n",
       "      <td>5516</td>\n",
       "      <td>144.383883</td>\n",
       "    </tr>\n",
       "    <tr>\n",
       "      <th>6</th>\n",
       "      <td>Normal</td>\n",
       "      <td>Male</td>\n",
       "      <td>Apr</td>\n",
       "      <td>5906</td>\n",
       "      <td>123.961147</td>\n",
       "    </tr>\n",
       "    <tr>\n",
       "      <th>7</th>\n",
       "      <td>Normal</td>\n",
       "      <td>Male</td>\n",
       "      <td>Oct</td>\n",
       "      <td>6809</td>\n",
       "      <td>125.796245</td>\n",
       "    </tr>\n",
       "    <tr>\n",
       "      <th>8</th>\n",
       "      <td>Us</td>\n",
       "      <td>Female</td>\n",
       "      <td>Apr</td>\n",
       "      <td>1</td>\n",
       "      <td>163.250000</td>\n",
       "    </tr>\n",
       "    <tr>\n",
       "      <th>9</th>\n",
       "      <td>Us</td>\n",
       "      <td>Female</td>\n",
       "      <td>Oct</td>\n",
       "      <td>1</td>\n",
       "      <td>134.900000</td>\n",
       "    </tr>\n",
       "    <tr>\n",
       "      <th>10</th>\n",
       "      <td>Us</td>\n",
       "      <td>Male</td>\n",
       "      <td>Apr</td>\n",
       "      <td>1</td>\n",
       "      <td>117.400000</td>\n",
       "    </tr>\n",
       "    <tr>\n",
       "      <th>11</th>\n",
       "      <td>Us</td>\n",
       "      <td>Male</td>\n",
       "      <td>Oct</td>\n",
       "      <td>1</td>\n",
       "      <td>109.066667</td>\n",
       "    </tr>\n",
       "  </tbody>\n",
       "</table>\n",
       "</div>"
      ],
      "text/plain": [
       "   ANALYSIS_CATEGORY  GENDER Month  num_runners   time_mins\n",
       "0              Elite  Female   Apr          146   92.481164\n",
       "1              Elite  Female   Oct          204   90.855801\n",
       "2              Elite    Male   Apr          488   82.655977\n",
       "3              Elite    Male   Oct          627   81.603402\n",
       "4             Normal  Female   Apr         5030  143.687247\n",
       "5             Normal  Female   Oct         5516  144.383883\n",
       "6             Normal    Male   Apr         5906  123.961147\n",
       "7             Normal    Male   Oct         6809  125.796245\n",
       "8                 Us  Female   Apr            1  163.250000\n",
       "9                 Us  Female   Oct            1  134.900000\n",
       "10                Us    Male   Apr            1  117.400000\n",
       "11                Us    Male   Oct            1  109.066667"
      ]
     },
     "execution_count": 68,
     "metadata": {},
     "output_type": "execute_result"
    }
   ],
   "source": [
    "# Now Find the means for each section and Category\n",
    "df_agg1 =   df.groupby (['ANALYSIS_CATEGORY' , 'GENDER', 'Month' ] ).agg (\n",
    "     num_runners=('RACE_NUMBER', 'count' )\n",
    "    ,time_mins = ('CHIP_TIME_MINS', 'mean' )\n",
    ").reset_index(drop=False)\n",
    "df_agg1.sort_values('ANALYSIS_CATEGORY')"
   ]
  },
  {
   "cell_type": "markdown",
   "metadata": {},
   "source": [
    "#### Pivot"
   ]
  },
  {
   "cell_type": "code",
   "execution_count": 84,
   "metadata": {},
   "outputs": [
    {
     "data": {
      "text/html": [
       "<div>\n",
       "<style scoped>\n",
       "    .dataframe tbody tr th:only-of-type {\n",
       "        vertical-align: middle;\n",
       "    }\n",
       "\n",
       "    .dataframe tbody tr th {\n",
       "        vertical-align: top;\n",
       "    }\n",
       "\n",
       "    .dataframe thead tr th {\n",
       "        text-align: left;\n",
       "    }\n",
       "</style>\n",
       "<table border=\"1\" class=\"dataframe\">\n",
       "  <thead>\n",
       "    <tr>\n",
       "      <th></th>\n",
       "      <th>ANALYSIS_CATEGORY</th>\n",
       "      <th>GENDER</th>\n",
       "      <th colspan=\"2\" halign=\"left\">time_mins</th>\n",
       "    </tr>\n",
       "    <tr>\n",
       "      <th>Month</th>\n",
       "      <th></th>\n",
       "      <th></th>\n",
       "      <th>Apr</th>\n",
       "      <th>Oct</th>\n",
       "    </tr>\n",
       "  </thead>\n",
       "  <tbody>\n",
       "    <tr>\n",
       "      <th>0</th>\n",
       "      <td>Elite</td>\n",
       "      <td>Female</td>\n",
       "      <td>92.481164</td>\n",
       "      <td>90.855801</td>\n",
       "    </tr>\n",
       "    <tr>\n",
       "      <th>1</th>\n",
       "      <td>Elite</td>\n",
       "      <td>Male</td>\n",
       "      <td>82.655977</td>\n",
       "      <td>81.603402</td>\n",
       "    </tr>\n",
       "    <tr>\n",
       "      <th>2</th>\n",
       "      <td>Normal</td>\n",
       "      <td>Female</td>\n",
       "      <td>143.687247</td>\n",
       "      <td>144.383883</td>\n",
       "    </tr>\n",
       "    <tr>\n",
       "      <th>3</th>\n",
       "      <td>Normal</td>\n",
       "      <td>Male</td>\n",
       "      <td>123.961147</td>\n",
       "      <td>125.796245</td>\n",
       "    </tr>\n",
       "    <tr>\n",
       "      <th>4</th>\n",
       "      <td>Us</td>\n",
       "      <td>Female</td>\n",
       "      <td>163.250000</td>\n",
       "      <td>134.900000</td>\n",
       "    </tr>\n",
       "    <tr>\n",
       "      <th>5</th>\n",
       "      <td>Us</td>\n",
       "      <td>Male</td>\n",
       "      <td>117.400000</td>\n",
       "      <td>109.066667</td>\n",
       "    </tr>\n",
       "  </tbody>\n",
       "</table>\n",
       "</div>"
      ],
      "text/plain": [
       "      ANALYSIS_CATEGORY  GENDER   time_mins            \n",
       "Month                                   Apr         Oct\n",
       "0                 Elite  Female   92.481164   90.855801\n",
       "1                 Elite    Male   82.655977   81.603402\n",
       "2                Normal  Female  143.687247  144.383883\n",
       "3                Normal    Male  123.961147  125.796245\n",
       "4                    Us  Female  163.250000  134.900000\n",
       "5                    Us    Male  117.400000  109.066667"
      ]
     },
     "execution_count": 84,
     "metadata": {},
     "output_type": "execute_result"
    }
   ],
   "source": [
    "df_piv = df_agg1.reset_index().pivot( index=['ANALYSIS_CATEGORY', 'GENDER'],\n",
    "                                      columns=['Month'], \n",
    "                                      values=['time_mins'] ).fillna(0).reset_index (drop=False)\n",
    "df_piv"
   ]
  },
  {
   "cell_type": "code",
   "execution_count": 85,
   "metadata": {},
   "outputs": [
    {
     "data": {
      "text/html": [
       "<div>\n",
       "<style scoped>\n",
       "    .dataframe tbody tr th:only-of-type {\n",
       "        vertical-align: middle;\n",
       "    }\n",
       "\n",
       "    .dataframe tbody tr th {\n",
       "        vertical-align: top;\n",
       "    }\n",
       "\n",
       "    .dataframe thead th {\n",
       "        text-align: right;\n",
       "    }\n",
       "</style>\n",
       "<table border=\"1\" class=\"dataframe\">\n",
       "  <thead>\n",
       "    <tr style=\"text-align: right;\">\n",
       "      <th></th>\n",
       "      <th>ANALYSIS_CATEGORY</th>\n",
       "      <th>GENDER</th>\n",
       "      <th>time_mins_Apr</th>\n",
       "      <th>time_mins_Oct</th>\n",
       "    </tr>\n",
       "  </thead>\n",
       "  <tbody>\n",
       "    <tr>\n",
       "      <th>0</th>\n",
       "      <td>Elite</td>\n",
       "      <td>Female</td>\n",
       "      <td>92.481164</td>\n",
       "      <td>90.855801</td>\n",
       "    </tr>\n",
       "    <tr>\n",
       "      <th>1</th>\n",
       "      <td>Elite</td>\n",
       "      <td>Male</td>\n",
       "      <td>82.655977</td>\n",
       "      <td>81.603402</td>\n",
       "    </tr>\n",
       "    <tr>\n",
       "      <th>2</th>\n",
       "      <td>Normal</td>\n",
       "      <td>Female</td>\n",
       "      <td>143.687247</td>\n",
       "      <td>144.383883</td>\n",
       "    </tr>\n",
       "    <tr>\n",
       "      <th>3</th>\n",
       "      <td>Normal</td>\n",
       "      <td>Male</td>\n",
       "      <td>123.961147</td>\n",
       "      <td>125.796245</td>\n",
       "    </tr>\n",
       "    <tr>\n",
       "      <th>4</th>\n",
       "      <td>Us</td>\n",
       "      <td>Female</td>\n",
       "      <td>163.250000</td>\n",
       "      <td>134.900000</td>\n",
       "    </tr>\n",
       "    <tr>\n",
       "      <th>5</th>\n",
       "      <td>Us</td>\n",
       "      <td>Male</td>\n",
       "      <td>117.400000</td>\n",
       "      <td>109.066667</td>\n",
       "    </tr>\n",
       "  </tbody>\n",
       "</table>\n",
       "</div>"
      ],
      "text/plain": [
       "  ANALYSIS_CATEGORY  GENDER  time_mins_Apr  time_mins_Oct\n",
       "0             Elite  Female      92.481164      90.855801\n",
       "1             Elite    Male      82.655977      81.603402\n",
       "2            Normal  Female     143.687247     144.383883\n",
       "3            Normal    Male     123.961147     125.796245\n",
       "4                Us  Female     163.250000     134.900000\n",
       "5                Us    Male     117.400000     109.066667"
      ]
     },
     "execution_count": 85,
     "metadata": {},
     "output_type": "execute_result"
    }
   ],
   "source": [
    "# Useful function \n",
    "# https://stackoverflow.com/questions/14507794/how-to-flatten-a-hierarchical-index-in-columns\n",
    "\n",
    "def flattenHierarchicalCol(col,sep = '_'):\n",
    "    if not type(col) is tuple:\n",
    "        return col\n",
    "    else:\n",
    "        new_col = ''\n",
    "        for leveli,level in enumerate(col):\n",
    "            if not level == '':\n",
    "                if not leveli == 0:\n",
    "                    new_col += sep\n",
    "                new_col += level\n",
    "        return new_col\n",
    "    \n",
    "df_piv.columns = df_piv.columns.map (flattenHierarchicalCol )\n",
    "\n",
    "df_piv"
   ]
  },
  {
   "cell_type": "markdown",
   "metadata": {},
   "source": [
    "#### Improve the labelling"
   ]
  },
  {
   "cell_type": "code",
   "execution_count": 86,
   "metadata": {},
   "outputs": [
    {
     "data": {
      "text/html": [
       "<div>\n",
       "<style scoped>\n",
       "    .dataframe tbody tr th:only-of-type {\n",
       "        vertical-align: middle;\n",
       "    }\n",
       "\n",
       "    .dataframe tbody tr th {\n",
       "        vertical-align: top;\n",
       "    }\n",
       "\n",
       "    .dataframe thead th {\n",
       "        text-align: right;\n",
       "    }\n",
       "</style>\n",
       "<table border=\"1\" class=\"dataframe\">\n",
       "  <thead>\n",
       "    <tr style=\"text-align: right;\">\n",
       "      <th></th>\n",
       "      <th>ANALYSIS_CATEGORY</th>\n",
       "      <th>GENDER</th>\n",
       "      <th>time_mins_Apr</th>\n",
       "      <th>time_mins_Oct</th>\n",
       "      <th>Label</th>\n",
       "    </tr>\n",
       "  </thead>\n",
       "  <tbody>\n",
       "    <tr>\n",
       "      <th>0</th>\n",
       "      <td>Elite</td>\n",
       "      <td>Female</td>\n",
       "      <td>92.481164</td>\n",
       "      <td>90.855801</td>\n",
       "      <td>Elite</td>\n",
       "    </tr>\n",
       "    <tr>\n",
       "      <th>1</th>\n",
       "      <td>Elite</td>\n",
       "      <td>Male</td>\n",
       "      <td>82.655977</td>\n",
       "      <td>81.603402</td>\n",
       "      <td>Elite</td>\n",
       "    </tr>\n",
       "    <tr>\n",
       "      <th>2</th>\n",
       "      <td>Normal</td>\n",
       "      <td>Female</td>\n",
       "      <td>143.687247</td>\n",
       "      <td>144.383883</td>\n",
       "      <td>Normal</td>\n",
       "    </tr>\n",
       "    <tr>\n",
       "      <th>3</th>\n",
       "      <td>Normal</td>\n",
       "      <td>Male</td>\n",
       "      <td>123.961147</td>\n",
       "      <td>125.796245</td>\n",
       "      <td>Normal</td>\n",
       "    </tr>\n",
       "    <tr>\n",
       "      <th>4</th>\n",
       "      <td>Us</td>\n",
       "      <td>Female</td>\n",
       "      <td>163.250000</td>\n",
       "      <td>134.900000</td>\n",
       "      <td>John</td>\n",
       "    </tr>\n",
       "    <tr>\n",
       "      <th>5</th>\n",
       "      <td>Us</td>\n",
       "      <td>Male</td>\n",
       "      <td>117.400000</td>\n",
       "      <td>109.066667</td>\n",
       "      <td>John</td>\n",
       "    </tr>\n",
       "  </tbody>\n",
       "</table>\n",
       "</div>"
      ],
      "text/plain": [
       "  ANALYSIS_CATEGORY  GENDER  time_mins_Apr  time_mins_Oct   Label\n",
       "0             Elite  Female      92.481164      90.855801   Elite\n",
       "1             Elite    Male      82.655977      81.603402   Elite\n",
       "2            Normal  Female     143.687247     144.383883  Normal\n",
       "3            Normal    Male     123.961147     125.796245  Normal\n",
       "4                Us  Female     163.250000     134.900000    John\n",
       "5                Us    Male     117.400000     109.066667    John"
      ]
     },
     "execution_count": 86,
     "metadata": {},
     "output_type": "execute_result"
    }
   ],
   "source": [
    "df_piv['Label'] = df_piv.ANALYSIS_CATEGORY\n",
    "df_piv.loc[(df_piv.Label == 'Us') & (df_piv.GENDER == 'Male') , 'Label'] = 'John'\n",
    "df_piv.loc[(df_piv.Label == 'Us') & (df_piv.GENDER == 'Female') , 'Label'] = 'John'\n",
    "df_piv"
   ]
  },
  {
   "cell_type": "code",
   "execution_count": 87,
   "metadata": {},
   "outputs": [],
   "source": [
    "df_piv.to_csv ( '..\\Data\\Staging\\chart1_data.csv', index=False )"
   ]
  }
 ],
 "metadata": {
  "kernelspec": {
   "display_name": "Python 3",
   "language": "python",
   "name": "python3"
  },
  "language_info": {
   "codemirror_mode": {
    "name": "ipython",
    "version": 3
   },
   "file_extension": ".py",
   "mimetype": "text/x-python",
   "name": "python",
   "nbconvert_exporter": "python",
   "pygments_lexer": "ipython3",
   "version": "3.7.6"
  }
 },
 "nbformat": 4,
 "nbformat_minor": 4
}
