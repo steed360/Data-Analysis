{
 "cells": [
  {
   "cell_type": "code",
   "execution_count": null,
   "metadata": {},
   "outputs": [],
   "source": [
    "# PYPM3 documentation\n",
    "#https://people.duke.edu/~ccc14/sta-663/PyMC3.html"
   ]
  },
  {
   "cell_type": "code",
   "execution_count": 1,
   "metadata": {},
   "outputs": [
    {
     "name": "stderr",
     "output_type": "stream",
     "text": [
      "WARNING (theano.configdefaults): g++ not available, if using conda: `conda install m2w64-toolchain`\n",
      "WARNING (theano.configdefaults): g++ not detected ! Theano will be unable to execute optimized C-implementations (for both CPU and GPU) and will default to Python implementations. Performance will be severely degraded. To remove this warning, set Theano flags cxx to an empty string.\n",
      "WARNING (theano.tensor.blas): Using NumPy C-API based implementation for BLAS functions.\n"
     ]
    }
   ],
   "source": [
    "%matplotlib inline\n",
    "import matplotlib.pyplot as plt\n",
    "import numpy as np\n",
    "import scipy.stats as stats\n",
    "import pymc3 as pm"
   ]
  },
  {
   "cell_type": "code",
   "execution_count": 4,
   "metadata": {},
   "outputs": [],
   "source": [
    "%matplotlib inline\n",
    "import matplotlib.pyplot as plt\n",
    "import numpy as np\n",
    "import scipy.stats as stats\n",
    "import pymc3 as pm\n",
    "\n",
    "## Import libraries\n",
    "import numpy as np\n",
    "import matplotlib\n",
    "import matplotlib.pyplot as plt \n",
    "from matplotlib import transforms\n",
    "import pandas as pd\n",
    "import seaborn as sns\n",
    "from matplotlib.ticker import FixedLocator, FixedFormatter\n"
   ]
  },
  {
   "cell_type": "markdown",
   "metadata": {},
   "source": [
    "# Chapter 2"
   ]
  },
  {
   "cell_type": "markdown",
   "metadata": {},
   "source": [
    "#### Code 2.1: calculate and show a simple probability density\n",
    "ways is the number of ways you can pull one red ball from a bag of 4 balls given that the number of red balls is [0,1,2,3,4]"
   ]
  },
  {
   "cell_type": "code",
   "execution_count": 5,
   "metadata": {},
   "outputs": [
    {
     "data": {
      "text/plain": [
       "array([0.  , 0.15, 0.4 , 0.45, 0.  ])"
      ]
     },
     "execution_count": 5,
     "metadata": {},
     "output_type": "execute_result"
    }
   ],
   "source": [
    "red_balls = [0,1,2,3,4]\n",
    "ways = np.array ( [0,3,8,9,0])\n",
    "posterior = ways / ways.sum (axis=0)   # which of course add to 1\n",
    "posterior"
   ]
  },
  {
   "cell_type": "code",
   "execution_count": 3,
   "metadata": {},
   "outputs": [
    {
     "data": {
      "text/plain": [
       "Text(0.5, 1.0, 'probability of taking out a red ball from a bag of 4 balls')"
      ]
     },
     "execution_count": 3,
     "metadata": {},
     "output_type": "execute_result"
    },
    {
     "data": {
      "image/png": "[encoded data removed]",
      "text/plain": [
       "<Figure size 432x288 with 1 Axes>"
      ]
     },
     "metadata": {
      "needs_background": "light"
     },
     "output_type": "display_data"
    }
   ],
   "source": [
    "plt.plot (red_balls, posterior )\n",
    "plt.xlabel (\"red balls in bag\", fontsize=12)\n",
    "plt.ylabel (\"ways / all ways = prob\", fontsize=12)\n",
    "plt.title ( \"probability of taking out a red ball from a bag of {} balls\".format(4) )"
   ]
  },
  {
   "cell_type": "markdown",
   "metadata": {},
   "source": [
    "#### Code 2.2 Pull out the density from the binomial model\n",
    "p (successes=3 | p=0.5, n=10)"
   ]
  },
  {
   "cell_type": "code",
   "execution_count": 39,
   "metadata": {},
   "outputs": [
    {
     "data": {
      "text/plain": [
       "0.1171875"
      ]
     },
     "execution_count": 39,
     "metadata": {},
     "output_type": "execute_result"
    }
   ],
   "source": [
    "stats.binom.pmf ( k=3, p=0.5, n=10)"
   ]
  },
  {
   "cell_type": "markdown",
   "metadata": {},
   "source": [
    "#### Code 2.3 Grid search across p values fit to an experiment giving a posterior\n",
    "Prior is fixed\\\n",
    "Experiment is r successes from n trials\\\n",
    "Make a function so that r and n and the grid size can be varied.\\\n",
    "The grid is all of the possible values of theta in sequence\\\n",
    "We don't know theta; given the evidence of r success from n trials, we'd like to see the relative plausibility of each theta in the grid."
   ]
  },
  {
   "cell_type": "code",
   "execution_count": 93,
   "metadata": {},
   "outputs": [
    {
     "data": {
      "text/plain": [
       "array([5, 5, 5, 5, 5, 5, 5, 5, 5, 5])"
      ]
     },
     "execution_count": 93,
     "metadata": {},
     "output_type": "execute_result"
    }
   ],
   "source": [
    "np.repeat ( 5, 10)\n"
   ]
  },
  {
   "cell_type": "code",
   "execution_count": 94,
   "metadata": {},
   "outputs": [],
   "source": [
    "def posterior_grid_search ( grid_points = 5, r = 6, n = 9):\n",
    "\n",
    "    # define the grid\n",
    "    p_grid  = np.linspace  (0,1,grid_points)\n",
    "    # defin the prior\n",
    "    prior = np.repeat ( 1, grid_points)\n",
    "    # apply likelihood function to grid\n",
    "    likelihood = stats.binom.pmf ( k=r, n=n, p=p_grid)\n",
    "\n",
    "    unstd_post = likelihood * prior\n",
    "    return  p_grid, unstd_post / unstd_post.sum()\n"
   ]
  },
  {
   "cell_type": "markdown",
   "metadata": {},
   "source": [
    "#### Code 2.4 Now plot the result "
   ]
  },
  {
   "cell_type": "code",
   "execution_count": 66,
   "metadata": {},
   "outputs": [],
   "source": [
    "# define colors\n",
    "GRAY1, GRAY2, GRAY3 = '#231F20', '#414040', '#555655'\n",
    "GRAY4, GRAY5, GRAY6 = '#646369', '#76787B', '#828282'\n",
    "GRAY7, GRAY8, GRAY9 = '#929497', '#A6A6A5', '#BFBEBE'\n",
    "BLUE1, BLUE2, BLUE3, BLUE4 = '#174A7E', '#4A81BF', '#94B2D7', '#94AFC5'\n",
    "BLUE5, BLUE6 = '#92CDDD', '#2E869D'\n",
    "RED1, RED2 = '#C3514E', '#E6BAB7'\n",
    "GREEN1, GREEN2 = '#0C8040', '#9ABB59'\n",
    "ORANGE1, ORANGE2, ORANGE3 = '#F79747', '#FAC090', '#F36721'"
   ]
  },
  {
   "cell_type": "code",
   "execution_count": 299,
   "metadata": {},
   "outputs": [],
   "source": [
    "# configure plot font family to Arial\n",
    "plt.rcParams['font.family'] = 'Arial'\n",
    "# configure mathtext bold and italic font family to Arial\n",
    "matplotlib.rcParams['mathtext.fontset'] = 'custom'\n",
    "matplotlib.rcParams['mathtext.bf'] = 'Arial:bold'\n",
    "matplotlib.rcParams['mathtext.it'] = 'Arial:italic'"
   ]
  },
  {
   "cell_type": "code",
   "execution_count": 300,
   "metadata": {},
   "outputs": [
    {
     "name": "stderr",
     "output_type": "stream",
     "text": [
      "No handles with labels found to put in legend.\n"
     ]
    },
    {
     "data": {
      "text/plain": [
       "<matplotlib.legend.Legend at 0x285c0ba3b08>"
      ]
     },
     "execution_count": 300,
     "metadata": {},
     "output_type": "execute_result"
    },
    {
     "data": {
      "image/png": "[encoded data removed]",
      "text/plain": [
       "<Figure size 800x550 with 4 Axes>"
      ]
     },
     "metadata": {
      "needs_background": "light"
     },
     "output_type": "display_data"
    }
   ],
   "source": [
    "import seaborn as sns\n",
    "\n",
    "rr = 0.1\n",
    "\n",
    "fig, axs = plt.subplots(4 ,figsize=(8, 5.5), dpi=100 ) \n",
    "\n",
    "\n",
    "fig.suptitle('')\n",
    "# create new figure\n",
    "\n",
    "plt.ylabel (' '*100 + 'Relative Plausibility (aka Density)' )\n",
    "\n",
    "\n",
    "points = 500\n",
    "n = 10000\n",
    "r = n * rr\n",
    "p_grid, posterior =   posterior_grid_search ( points, r, n)\n",
    "axs[0].plot (p_grid,posterior  , 'o-', linewidth=1, ms=1)\n",
    "axs[0].tick_params (axis='x', width=0 ,labelsize=0, colors=GRAY5)\n",
    "axs[0].text ( 0.5, 0.001,  'sample size: 10,000 ', color=BLUE1, fontsize=16 )\n",
    "\n",
    "n = 1000\n",
    "r = n * rr\n",
    "p_grid, posterior =   posterior_grid_search ( points, r, n)\n",
    "#plt.plot (p_grid,posterior, 'o-', label='Successes={}, n={}'.format (r,n)   )\n",
    "axs[1].plot (p_grid,posterior  , 'o-', linewidth=1, ms=1)\n",
    "axs[1].subtitle = 'With  samples' #.format ( {0} )\n",
    "axs[1].tick_params (axis='x', width=0 ,labelsize=0, colors=GRAY5)\n",
    "axs[1].text ( 0.5, 0.001,  'sample size: 1,000 ', color=BLUE1, fontsize=16 )\n",
    "\n",
    "sns.despine (bottom=True, left=True)\n",
    "\n",
    "n = 100\n",
    "r = n * rr\n",
    "p_grid, posterior =   posterior_grid_search ( points, r, n)\n",
    "axs[2].plot (p_grid,posterior  , 'o-', linewidth=1, ms=1)\n",
    "axs[2].tick_params (axis='x', width=0 ,labelsize=0, colors=GRAY5)\n",
    "axs[2].text ( 0.5, 0.001,  'sample size: 100 ', color=BLUE1, fontsize=16 )\n",
    "\n",
    "n = 10\n",
    "r = n * rr\n",
    "p_grid, posterior =   posterior_grid_search ( points, r, n)\n",
    "axs[3].plot (p_grid,posterior  , 'o-', linewidth=1, ms=1)\n",
    "axs[3].spines['bottom'].set_visible(True)\n",
    "axs[3].text ( 0.5, 0.001,  'sample size: 10 ', color=BLUE1, fontsize=16 )\n",
    "\n",
    "plt.xlabel (' '* 70 + 'All Possible Response Rates', fontsize=14)\n",
    "plt.legend ( loc=0)\n"
   ]
  },
  {
   "cell_type": "markdown",
   "metadata": {},
   "source": [
    "#### Try and forecast based on the above \n",
    "E.g. if we do a campaign with 1,000 people how many responses will we get"
   ]
  },
  {
   "cell_type": "markdown",
   "metadata": {},
   "source": [
    "#### First thing is to sample the probabilities out of the distributions\n",
    "Note that here we're finding the posterior distribution from a sample of 100 people."
   ]
  },
  {
   "cell_type": "code",
   "execution_count": 442,
   "metadata": {},
   "outputs": [
    {
     "data": {
      "text/plain": [
       "(array([ 13.,  46., 158., 234., 266., 164.,  84.,  30.,   3.,   2.]),\n",
       " array([0.0950951 , 0.12152152, 0.14794795, 0.17437437, 0.2008008 ,\n",
       "        0.22722723, 0.25365365, 0.28008008, 0.30650651, 0.33293293,\n",
       "        0.35935936]),\n",
       " <a list of 10 Patch objects>)"
      ]
     },
     "execution_count": 442,
     "metadata": {},
     "output_type": "execute_result"
    },
    {
     "data": {
      "image/png": "[encoded data removed]",
      "text/plain": [
       "<Figure size 432x288 with 1 Axes>"
      ]
     },
     "metadata": {
      "needs_background": "light"
     },
     "output_type": "display_data"
    }
   ],
   "source": [
    "points = 1000\n",
    "n = 100\n",
    "r = 0.2* n\n",
    "p_grid, posterior =   posterior_grid_search ( points, r, n)\n",
    "# Sample from the posterior distribution using the likelihood of each probability\n",
    "lst_sampled_probabilities =  np.array (random.choices(p_grid, weights= posterior, k=points))\n",
    "plt.hist (lst_sampled_probabilities)"
   ]
  },
  {
   "cell_type": "markdown",
   "metadata": {},
   "source": [
    "#### Then, multiple the new campign number by the sampled probabilities"
   ]
  },
  {
   "cell_type": "code",
   "execution_count": 436,
   "metadata": {},
   "outputs": [
    {
     "data": {
      "text/plain": [
       "(array([0.00055961, 0.00130575, 0.00391724, 0.00609349, 0.00727488,\n",
       "        0.00945112, 0.00963766, 0.00858062, 0.00584477, 0.0040416 ,\n",
       "        0.00279803, 0.00161664, 0.00049743, 0.00037307, 0.00018654]),\n",
       " array([102.1021021 , 118.18485152, 134.26760093, 150.35035035,\n",
       "        166.43309977, 182.51584918, 198.5985986 , 214.68134801,\n",
       "        230.76409743, 246.84684685, 262.92959626, 279.01234568,\n",
       "        295.0950951 , 311.17784451, 327.26059393, 343.34334334]),\n",
       " <a list of 15 Patch objects>)"
      ]
     },
     "execution_count": 436,
     "metadata": {},
     "output_type": "execute_result"
    },
    {
     "data": {
      "image/png": "[encoded data removed]",
      "text/plain": [
       "<Figure size 432x288 with 1 Axes>"
      ]
     },
     "metadata": {
      "needs_background": "light"
     },
     "output_type": "display_data"
    }
   ],
   "source": [
    "campaign_size = 1000\n",
    "predicted_posterior = campaign_size * np.array (lst_sampled_probabilities)\n",
    "plt.hist (predicted_posterior, bins=15, density = True, color = BLUE5,alpha=0.5 )"
   ]
  },
  {
   "cell_type": "code",
   "execution_count": 430,
   "metadata": {},
   "outputs": [
    {
     "data": {
      "text/plain": [
       "100"
      ]
     },
     "execution_count": 430,
     "metadata": {},
     "output_type": "execute_result"
    }
   ],
   "source": [
    "len (predicted_posterior)"
   ]
  },
  {
   "cell_type": "markdown",
   "metadata": {},
   "source": [
    "#### Now try to figure out the sampling distribution for if just the maximum likelihood had been used"
   ]
  },
  {
   "cell_type": "code",
   "execution_count": 437,
   "metadata": {},
   "outputs": [
    {
     "data": {
      "text/plain": [
       "(array([0.00055961, 0.00130575, 0.00391724, 0.00609349, 0.00727488,\n",
       "        0.00945112, 0.00963766, 0.00858062, 0.00584477, 0.0040416 ,\n",
       "        0.00279803, 0.00161664, 0.00049743, 0.00037307, 0.00018654]),\n",
       " array([102.1021021 , 118.18485152, 134.26760093, 150.35035035,\n",
       "        166.43309977, 182.51584918, 198.5985986 , 214.68134801,\n",
       "        230.76409743, 246.84684685, 262.92959626, 279.01234568,\n",
       "        295.0950951 , 311.17784451, 327.26059393, 343.34334334]),\n",
       " <a list of 15 Patch objects>)"
      ]
     },
     "execution_count": 437,
     "metadata": {},
     "output_type": "execute_result"
    },
    {
     "data": {
      "image/png": "[encoded data removed]",
      "text/plain": [
       "<Figure size 432x288 with 1 Axes>"
      ]
     },
     "metadata": {
      "needs_background": "light"
     },
     "output_type": "display_data"
    }
   ],
   "source": [
    "# fixing to a 20% chance of having a response find the sampling distribution for the campaign\n",
    "\n",
    "r_grid = list ( range ( 100, 300, 1) )\n",
    "p = 0.2\n",
    "ML_probs = stats.binom.pmf ( k=r_grid, n=campaign_size, p=p)\n",
    "\n",
    "# Now sample from this distribution as before...\n",
    "lst_sampled_probabilities_MLE =  np.array (random.choices(r_grid, weights= ML_probs, k=1000))\n",
    "#plt.hist (lst_sampled_probabilities_MLE)\n",
    "\n",
    "# Show the two histograms together.\n",
    "plt.hist (lst_sampled_probabilities_MLE, bins=15, density = True, color = GREEN1,alpha=0.5 )\n",
    "plt.hist (predicted_posterior, bins=15, density = True, color = BLUE1,alpha=0.5 )\n"
   ]
  },
  {
   "cell_type": "markdown",
   "metadata": {},
   "source": [
    "#### Repeat all of this for the case where n = 1000"
   ]
  },
  {
   "cell_type": "code",
   "execution_count": 438,
   "metadata": {
    "scrolled": true
   },
   "outputs": [
    {
     "data": {
      "text/plain": [
       "(array([  4.,  14.,  63., 174., 270., 217., 173.,  60.,  21.,   4.]),\n",
       " array([0.15915916, 0.16746747, 0.17577578, 0.18408408, 0.19239239,\n",
       "        0.2007007 , 0.20900901, 0.21731732, 0.22562563, 0.23393393,\n",
       "        0.24224224]),\n",
       " <a list of 10 Patch objects>)"
      ]
     },
     "execution_count": 438,
     "metadata": {},
     "output_type": "execute_result"
    },
    {
     "data": {
      "image/png": "[encoded data removed]",
      "text/plain": [
       "<Figure size 432x288 with 1 Axes>"
      ]
     },
     "metadata": {
      "needs_background": "light"
     },
     "output_type": "display_data"
    }
   ],
   "source": [
    "points = 1000\n",
    "n = 1000\n",
    "r = 0.2* n\n",
    "p_grid, posterior =   posterior_grid_search ( points, r, n)\n",
    "# Sample from the posterior distribution using the likelihood of each probability\n",
    "lst_sampled_probabilities =  np.array (random.choices(p_grid, weights= posterior, k=points))\n",
    "plt.hist (lst_sampled_probabilities)"
   ]
  },
  {
   "cell_type": "code",
   "execution_count": 439,
   "metadata": {
    "scrolled": true
   },
   "outputs": [
    {
     "data": {
      "text/plain": [
       "(array([0.00054163, 0.00090271, 0.00180542, 0.00776331, 0.01191578,\n",
       "        0.0231094 , 0.02726187, 0.03646952, 0.02419265, 0.02274831,\n",
       "        0.01245741, 0.0068606 , 0.00252759, 0.00144434, 0.00054163]),\n",
       " array([159.15915916, 164.69803136, 170.23690357, 175.77577578,\n",
       "        181.31464798, 186.85352019, 192.39239239, 197.9312646 ,\n",
       "        203.4701368 , 209.00900901, 214.54788121, 220.08675342,\n",
       "        225.62562563, 231.16449783, 236.70337004, 242.24224224]),\n",
       " <a list of 15 Patch objects>)"
      ]
     },
     "execution_count": 439,
     "metadata": {},
     "output_type": "execute_result"
    },
    {
     "data": {
      "image/png": "[encoded data removed]",
      "text/plain": [
       "<Figure size 432x288 with 1 Axes>"
      ]
     },
     "metadata": {
      "needs_background": "light"
     },
     "output_type": "display_data"
    }
   ],
   "source": [
    "campaign_size = 1000\n",
    "predicted_posterior = campaign_size * np.array (lst_sampled_probabilities)\n",
    "plt.hist (predicted_posterior, bins=15, density = True, color = BLUE5,alpha=0.5 )"
   ]
  },
  {
   "cell_type": "markdown",
   "metadata": {},
   "source": [
    "#### Repeat all of this for the case where n = 1000"
   ]
  },
  {
   "cell_type": "code",
   "execution_count": 458,
   "metadata": {
    "scrolled": false
   },
   "outputs": [
    {
     "data": {
      "text/plain": [
       "(array([  5.,  20., 105., 127., 272., 205., 190.,  51.,  21.,   4.]),\n",
       " array([0.18818819, 0.19069069, 0.19319319, 0.1956957 , 0.1981982 ,\n",
       "        0.2007007 , 0.2032032 , 0.20570571, 0.20820821, 0.21071071,\n",
       "        0.21321321]),\n",
       " <a list of 10 Patch objects>)"
      ]
     },
     "execution_count": 458,
     "metadata": {},
     "output_type": "execute_result"
    },
    {
     "data": {
      "image/png": "[encoded data removed]",
      "text/plain": [
       "<Figure size 432x288 with 1 Axes>"
      ]
     },
     "metadata": {
      "needs_background": "light"
     },
     "output_type": "display_data"
    }
   ],
   "source": [
    "points = 1000\n",
    "n = 10000\n",
    "r = 0.2* n\n",
    "p_grid, posterior =   posterior_grid_search ( points, r, n)\n",
    "# Sample from the posterior distribution using the likelihood of each probability\n",
    "lst_sampled_probabilities =  np.array (random.choices(p_grid, weights= posterior, k=points))\n",
    "plt.hist (lst_sampled_probabilities)"
   ]
  },
  {
   "cell_type": "code",
   "execution_count": 456,
   "metadata": {
    "scrolled": true
   },
   "outputs": [
    {
     "data": {
      "text/plain": [
       "(array([0.00561937, 0.05057438, 0.        , 0.22102875, 0.        ,\n",
       "        0.47015438, 0.        , 0.5994    , 0.        , 0.38586375,\n",
       "        0.        , 0.104895  , 0.        , 0.03371625, 0.00187312]),\n",
       " array([196.1961962, 196.7300634, 197.2639306, 197.7977978, 198.331665 ,\n",
       "        198.8655322, 199.3993994, 199.9332666, 200.4671338, 201.001001 ,\n",
       "        201.5348682, 202.0687354, 202.6026026, 203.1364698, 203.670337 ,\n",
       "        204.2042042]),\n",
       " <a list of 15 Patch objects>)"
      ]
     },
     "execution_count": 456,
     "metadata": {},
     "output_type": "execute_result"
    },
    {
     "data": {
      "image/png": "[encoded data removed]",
      "text/plain": [
       "<Figure size 432x288 with 1 Axes>"
      ]
     },
     "metadata": {
      "needs_background": "light"
     },
     "output_type": "display_data"
    }
   ],
   "source": [
    "campaign_size = 1000\n",
    "predicted_posterior = campaign_size * np.array (lst_sampled_probabilities)\n",
    "plt.hist (predicted_posterior, bins=15, density = True, color = BLUE5,alpha=0.5 )"
   ]
  },
  {
   "cell_type": "code",
   "execution_count": 457,
   "metadata": {
    "scrolled": true
   },
   "outputs": [
    {
     "data": {
      "text/plain": [
       "(array([0.00561937, 0.05057438, 0.        , 0.22102875, 0.        ,\n",
       "        0.47015438, 0.        , 0.5994    , 0.        , 0.38586375,\n",
       "        0.        , 0.104895  , 0.        , 0.03371625, 0.00187312]),\n",
       " array([196.1961962, 196.7300634, 197.2639306, 197.7977978, 198.331665 ,\n",
       "        198.8655322, 199.3993994, 199.9332666, 200.4671338, 201.001001 ,\n",
       "        201.5348682, 202.0687354, 202.6026026, 203.1364698, 203.670337 ,\n",
       "        204.2042042]),\n",
       " <a list of 15 Patch objects>)"
      ]
     },
     "execution_count": 457,
     "metadata": {},
     "output_type": "execute_result"
    },
    {
     "data": {
      "image/png": "[encoded data removed]",
      "text/plain": [
       "<Figure size 432x288 with 1 Axes>"
      ]
     },
     "metadata": {
      "needs_background": "light"
     },
     "output_type": "display_data"
    }
   ],
   "source": [
    "# fixing to a 20% chance of having a response find the sampling distribution for the campaign\n",
    "\n",
    "r_grid = list ( range ( 100, 300, 1) )\n",
    "p = 0.2\n",
    "ML_probs = stats.binom.pmf ( k=r_grid, n=campaign_size, p=p)\n",
    "\n",
    "# Now sample from this distribution as before...\n",
    "lst_sampled_probabilities_MLE =  np.array (random.choices(r_grid, weights= ML_probs, k=1000))\n",
    "#plt.hist (lst_sampled_probabilities_MLE)\n",
    "\n",
    "# Show the two histograms together.\n",
    "plt.hist (lst_sampled_probabilities_MLE, bins=15, density = True, color = GREEN1,alpha=0.5 )\n",
    "plt.hist (predicted_posterior, bins=15, density = True, color = BLUE1,alpha=0.5 )\n"
   ]
  },
  {
   "cell_type": "markdown",
   "metadata": {},
   "source": [
    "#### So if your campaign is 1000 people, you should be able to get a good feel for the responses (if sampling is the same)"
   ]
  },
  {
   "cell_type": "markdown",
   "metadata": {},
   "source": [
    "#### End of my detour"
   ]
  },
  {
   "cell_type": "markdown",
   "metadata": {},
   "source": [
    "#### Repeat the above the conventional way"
   ]
  },
  {
   "cell_type": "code",
   "execution_count": 102,
   "metadata": {
    "scrolled": true
   },
   "outputs": [
    {
     "data": {
      "text/plain": [
       "<matplotlib.legend.Legend at 0x285b0c830c8>"
      ]
     },
     "execution_count": 102,
     "metadata": {},
     "output_type": "execute_result"
    },
    {
     "data": {
      "image/png": "[encoded data removed]",
      "text/plain": [
       "<Figure size 432x288 with 1 Axes>"
      ]
     },
     "metadata": {
      "needs_background": "light"
     },
     "output_type": "display_data"
    }
   ],
   "source": [
    "points = 10\n",
    "r, n = 6, 9\n",
    "p_grid, posterior =   posterior_grid_search ( points, r, n)\n",
    "plt.plot (p_grid,posterior, 'o-', label='Successes={}, n={}'.format (r,n)   )\n",
    "plt.title ('Points: {}'.format (points) )\n",
    "plt.ylabel ( 'Posterior Probability')\n",
    "plt.xlabel ('p')\n",
    "plt.legend ( loc=0)"
   ]
  },
  {
   "cell_type": "markdown",
   "metadata": {},
   "source": [
    "#### Code 2.6 Compute the posterior with quadratic approximation"
   ]
  },
  {
   "cell_type": "code",
   "execution_count": null,
   "metadata": {},
   "outputs": [],
   "source": [
    "df compute_QAP ()\n",
    "\n",
    "data = np.repeat((0, 1), (3, 6))\n",
    "\n",
    "with pm.Model() as normal_aproximation:\n",
    "    p = pm.Uniform('p', 0, 1)\n",
    "    w = pm.Binomial('w', n=len(data), p=p, observed=data.sum())\n",
    "    mean_q = pm.find_MAP()\n",
    "    std_q = ((1/pm.find_hessian(mean_q, vars=[p]))**0.5)[0]\n",
    "mean_q['p'], std_q"
   ]
  },
  {
   "cell_type": "code",
   "execution_count": 49,
   "metadata": {},
   "outputs": [
    {
     "data": {
      "text/plain": [
       "array([0, 0, 0, 1, 1, 1, 1, 1, 1])"
      ]
     },
     "execution_count": 49,
     "metadata": {},
     "output_type": "execute_result"
    }
   ],
   "source": [
    "data = np.repeat((0, 1), (3, 6))\n",
    "data"
   ]
  },
  {
   "cell_type": "code",
   "execution_count": 32,
   "metadata": {},
   "outputs": [
    {
     "data": {
      "text/html": [
       "\n",
       "<style>\n",
       "    /* Turns off some styling */\n",
       "    progress {\n",
       "        /* gets rid of default border in Firefox and Opera. */\n",
       "        border: none;\n",
       "        /* Needs to be in here for Safari polyfill so background images work as expected. */\n",
       "        background-size: auto;\n",
       "    }\n",
       "    progress:not([value]), progress:not([value])::-webkit-progress-bar {\n",
       "        background: repeating-linear-gradient(45deg, #7e7e7e, #7e7e7e 10px, #5c5c5c 10px, #5c5c5c 20px);\n",
       "    }\n",
       "    .progress-bar-interrupted, .progress-bar-interrupted::-webkit-progress-bar {\n",
       "        background: #F44336;\n",
       "    }\n",
       "</style>\n"
      ],
      "text/plain": [
       "<IPython.core.display.HTML object>"
      ]
     },
     "metadata": {},
     "output_type": "display_data"
    },
    {
     "data": {
      "text/html": [
       "\n",
       "    <div>\n",
       "      <progress value='6' class='' max='6' style='width:300px; height:20px; vertical-align: middle;'></progress>\n",
       "      100.00% [6/6 00:00&lt;00:00 logp = -1.8075, ||grad|| = 1.5]\n",
       "    </div>\n",
       "    "
      ],
      "text/plain": [
       "<IPython.core.display.HTML object>"
      ]
     },
     "metadata": {},
     "output_type": "display_data"
    },
    {
     "name": "stdout",
     "output_type": "stream",
     "text": [
      "\n"
     ]
    },
    {
     "data": {
      "text/plain": [
       "(array(0.66666667), array([0.15713484]))"
      ]
     },
     "execution_count": 32,
     "metadata": {},
     "output_type": "execute_result"
    }
   ],
   "source": [
    "data = np.repeat((0, 1), (3, 6))\n",
    "with pm.Model() as normal_approximation:\n",
    "    p = pm.Uniform('p', 0, 1)\n",
    "    w = pm.Binomial('w', n=len(data), p=p, observed=data.sum())\n",
    "    mean_q = pm.find_MAP()\n",
    "    std_q = ((1/pm.find_hessian(mean_q, vars=[p]))**0.5)[0]\n",
    "\n",
    "mean_q['p'], std_q"
   ]
  },
  {
   "cell_type": "code",
   "execution_count": 11,
   "metadata": {},
   "outputs": [
    {
     "data": {
      "text/plain": [
       "array([0.00000000e+00, 8.65447568e-10, 5.37103165e-08, 5.93067004e-07,\n",
       "       3.22918777e-06, 1.19334528e-05, 3.45079280e-05, 8.42392045e-05,\n",
       "       1.81646332e-04, 3.56241999e-04, 6.48235117e-04, 1.11011165e-03,\n",
       "       1.80803889e-03, 2.82304631e-03, 4.25194390e-03, 6.20794624e-03,\n",
       "       8.82097737e-03, 1.22376385e-02, 1.66208267e-02, 2.21489989e-02,\n",
       "       2.90150807e-02, 3.74250260e-02, 4.75960372e-02, 5.97544602e-02,\n",
       "       7.41333755e-02, 9.09699060e-02, 1.10502271e-01, 1.32966614e-01,\n",
       "       1.58593641e-01, 1.87605101e-01, 2.20210151e-01, 2.56601645e-01,\n",
       "       2.96952382e-01, 3.41411370e-01, 3.90100141e-01, 4.43109155e-01,\n",
       "       5.00494360e-01, 5.62273930e-01, 6.28425240e-01, 6.98882117e-01,\n",
       "       7.73532415e-01, 8.52215945e-01, 9.34722817e-01, 1.02079221e+00,\n",
       "       1.11011165e+00, 1.20231675e+00, 1.29699151e+00, 1.39366924e+00,\n",
       "       1.49183395e+00, 1.59092251e+00, 1.69032728e+00, 1.78939947e+00,\n",
       "       1.88745311e+00, 1.98376968e+00, 2.07760334e+00, 2.16818683e+00,\n",
       "       2.25473789e+00, 2.33646640e+00, 2.41258191e+00, 2.48230178e+00,\n",
       "       2.54485978e+00, 2.59951504e+00, 2.64556139e+00, 2.68233696e+00,\n",
       "       2.70923397e+00, 2.72570861e+00, 2.73129096e+00, 2.72559476e+00,\n",
       "       2.70832696e+00, 2.67929691e+00, 2.63842509e+00, 2.58575112e+00,\n",
       "       2.52144097e+00, 2.44579323e+00, 2.35924411e+00, 2.26237108e+00,\n",
       "       2.15589496e+00, 2.04068009e+00, 1.91773253e+00, 1.78819580e+00,\n",
       "       1.65334414e+00, 1.51457284e+00, 1.37338536e+00, 1.23137700e+00,\n",
       "       1.09021469e+00, 9.51612627e-01, 8.17303388e-01, 6.89004072e-01,\n",
       "       5.68377167e-01, 4.56985662e-01, 3.56241999e-01, 2.67350407e-01,\n",
       "       1.91242151e-01, 1.28503210e-01, 7.92938800e-02, 4.32597635e-02,\n",
       "       1.94336196e-02, 6.12749446e-03, 8.14552327e-04, 0.00000000e+00])"
      ]
     },
     "execution_count": 11,
     "metadata": {},
     "output_type": "execute_result"
    }
   ],
   "source": [
    "w, n = 6, 9\n",
    "x = np.linspace(0, 1, 100)\n",
    "stats.beta.pdf(x , w+1, n-w+1)"
   ]
  },
  {
   "cell_type": "code",
   "execution_count": 12,
   "metadata": {},
   "outputs": [
    {
     "data": {
      "text/plain": [
       "[<matplotlib.lines.Line2D at 0x1a888a47088>]"
      ]
     },
     "execution_count": 12,
     "metadata": {},
     "output_type": "execute_result"
    },
    {
     "data": {
      "image/png": "[encoded data removed]",
      "text/plain": [
       "<Figure size 432x288 with 1 Axes>"
      ]
     },
     "metadata": {
      "needs_background": "light"
     },
     "output_type": "display_data"
    }
   ],
   "source": [
    "np.linspace(0, 1, 100)\n",
    "sum ( stats.beta.pdf(x , w+1, n-w+1))\n",
    "plt.plot ( np.arange (  100 ), stats.beta.pdf(x , 2, 5)/ 100  , 'o-' )\n"
   ]
  }
 ],
 "metadata": {
  "kernelspec": {
   "display_name": "Python 3",
   "language": "python",
   "name": "python3"
  },
  "language_info": {
   "codemirror_mode": {
    "name": "ipython",
    "version": 3
   },
   "file_extension": ".py",
   "mimetype": "text/x-python",
   "name": "python",
   "nbconvert_exporter": "python",
   "pygments_lexer": "ipython3",
   "version": "3.7.6"
  }
 },
 "nbformat": 4,
 "nbformat_minor": 4
}
