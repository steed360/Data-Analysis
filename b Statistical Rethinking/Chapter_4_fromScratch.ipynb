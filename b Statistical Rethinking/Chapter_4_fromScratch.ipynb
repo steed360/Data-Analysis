{
  "cells": [
    {
      "cell_type": "code",
      "source": [
        "#pip install pymc3"
      ],
      "metadata": {
        "id": "QCLFZKyZZPnY"
      },
      "execution_count": 3,
      "outputs": []
    },
    {
      "cell_type": "code",
      "execution_count": 4,
      "metadata": {
        "id": "zPuq4bn4ZEaB"
      },
      "outputs": [],
      "source": [
        "import arviz as az\n",
        "import matplotlib.pyplot as plt\n",
        "import numpy as np\n",
        "import pymc3 as pm\n",
        "import scipy.stats as stats\n",
        "import seaborn as sns"
      ]
    },
    {
      "cell_type": "code",
      "execution_count": 5,
      "metadata": {
        "id": "sJkdhi1fZEaE"
      },
      "outputs": [],
      "source": [
        "RANDOM_SEED = 8927\n",
        "rng = np.random.default_rng(RANDOM_SEED)"
      ]
    },
    {
      "cell_type": "markdown",
      "metadata": {
        "id": "45hhtnpmZEaF"
      },
      "source": [
        "4.1"
      ]
    },
    {
      "cell_type": "code",
      "source": [
        "# Random walk. Here are generated two indviduals (columns) walking 4 steps each of different length with a mean length of 0.\n",
        "# 2 experiments \n",
        "rng.uniform(-1, 1, size=(4, 2))"
      ],
      "metadata": {
        "id": "1qL_7IBrZfMR",
        "outputId": "e8335ecf-d0ed-4cea-fd88-887416986f4f",
        "colab": {
          "base_uri": "https://localhost:8080/"
        }
      },
      "execution_count": 8,
      "outputs": [
        {
          "output_type": "execute_result",
          "data": {
            "text/plain": [
              "array([[-0.1535979 , -0.63668678],\n",
              "       [ 0.98666943,  0.23890415],\n",
              "       [-0.66261311,  0.02847171],\n",
              "       [-0.70776874,  0.19232298]])"
            ]
          },
          "metadata": {},
          "execution_count": 8
        }
      ]
    },
    {
      "cell_type": "code",
      "execution_count": 15,
      "metadata": {
        "id": "L86u1qKMZEaL",
        "outputId": "dda7e95c-8be5-4ea5-c93f-c24971184d88",
        "colab": {
          "base_uri": "https://localhost:8080/",
          "height": 283
        }
      },
      "outputs": [
        {
          "output_type": "display_data",
          "data": {
            "text/plain": [
              "<Figure size 432x288 with 1 Axes>"
            ],
            "image/png": "[encoded data removed]"
          },
          "metadata": {
            "needs_background": "light"
          }
        }
      ],
      "source": [
        "# Repeat for 100,000 individuals: does it look like the normal distribution\n",
        "# ... this time?\n",
        "pos = rng.uniform(-1, 1, size=(16, int(1e6))).sum(0)\n",
        "az.plot_kde(pos)\n",
        "plt.xlabel(\"position\")\n",
        "plt.ylabel(\"Density\");"
      ]
    },
    {
      "cell_type": "code",
      "source": [],
      "metadata": {
        "id": "Ci4U_UQmaLK_"
      },
      "execution_count": null,
      "outputs": []
    },
    {
      "cell_type": "code",
      "source": [],
      "metadata": {
        "id": "j8sSBCyEZaCz"
      },
      "execution_count": null,
      "outputs": []
    }
  ],
  "metadata": {
    "kernelspec": {
      "display_name": "Python 3",
      "language": "python",
      "name": "python3"
    },
    "language_info": {
      "codemirror_mode": {
        "name": "ipython",
        "version": 3
      },
      "file_extension": ".py",
      "mimetype": "text/x-python",
      "name": "python",
      "nbconvert_exporter": "python",
      "pygments_lexer": "ipython3",
      "version": "3.7.6"
    },
    "colab": {
      "provenance": []
    }
  },
  "nbformat": 4,
  "nbformat_minor": 0
}