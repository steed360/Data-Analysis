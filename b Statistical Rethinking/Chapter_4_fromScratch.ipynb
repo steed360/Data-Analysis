{
  "cells": [
    {
      "cell_type": "markdown",
      "source": [
        "Based on https://github.com/pymc-devs/pymc-resources/blob/main/Rethinking/Chp_04.ipynb\n",
        "\n",
        "Developed on colab"
      ],
      "metadata": {
        "id": "bxOgV7g9ePtC"
      }
    },
    {
      "cell_type": "code",
      "source": [
        "#pip install pymc3"
      ],
      "metadata": {
        "id": "QCLFZKyZZPnY"
      },
      "execution_count": 3,
      "outputs": []
    },
    {
      "cell_type": "code",
      "source": [],
      "metadata": {
        "id": "vCO2mTwZgFrC"
      },
      "execution_count": null,
      "outputs": []
    },
    {
      "cell_type": "code",
      "execution_count": 4,
      "metadata": {
        "id": "zPuq4bn4ZEaB"
      },
      "outputs": [],
      "source": [
        "import arviz as az\n",
        "import matplotlib.pyplot as plt\n",
        "import numpy as np\n",
        "import pymc3 as pm\n",
        "import scipy.stats as stats\n",
        "import seaborn as sns"
      ]
    },
    {
      "cell_type": "code",
      "execution_count": 5,
      "metadata": {
        "id": "sJkdhi1fZEaE"
      },
      "outputs": [],
      "source": [
        "RANDOM_SEED = 8927\n",
        "rng = np.random.default_rng(RANDOM_SEED)"
      ]
    },
    {
      "cell_type": "markdown",
      "metadata": {
        "id": "45hhtnpmZEaF"
      },
      "source": [
        "4.1"
      ]
    },
    {
      "cell_type": "code",
      "source": [
        "# Random walk. Here are generated two indviduals (columns) walking 4 steps each of different length with a mean length of 0.\n",
        "# 2 experiments \n",
        "rng.uniform(-1, 1, size=(4, 2))"
      ],
      "metadata": {
        "colab": {
          "base_uri": "https://localhost:8080/"
        },
        "id": "1qL_7IBrZfMR",
        "outputId": "e8335ecf-d0ed-4cea-fd88-887416986f4f"
      },
      "execution_count": 8,
      "outputs": [
        {
          "output_type": "execute_result",
          "data": {
            "text/plain": [
              "array([[-0.1535979 , -0.63668678],\n",
              "       [ 0.98666943,  0.23890415],\n",
              "       [-0.66261311,  0.02847171],\n",
              "       [-0.70776874,  0.19232298]])"
            ]
          },
          "metadata": {},
          "execution_count": 8
        }
      ]
    },
    {
      "cell_type": "code",
      "execution_count": 17,
      "metadata": {
        "colab": {
          "base_uri": "https://localhost:8080/",
          "height": 283
        },
        "id": "L86u1qKMZEaL",
        "outputId": "645eea2a-1726-4a9c-969b-f32b61d24685"
      },
      "outputs": [
        {
          "output_type": "display_data",
          "data": {
            "text/plain": [
              "<Figure size 432x288 with 1 Axes>"
            ],
            "image/png": "[encoded data removed]"
          },
          "metadata": {
            "needs_background": "light"
          }
        }
      ],
      "source": [
        "# Repeat for 10,000 individuals: does it look like the normal distribution\n",
        "# ... this time?\n",
        "pos = rng.uniform(-1, 1, size=(16, int(1e5))).sum(0)\n",
        "az.plot_kde(pos)\n",
        "plt.xlabel(\"position\")\n",
        "plt.ylabel(\"Density\");"
      ]
    },
    {
      "cell_type": "markdown",
      "source": [
        "Figure 4.2"
      ],
      "metadata": {
        "id": "cdurS-vFetkL"
      }
    },
    {
      "cell_type": "code",
      "source": [
        "step_rng = np.random.default_rng(1234)\n",
        "step_rng.random()"
      ],
      "metadata": {
        "id": "vG3nOMmSfH2R",
        "outputId": "1fd99f40-5743-4529-f8fd-58a5aeb90ba4",
        "colab": {
          "base_uri": "https://localhost:8080/"
        }
      },
      "execution_count": 28,
      "outputs": [
        {
          "output_type": "execute_result",
          "data": {
            "text/plain": [
              "0.9766997666981422"
            ]
          },
          "metadata": {},
          "execution_count": 28
        }
      ]
    },
    {
      "cell_type": "code",
      "source": [
        "# Initialize a random generator.\n",
        "step_rng = np.random.default_rng(1234)\n",
        "\n",
        "steps = 16         # number of steps to take, each drawn from same distribution.\n",
        "repetitions = 1000 # i.e. individuals\n",
        "\n",
        "show_steps = [4, 8, 16]\n",
        "\n",
        "# Set up a matrix, 17 rows (steps) for 1000 individuals (columns)\n",
        "x = np.zeros([steps + 1, repetitions])\n",
        "\n",
        "for i in range(x.shape[1]): # i.e. loop through the columns\n",
        "    x[1:, i] = np.cumsum(step_rng.uniform(-1, 1, steps))\n"
      ],
      "metadata": {
        "id": "j8sSBCyEZaCz"
      },
      "execution_count": 29,
      "outputs": []
    },
    {
      "cell_type": "code",
      "source": [
        "x.shape[1]"
      ],
      "metadata": {
        "id": "ZCj8Q5tshNz4",
        "outputId": "08dc1efc-d0ea-4a8b-d150-545515c68306",
        "colab": {
          "base_uri": "https://localhost:8080/"
        }
      },
      "execution_count": 33,
      "outputs": [
        {
          "output_type": "execute_result",
          "data": {
            "text/plain": [
              "1000"
            ]
          },
          "metadata": {},
          "execution_count": 33
        }
      ]
    },
    {
      "cell_type": "code",
      "source": [
        "x = np.zeros([steps + 1, repetitions])\n",
        "x.shape"
      ],
      "metadata": {
        "id": "C_OGix7igWFO",
        "outputId": "8947b8c7-2783-4aad-f08e-48a024760cf3",
        "colab": {
          "base_uri": "https://localhost:8080/"
        }
      },
      "execution_count": 32,
      "outputs": [
        {
          "output_type": "execute_result",
          "data": {
            "text/plain": [
              "(17, 1000)"
            ]
          },
          "metadata": {},
          "execution_count": 32
        }
      ]
    },
    {
      "cell_type": "code",
      "source": [
        "help ( np.random.default_rng)"
      ],
      "metadata": {
        "id": "lG3KapT2faws",
        "outputId": "d68e0a92-9007-478d-9198-10231a42ddbc",
        "colab": {
          "base_uri": "https://localhost:8080/"
        }
      },
      "execution_count": 23,
      "outputs": [
        {
          "output_type": "stream",
          "name": "stdout",
          "text": [
            "Help on built-in function default_rng in module numpy.random._generator:\n",
            "\n",
            "default_rng(...)\n",
            "    Construct a new Generator with the default BitGenerator (PCG64).\n",
            "    \n",
            "    Parameters\n",
            "    ----------\n",
            "    seed : {None, int, array_like[ints], SeedSequence, BitGenerator, Generator}, optional\n",
            "        A seed to initialize the `BitGenerator`. If None, then fresh,\n",
            "        unpredictable entropy will be pulled from the OS. If an ``int`` or\n",
            "        ``array_like[ints]`` is passed, then it will be passed to\n",
            "        `SeedSequence` to derive the initial `BitGenerator` state. One may also\n",
            "        pass in a `SeedSequence` instance.\n",
            "        Additionally, when passed a `BitGenerator`, it will be wrapped by\n",
            "        `Generator`. If passed a `Generator`, it will be returned unaltered.\n",
            "    \n",
            "    Returns\n",
            "    -------\n",
            "    Generator\n",
            "        The initialized generator object.\n",
            "    \n",
            "    Notes\n",
            "    -----\n",
            "    If ``seed`` is not a `BitGenerator` or a `Generator`, a new `BitGenerator`\n",
            "    is instantiated. This function does not manage a default global instance.\n",
            "    \n",
            "    Examples\n",
            "    --------\n",
            "    ``default_rng`` is the recommended constructor for the random number class\n",
            "    ``Generator``. Here are several ways we can construct a random \n",
            "    number generator using ``default_rng`` and the ``Generator`` class. \n",
            "    \n",
            "    Here we use ``default_rng`` to generate a random float:\n",
            "    \n",
            "    >>> import numpy as np\n",
            "    >>> rng = np.random.default_rng(12345)\n",
            "    >>> print(rng)\n",
            "    Generator(PCG64)\n",
            "    >>> rfloat = rng.random()\n",
            "    >>> rfloat\n",
            "    0.22733602246716966\n",
            "    >>> type(rfloat)\n",
            "    <class 'float'>\n",
            "     \n",
            "    Here we use ``default_rng`` to generate 3 random integers between 0 \n",
            "    (inclusive) and 10 (exclusive):\n",
            "        \n",
            "    >>> import numpy as np\n",
            "    >>> rng = np.random.default_rng(12345)\n",
            "    >>> rints = rng.integers(low=0, high=10, size=3)\n",
            "    >>> rints\n",
            "    array([6, 2, 7])\n",
            "    >>> type(rints[0])\n",
            "    <class 'numpy.int64'>\n",
            "    \n",
            "    Here we specify a seed so that we have reproducible results:\n",
            "    \n",
            "    >>> import numpy as np\n",
            "    >>> rng = np.random.default_rng(seed=42)\n",
            "    >>> print(rng)\n",
            "    Generator(PCG64)\n",
            "    >>> arr1 = rng.random((3, 3))\n",
            "    >>> arr1\n",
            "    array([[0.77395605, 0.43887844, 0.85859792],\n",
            "           [0.69736803, 0.09417735, 0.97562235],\n",
            "           [0.7611397 , 0.78606431, 0.12811363]])\n",
            "    \n",
            "    If we exit and restart our Python interpreter, we'll see that we\n",
            "    generate the same random numbers again:\n",
            "    \n",
            "    >>> import numpy as np\n",
            "    >>> rng = np.random.default_rng(seed=42)\n",
            "    >>> arr2 = rng.random((3, 3))\n",
            "    >>> arr2\n",
            "    array([[0.77395605, 0.43887844, 0.85859792],\n",
            "           [0.69736803, 0.09417735, 0.97562235],\n",
            "           [0.7611397 , 0.78606431, 0.12811363]])\n",
            "\n"
          ]
        }
      ]
    }
  ],
  "metadata": {
    "kernelspec": {
      "display_name": "Python 3",
      "language": "python",
      "name": "python3"
    },
    "language_info": {
      "codemirror_mode": {
        "name": "ipython",
        "version": 3
      },
      "file_extension": ".py",
      "mimetype": "text/x-python",
      "name": "python",
      "nbconvert_exporter": "python",
      "pygments_lexer": "ipython3",
      "version": "3.7.6"
    },
    "colab": {
      "provenance": []
    }
  },
  "nbformat": 4,
  "nbformat_minor": 0
}