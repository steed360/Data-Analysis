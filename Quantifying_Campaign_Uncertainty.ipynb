{
  "nbformat": 4,
  "nbformat_minor": 0,
  "metadata": {
    "colab": {
      "provenance": [],
      "authorship_tag": "ABX9TyOuKpqFUGaiG6ZDCZNIbn0B",
      "include_colab_link": true
    },
    "kernelspec": {
      "name": "python3",
      "display_name": "Python 3"
    },
    "language_info": {
      "name": "python"
    }
  },
  "cells": [
    {
      "cell_type": "markdown",
      "metadata": {
        "id": "view-in-github",
        "colab_type": "text"
      },
      "source": [
        "<a href=\"https://colab.research.google.com/github/steed360/Data-Analysis/blob/main/Quantifying_Campaign_Uncertainty.ipynb\" target=\"_parent\"><img src=\"https://colab.research.google.com/assets/colab-badge.svg\" alt=\"Open In Colab\"/></a>"
      ]
    },
    {
      "cell_type": "code",
      "execution_count": 17,
      "metadata": {
        "id": "8irXriLS2v_5"
      },
      "outputs": [],
      "source": [
        "import arviz as az\n",
        "import matplotlib.pyplot as plt\n",
        "import numpy as np\n",
        "#import pymc3 as pm\n",
        "import pandas as pd\n",
        "import scipy.stats as stats\n",
        "import seaborn as sns\n",
        "#from scipy.interpolate import griddata\n"
      ]
    },
    {
      "cell_type": "markdown",
      "source": [
        "**Purpose of this Notebook**\n",
        "\n",
        "Tool for predicting campaign effectiveness.  \n",
        "\n",
        "A previous campaign contacted 1000 people and had a response rate of 5%. Repeating the campaign, how many responses can be expected?\n",
        "\n",
        "Assuming an underlying Bernouilli variable (response rate) of 0.05 (5%), show different ways to apply this in predicting the expected number of responses to a new campaign. \n",
        "\n",
        "The 5 ways this can be done:\n",
        "\n",
        "??) Assume no knowledge at all. Here we'll \n",
        "\n",
        "a)  Apply a fixed point (multiply the unseen sample by 0.05). So to find the expected response rate, simply  multiply the number of people to be contacted by 0.05. \n",
        "\n",
        "b)   Apply fixed points but acknowledge the uncertainty that 0.05 is the right point to use (on account of sampling distributions). Therefore select a 90% confidence interval.\n",
        "\n",
        "c)  Instead of applying fixed points apply all of the **sampling distribution as fixed points**. Sample a lot of response ratepoints from the sampling distribution, sample a response probability from the sampling distribution. Because response rates closer to 0.05 are more plausible, they will be selected more often. Hence, \n",
        "\n",
        "d)  As \n",
        "\n",
        "\n"
      ],
      "metadata": {
        "id": "uQLJuRkn2-b_"
      }
    },
    {
      "cell_type": "code",
      "source": [
        "Original_Campaign_Size = 1000 # sample size"
      ],
      "metadata": {
        "id": "joN0Aq8g29SN"
      },
      "execution_count": 7,
      "outputs": []
    },
    {
      "cell_type": "code",
      "source": [
        "New_Campaign_Size = 1000"
      ],
      "metadata": {
        "id": "VNV54tha8Dam"
      },
      "execution_count": 120,
      "outputs": []
    },
    {
      "cell_type": "code",
      "source": [
        "Original_Response_Rate  = 0.1  # NB: Assumption is IID Bernouilli variable"
      ],
      "metadata": {
        "id": "1FvkGpfn8TgM"
      },
      "execution_count": 122,
      "outputs": []
    },
    {
      "cell_type": "code",
      "source": [
        "Original_Campaign_Responses = Original_Campaign_Size * Original_Response_Rate\n",
        "Original_Campaign_Responses"
      ],
      "metadata": {
        "colab": {
          "base_uri": "https://localhost:8080/"
        },
        "id": "4mF955ci9M5s",
        "outputId": "06bb9aac-5208-4587-a6e9-2e957262f4de"
      },
      "execution_count": 123,
      "outputs": [
        {
          "output_type": "execute_result",
          "data": {
            "text/plain": [
              "100.0"
            ]
          },
          "metadata": {},
          "execution_count": 123
        }
      ]
    },
    {
      "cell_type": "markdown",
      "source": [
        "**A) Apply fixed point statistic**"
      ],
      "metadata": {
        "id": "EMv-dN108cHq"
      }
    },
    {
      "cell_type": "code",
      "source": [
        "New_Campaign_Responses = New_Campaign_Size * Original_Response_Rate\n",
        "New_Campaign_Responses"
      ],
      "metadata": {
        "colab": {
          "base_uri": "https://localhost:8080/"
        },
        "id": "Sm4S3lCj8atV",
        "outputId": "03fb5c5a-95f7-407e-fc39-0acd4de40a0b"
      },
      "execution_count": 65,
      "outputs": [
        {
          "output_type": "execute_result",
          "data": {
            "text/plain": [
              "100.0"
            ]
          },
          "metadata": {},
          "execution_count": 65
        }
      ]
    },
    {
      "cell_type": "markdown",
      "source": [
        "**B) Account for Sampling Error in the Original Distribution**"
      ],
      "metadata": {
        "id": "Y2uBCHh4-MII"
      }
    },
    {
      "cell_type": "code",
      "source": [
        "# Set up a list of underlying possible response_rates \n",
        "# The distribution plotted sums up to 1 and the height of the curve (0.1) \n",
        "# represents the most plausible value in the population.\n",
        "\n",
        "grid_points = 1000\n",
        "p_grid = np.linspace ( 0, 1, grid_points )\n",
        "prior  = np.repeat ( 5, grid_points )  # this is a completley uniformative prior that will get washed away\n",
        "ustd_posterior = stats.binom.pmf ( k=New_Campaign_Responses, n=Original_Campaign_Size, p= p_grid ) * prior\n",
        "posterior = ustd_posterior / ustd_posterior.sum()\n",
        "plt.plot (p_grid, posterior, 'o')"
      ],
      "metadata": {
        "colab": {
          "base_uri": "https://localhost:8080/",
          "height": 282
        },
        "id": "it5mFVD7-Tt1",
        "outputId": "e3dcf60b-5a37-42ed-a5cd-ae854797cb94"
      },
      "execution_count": 157,
      "outputs": [
        {
          "output_type": "execute_result",
          "data": {
            "text/plain": [
              "[<matplotlib.lines.Line2D at 0x7f05801a8430>]"
            ]
          },
          "metadata": {},
          "execution_count": 157
        },
        {
          "output_type": "display_data",
          "data": {
            "text/plain": [
              "<Figure size 432x288 with 1 Axes>"
            ],
            "image/png": "[encoded data removed]"
          },
          "metadata": {
            "needs_background": "light"
          }
        }
      ]
    },
    {
      "cell_type": "markdown",
      "source": [
        "b_i Calculate The Confidence Intervals : The Bayesian Way"
      ],
      "metadata": {
        "id": "J8ydQAa_QQ-a"
      }
    },
    {
      "cell_type": "code",
      "source": [
        "# Calculate the 90% confidence interval. \n",
        "# Firstly do it the Bayesian Analysis way.\n",
        "\n",
        "# Get 1000 samples from the above distribution\n",
        "samples = np.random.choice(p_grid, p=posterior, size=int(1e5), replace=True)\n",
        "\n",
        "# If you have samples the confidence intervals are just percentiles.\n",
        "lstCI = np.percentile (samples, [2.5,97.5])\n",
        "\n",
        "print (  lstCI)\n",
        "az.plot_kde ( samples)\n",
        "plt.axvline (lstCI[0] )\n",
        "plt.axvline (lstCI[1] )\n",
        "\n",
        "# The figures below are the upper and lower bounds that the population response_rate could be (if IID)\n",
        "# The interval is also shown on the chart.\n",
        "# The chart is a simulation from the sampling distribution. You could use this in a violin plot as well of course."
      ],
      "metadata": {
        "colab": {
          "base_uri": "https://localhost:8080/",
          "height": 304
        },
        "id": "0LSGbhzlKCSE",
        "outputId": "1607bc77-ea5e-4b28-bc95-97a027f56de2"
      },
      "execution_count": 141,
      "outputs": [
        {
          "output_type": "stream",
          "name": "stdout",
          "text": [
            "[0.0830083  0.12021202]\n"
          ]
        },
        {
          "output_type": "execute_result",
          "data": {
            "text/plain": [
              "<matplotlib.lines.Line2D at 0x7f05803ead30>"
            ]
          },
          "metadata": {},
          "execution_count": 141
        },
        {
          "output_type": "display_data",
          "data": {
            "text/plain": [
              "<Figure size 432x288 with 1 Axes>"
            ],
            "image/png": "[encoded data removed]"
          },
          "metadata": {
            "needs_background": "light"
          }
        }
      ]
    },
    {
      "cell_type": "markdown",
      "source": [
        "b_ii Calculate the Confidence Intervals : The Frequentist Way"
      ],
      "metadata": {
        "id": "nLoTU1y_QZhC"
      }
    },
    {
      "cell_type": "code",
      "source": [
        "# TODO\n",
        "# stats.binom.pmf ( k=New_Campaign_Responses, n=Original_Campaign_Size, p= 0.1 )"
      ],
      "metadata": {
        "colab": {
          "base_uri": "https://localhost:8080/"
        },
        "id": "kFC9BzE9Laso",
        "outputId": "6c14bcd8-57b4-4aae-ed13-2c95c236df03"
      },
      "execution_count": 142,
      "outputs": [
        {
          "output_type": "execute_result",
          "data": {
            "text/plain": [
              "0.04201679086108606"
            ]
          },
          "metadata": {},
          "execution_count": 142
        }
      ]
    },
    {
      "cell_type": "markdown",
      "source": [
        "b_iii Apply the values at the lower and upper confidence interval bounds to the future campaign"
      ],
      "metadata": {
        "id": "oMmm2TJBRiwY"
      }
    },
    {
      "cell_type": "code",
      "source": [
        "# This is the expected (95%) confidence range.\n",
        "print ( New_Campaign_Size * lstCI [0] ) \n",
        "print ( New_Campaign_Size * lstCI [1] ) "
      ],
      "metadata": {
        "colab": {
          "base_uri": "https://localhost:8080/"
        },
        "id": "UgBhGumpRpOB",
        "outputId": "b4548cb8-138b-4f7a-f329-2b8080e9cce2"
      },
      "execution_count": 143,
      "outputs": [
        {
          "output_type": "stream",
          "name": "stdout",
          "text": [
            "83.00830083008302\n",
            "120.21202120212021\n"
          ]
        }
      ]
    },
    {
      "cell_type": "markdown",
      "source": [
        "C) Now assume that the we know the response rate is a single value (10%).   \n",
        "The number of people who will response is a matter of probability.\n",
        "There is a small chance that none people will respond and a small(er) chance that all will.\n",
        "\n",
        "This is effectively the same as the CI approach above, so disregard it."
      ],
      "metadata": {
        "id": "j2uuz06FS-Ff"
      }
    },
    {
      "cell_type": "code",
      "source": [
        "# A good way to deal with this problem is to simulate from the distribution.\n",
        "# Get 1000 samples from the above distribution\n",
        "# Note: this has already been done in b.\n",
        "\n",
        "number_of_simulations=10000\n",
        "trials = 1000  # number of people to contract, expected responses is 0.1 * 1000 = 100\n",
        "samples = stats.binom.rvs(n= trials, p=0.1, size= number_of_simulations )\n",
        "#print(samples)\n",
        "az.plot_kde (samples)\n",
        "\n",
        "# If you have samples the confidence intervals are just percentiles.\n",
        "lstCI = np.percentile (samples, [2.5,97.5])\n",
        "\n",
        "print (  lstCI)\n",
        "az.plot_kde ( samples)\n",
        "plt.axvline (lstCI[0] )\n",
        "plt.axvline (lstCI[1] )\n",
        "\n",
        "print ( [ lstCI[0] / trials, lstCI[1]/ trials ])"
      ],
      "metadata": {
        "colab": {
          "base_uri": "https://localhost:8080/",
          "height": 304
        },
        "id": "PtJLOFloVHsa",
        "outputId": "35bb3b92-abad-489e-e37f-62d8ec3b1307"
      },
      "execution_count": 204,
      "outputs": [
        {
          "output_type": "stream",
          "name": "stdout",
          "text": [
            "[ 82. 119.]\n",
            "[0.082, 0.119]\n"
          ]
        },
        {
          "output_type": "display_data",
          "data": {
            "text/plain": [
              "<Figure size 432x288 with 1 Axes>"
            ],
            "image/png": "[encoded data removed]"
          },
          "metadata": {
            "needs_background": "light"
          }
        }
      ]
    },
    {
      "cell_type": "markdown",
      "source": [
        "D) Sample probabilities from the posterior and then simulate from that to create a predictive posterior and then simulate from  that."
      ],
      "metadata": {
        "id": "Ye38-nern9RQ"
      }
    },
    {
      "cell_type": "code",
      "source": [
        "# We have already calculated the posterior and have the grid points:\n",
        "#grid_points\n",
        "#posterior\n",
        "\n",
        "probs = np.random.choice(p_grid, p=posterior, size=int(1e5), replace=True)\n",
        "\n",
        "# previous code\n",
        "#samples = np.random.choice(p_grid, p=posterior, size=int(1e5), replace=True)\n",
        "\n",
        "# New code\n",
        "number_of_simulations=100000\n",
        "campaign_size = 1000\n",
        "samples = stats.binom.rvs(n=campaign_size, p= probs, size=number_of_simulations )\n",
        "\n",
        "az.plot_kde ( samples)\n",
        "\n",
        "# If you have samples the confidence intervals are just percentiles.\n",
        "lstCI = np.percentile (samples, [2.5,97.5])\n",
        "\n",
        "print (  lstCI)\n",
        "plt.axvline (lstCI[0] )\n",
        "plt.axvline (lstCI[1] )\n",
        "\n",
        "# This is a broader distribution than before.\n",
        "print ( [ lstCI[0] / trials, lstCI[1]/ trials ])\n"
      ],
      "metadata": {
        "colab": {
          "base_uri": "https://localhost:8080/",
          "height": 304
        },
        "id": "w13QyYJYoLj-",
        "outputId": "361a33c7-d7bb-4d62-af41-80ac57bb077a"
      },
      "execution_count": 236,
      "outputs": [
        {
          "output_type": "stream",
          "name": "stdout",
          "text": [
            "[ 76. 128.]\n",
            "[0.076, 0.128]\n"
          ]
        },
        {
          "output_type": "display_data",
          "data": {
            "text/plain": [
              "<Figure size 432x288 with 1 Axes>"
            ],
            "image/png": "[encoded data removed]"
          },
          "metadata": {
            "needs_background": "light"
          }
        }
      ]
    },
    {
      "cell_type": "code",
      "source": [
        "# Now, "
      ],
      "metadata": {
        "id": "kAo3ihxDICH2"
      },
      "execution_count": null,
      "outputs": []
    }
  ]
}