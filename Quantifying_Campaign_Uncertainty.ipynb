{
  "nbformat": 4,
  "nbformat_minor": 0,
  "metadata": {
    "colab": {
      "provenance": [],
      "authorship_tag": "ABX9TyOMkBF36OpUoGdGWIgBI32K",
      "include_colab_link": true
    },
    "kernelspec": {
      "name": "python3",
      "display_name": "Python 3"
    },
    "language_info": {
      "name": "python"
    }
  },
  "cells": [
    {
      "cell_type": "markdown",
      "metadata": {
        "id": "view-in-github",
        "colab_type": "text"
      },
      "source": [
        "<a href=\"https://colab.research.google.com/github/steed360/Data-Analysis/blob/main/Quantifying_Campaign_Uncertainty.ipynb\" target=\"_parent\"><img src=\"https://colab.research.google.com/assets/colab-badge.svg\" alt=\"Open In Colab\"/></a>"
      ]
    },
    {
      "cell_type": "code",
      "execution_count": 17,
      "metadata": {
        "id": "8irXriLS2v_5"
      },
      "outputs": [],
      "source": [
        "import arviz as az\n",
        "import matplotlib.pyplot as plt\n",
        "import numpy as np\n",
        "#import pymc3 as pm\n",
        "import pandas as pd\n",
        "import scipy.stats as stats\n",
        "import seaborn as sns\n",
        "#from scipy.interpolate import griddata\n"
      ]
    },
    {
      "cell_type": "markdown",
      "source": [
        "**Purpose of this Notebook**\n",
        "\n",
        "Tool for predicting campaign effectiveness.  \n",
        "\n",
        "A previous campaign contacted 1000 people and had a response rate of 5%. Repeating the campaign, how many responses can be expected?\n",
        "\n",
        "Assuming an underlying Bernouilli variable (response rate) of 0.05 (5%), show different ways to apply this in predicting the expected number of responses to a new campaign. \n",
        "\n",
        "The 5 ways this can be done:\n",
        "\n",
        "??) Assume no knowledge at all. Here we'll \n",
        "\n",
        "a)  Apply a fixed point (multiply the unseen sample by 0.05). So to find the expected response rate, simply  multiply the number of people to be contacted by 0.05. \n",
        "\n",
        "b)   Apply fixed points but acknowledge the uncertainty that 0.05 is the right point to use (on account of sampling distributions). The fixed points will be the lower and upper bounds of the 90% confidence interval.\n",
        "\n",
        "c)  Instead of applying fixed points apply all of the **sampling distribution as fixed points**. Sample a lot of response ratepoints from the sampling distribution, sample a response probability from the sampling distribution. Because response rates closer to 0.05 are more plausible, they will be selected more often. Hence, \n",
        "\n",
        "d)  As \n",
        "\n",
        "\n"
      ],
      "metadata": {
        "id": "uQLJuRkn2-b_"
      }
    },
    {
      "cell_type": "code",
      "source": [
        "Original_Campaign_Size = 1000 # sample size"
      ],
      "metadata": {
        "id": "joN0Aq8g29SN"
      },
      "execution_count": 7,
      "outputs": []
    },
    {
      "cell_type": "code",
      "source": [
        "New_Campaign_Size = 1000"
      ],
      "metadata": {
        "id": "VNV54tha8Dam"
      },
      "execution_count": 3,
      "outputs": []
    },
    {
      "cell_type": "code",
      "source": [
        "Original_Response_Rate  = 0.05  # NB: Assumption is IID Bernouilli variable"
      ],
      "metadata": {
        "id": "1FvkGpfn8TgM"
      },
      "execution_count": 11,
      "outputs": []
    },
    {
      "cell_type": "code",
      "source": [
        "Original_Campaign_Responses = Original_Campaign_Size * Original_Response_Rate\n",
        "Original_Campaign_Responses"
      ],
      "metadata": {
        "colab": {
          "base_uri": "https://localhost:8080/"
        },
        "id": "4mF955ci9M5s",
        "outputId": "4fc261aa-3b82-4d63-b810-b594e7589af6"
      },
      "execution_count": 12,
      "outputs": [
        {
          "output_type": "execute_result",
          "data": {
            "text/plain": [
              "50.0"
            ]
          },
          "metadata": {},
          "execution_count": 12
        }
      ]
    },
    {
      "cell_type": "markdown",
      "source": [
        "**A) Apply fixed point statistic**"
      ],
      "metadata": {
        "id": "EMv-dN108cHq"
      }
    },
    {
      "cell_type": "code",
      "source": [
        "New_Campaign_Responses = New_Campaign_Size * Original_Response_Rate\n",
        "New_Campaign_Responses"
      ],
      "metadata": {
        "colab": {
          "base_uri": "https://localhost:8080/"
        },
        "id": "Sm4S3lCj8atV",
        "outputId": "9af24c2b-eaa7-4f52-ac3c-11df3c79312b"
      },
      "execution_count": 14,
      "outputs": [
        {
          "output_type": "execute_result",
          "data": {
            "text/plain": [
              "50.0"
            ]
          },
          "metadata": {},
          "execution_count": 14
        }
      ]
    },
    {
      "cell_type": "markdown",
      "source": [
        "**B) Account for Sampling Error in the Original Distribution**"
      ],
      "metadata": {
        "id": "Y2uBCHh4-MII"
      }
    },
    {
      "cell_type": "code",
      "source": [
        "# Set up a list of underlying possible response_rates \n",
        "\n",
        "grid_points = 1000\n",
        "p_grid = np.linspace ( 0, 1, grid_points )\n",
        "ustd_posterior = stats.binom.pmf ( k=New_Campaign_Responses, n=Original_Campaign_Size, p= p_grid ) * np.repeat ( 5, grid_points )\n",
        "posterior = ustd_posterior / ustd_posterior.sum()\n",
        "plt.plot (p_grid[10:120], posterior[10:120], 'o')"
      ],
      "metadata": {
        "colab": {
          "base_uri": "https://localhost:8080/",
          "height": 284
        },
        "id": "it5mFVD7-Tt1",
        "outputId": "f7f5ffe8-0893-4d39-c37d-b2b6aa8d418d"
      },
      "execution_count": 62,
      "outputs": [
        {
          "output_type": "execute_result",
          "data": {
            "text/plain": [
              "[<matplotlib.lines.Line2D at 0x7f05837b1400>]"
            ]
          },
          "metadata": {},
          "execution_count": 62
        },
        {
          "output_type": "display_data",
          "data": {
            "text/plain": [
              "<Figure size 432x288 with 1 Axes>"
            ],
            "image/png": "[encoded data removed]"
          },
          "metadata": {
            "needs_background": "light"
          }
        }
      ]
    }
  ]
}