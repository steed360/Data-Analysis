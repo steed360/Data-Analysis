{
  "cells": [
    {
      "cell_type": "markdown",
      "metadata": {
        "id": "view-in-github",
        "colab_type": "text"
      },
      "source": [
        "<a href=\"https://colab.research.google.com/github/steed360/Data-Analysis/blob/main/a_Regression_Errors.ipynb\" target=\"_parent\"><img src=\"https://colab.research.google.com/assets/colab-badge.svg\" alt=\"Open In Colab\"/></a>"
      ]
    },
    {
      "cell_type": "markdown",
      "id": "2c5c9a22",
      "metadata": {
        "id": "2c5c9a22"
      },
      "source": [
        "### Create charts to illustrate and better understand which distributions of Y will produce linear regression models that satisfy the \"regression assumptions\", including:\n",
        "\n",
        "- Error terms will be normally distributed\n",
        "- Same std deviation for the error term regardless of position along X\n",
        "\n",
        "Method:\n",
        "\n",
        "Part One:\n",
        "\n",
        "- Firstly start with a fitted model (estimating height for a given weight)\n",
        "- Plot the regression line and the error distribution for a few points X\n",
        "- Generate data for each xi,\n",
        "  i.e. create normal distributions for yi~N( mean = + 154cm + weight * slope , std= 4)\n",
        "- In this simple example regression could be seen as basicaly a few conditional Normal Distributions\n",
        "- Show the distribution of the \"dataset\" that would have so perfectly met these regression assumptions.\n",
        "- Specifically gather the data sampled from Normal (Y1) Normal (Y2) etc into one array and show what distribution we get.  Is it Normally Distributed?\n",
        "\n",
        "Part Two:\n",
        "\n",
        "- Positively skewed data with long tails includes income data, travel data, survival times.\n",
        "- Books warn that trying to explain such data with a regression model is likely to break the constant error variance \"regression assumption\"\n",
        "- Repeat the data sampling in Part One (again sample from the regression equation)\n",
        "- This time increase the variance for the last two points.\n",
        "- Again, collect the conditional data sampled from each Xi and throw it all into one array.\n",
        "- What is the shape of the distribution of the Y data?\n"
      ]
    },
    {
      "cell_type": "code",
      "source": [
        "%matplotlib inline\n",
        "import numpy as np\n",
        "import pandas as pd\n",
        "from pandas import DataFrame\n",
        "import pandas.api.types as pdtypes # for (sorted) categories.\n",
        "\n",
        "import matplotlib.pyplot as plt\n",
        "\n",
        "import scipy.stats as stats\n",
        "\n",
        "import arviz as az\n",
        "\n",
        "import plotnine\n",
        "#from plotnine import ggplot, geom_point, aes, stat_smooth, facet_wrap\n",
        "from plotnine import *\n",
        "from plotnine import ggplot, geom_point, aes, stat_smooth, facet_wrap, geom_line\n",
        "from plotnine import ggplot  # https://plotnine.readthedocs.io/en/stable/\n",
        "from plotnine import geom_violin, geom_density\n",
        "\n",
        "import matplotlib\n",
        "from matplotlib import gridspec\n",
        "\n",
        "%matplotlib inline\n",
        "\n",
        "from mizani import formatters # for better axis labelling\n",
        "from matplotlib.ticker import FixedLocator, FixedFormatter\n",
        "from matplotlib.patches import Rectangle\n"
      ],
      "metadata": {
        "id": "LZ5WXNXiQBfg"
      },
      "id": "LZ5WXNXiQBfg",
      "execution_count": 2,
      "outputs": []
    },
    {
      "cell_type": "code",
      "source": [
        "# define colors\n",
        "GRAY1, GRAY2, GRAY3 = '#231F20', '#414040', '#555655'\n",
        "GRAY4, GRAY5, GRAY6 = '#646369', '#76787B', '#828282'\n",
        "GRAY7, GRAY8, GRAY9 = '#929497', '#A6A6A5', '#BFBEBE'\n",
        "BLUE1, BLUE2, BLUE3, BLUE4 = '#174A7E', '#4A81BF', '#94B2D7', '#94AFC5'\n",
        "BLUE5, BLUE6 = '#92CDDD', '#2E869D'\n",
        "RED1, RED2 = '#C3514E', '#E6BAB7'\n",
        "GREEN1, GREEN2 = '#0C8040', '#9ABB59'\n",
        "ORANGE1, ORANGE2, ORANGE3 = '#F79747', '#FAC090', '#F36721'"
      ],
      "metadata": {
        "id": "xy1xJErKP-hy"
      },
      "id": "xy1xJErKP-hy",
      "execution_count": 18,
      "outputs": []
    },
    {
      "cell_type": "code",
      "source": [
        "# configure plot font family to Arial\n",
        "#plt.rcParams['font.family'] = 'Arial'\n",
        "# configure mathtext bold and italic font family to Arial\n",
        "#matplotlib.rcParams['mathtext.fontset'] = 'custom'\n",
        "#matplotlib.rcParams['mathtext.bf'] = 'Arial:bold'\n",
        "#matplotlib.rcParams['mathtext.it'] = 'Arial:italic'"
      ],
      "metadata": {
        "id": "yJj9rRihRnku"
      },
      "id": "yJj9rRihRnku",
      "execution_count": 4,
      "outputs": []
    },
    {
      "cell_type": "code",
      "source": [
        "# Specify the chart layout (PowerBI all is forgiven.... :)\n",
        "\n",
        "def SWD_theme ():\n",
        "\n",
        "    font = \"Arial\" # doesn't work on Colab\n",
        "    #t=theme_minimal(base_size = 10, base_family = font )\n",
        "    t=theme_minimal(base_size = 10 )\n",
        "\n",
        "    t2 = theme(\n",
        "      #panel_grid_major = element_blank(),\n",
        "      panel_grid_major = element_line(size = 0.5, color = GRAY9),\n",
        "      panel_grid_minor = element_line(size = 0.5, color = GRAY9),\n",
        "\n",
        "      #panel_grid_minor = element_blank(),\n",
        "      axis_line = element_line(size = .1, color = GRAY9),\n",
        "      axis_text = element_text(color = GRAY3, size = 12),\n",
        "      #axis.ticks.x = element_line(size = 0.5, color = GRAY9),\n",
        "      #axis.ticks.y = element_line(size = 0.5, color = GRAY9),\n",
        "      axis_title = element_text(color = GRAY3),\n",
        "      #axis_title_y = element_text(hjust = 1, margin = margin(0, 6, 0, 15, \"pt\")),\n",
        "      #axis_title_x = element_text(hjust = 0, margin = margin(6, 0, 15, 0, \"pt\")),\n",
        "      #plot_subtitle = element_text(color = GRAY4, size= 8),\n",
        "      plot_title = element_text(color = GRAY4, size= 12 ),\n",
        "      # I don't think this line is implemented in plotnine\n",
        "      #plot_title_position = \"plot\", # This aligns the plot title to the very left edge\n",
        "      #plot_caption = element_text(hjust = 0, color = GRAY6),\n",
        "      #plot_caption_position = \"plot\",\n",
        "      #plot_margin = margin(.5,.5,.5,.5,\"cm\"),\n",
        "      #plot_margin = (0.4 ),\n",
        "      strip_text = element_text(color = GRAY7))\n",
        "\n",
        "    return t+ t2"
      ],
      "metadata": {
        "id": "lRjIJkzyP_ma"
      },
      "id": "lRjIJkzyP_ma",
      "execution_count": 5,
      "outputs": []
    },
    {
      "cell_type": "markdown",
      "id": "aafebb2e",
      "metadata": {
        "id": "aafebb2e"
      },
      "source": [
        "# Part One"
      ]
    },
    {
      "cell_type": "markdown",
      "id": "03eb5e27",
      "metadata": {
        "id": "03eb5e27"
      },
      "source": [
        "#### Sample from the normal distribution for each of the four points, specifically sample from N ( mu = 30, s= 5), N (mu=40, s=5) etc"
      ]
    },
    {
      "cell_type": "code",
      "execution_count": 6,
      "id": "d8ac1df4",
      "metadata": {
        "id": "d8ac1df4",
        "colab": {
          "base_uri": "https://localhost:8080/"
        },
        "outputId": "b015aad0-7e7d-471e-e45b-09802890ff69"
      },
      "outputs": [
        {
          "output_type": "execute_result",
          "data": {
            "text/plain": [
              "{20: 172.0, 30: 181.0, 40: 190.0, 50: 199.0}"
            ]
          },
          "metadata": {},
          "execution_count": 6
        }
      ],
      "source": [
        "# Specify some x values.\n",
        "lst_x =  [i for i in range ( 20,60, 10)]\n",
        "np_x = np.array ( lst_x)\n",
        "\n",
        "\n",
        "# Produce some Yi values using\n",
        "# a model of height = function (weight) from Statistical Rethinking\n",
        "# Place in a dict for later retrieval.\n",
        "\n",
        "\n",
        "b_weight_kg = 0.9\n",
        "c_avg_height_cm = 154\n",
        "sd = 5.0  # standard deviation of errors.\n",
        "\n",
        "dictYi = {}\n",
        "\n",
        "for xi in lst_x:\n",
        "  dictYi[xi] = c_avg_height_cm  + b_weight_kg * xi\n",
        "\n",
        "dictYi\n"
      ]
    },
    {
      "cell_type": "code",
      "source": [
        "#####################################\n",
        "# A simple data frame is needed to do a line chart\n",
        "###################################\n",
        "\n",
        "lst_Yi = [dictYi[xi] for xi in dictYi.keys() ]\n",
        "\n",
        "data_x_y = pd.DataFrame ( {'x':lst_x,'y':lst_Yi})\n",
        "\n",
        "# Currently doing this as a categorical variable because the violin plot requires a categorical X Axis\n",
        "data_x_y['variable'] = data_x_y['x'].astype(pdtypes.CategoricalDtype(categories=[20,30,40,50]))\n",
        "data_x_y['group'] = 1\n",
        "\n",
        "data_x_y"
      ],
      "metadata": {
        "id": "QIfhfrdaOkxU",
        "colab": {
          "base_uri": "https://localhost:8080/",
          "height": 174
        },
        "outputId": "54d4dc10-1527-4450-9f28-611451a33b6f"
      },
      "id": "QIfhfrdaOkxU",
      "execution_count": 7,
      "outputs": [
        {
          "output_type": "execute_result",
          "data": {
            "text/plain": [
              "    x      y variable  group\n",
              "0  20  172.0       20      1\n",
              "1  30  181.0       30      1\n",
              "2  40  190.0       40      1\n",
              "3  50  199.0       50      1"
            ],
            "text/html": [
              "\n",
              "\n",
              "  <div id=\"df-d679c350-aa74-494d-89c7-186060d59ad5\">\n",
              "    <div class=\"colab-df-container\">\n",
              "      <div>\n",
              "<style scoped>\n",
              "    .dataframe tbody tr th:only-of-type {\n",
              "        vertical-align: middle;\n",
              "    }\n",
              "\n",
              "    .dataframe tbody tr th {\n",
              "        vertical-align: top;\n",
              "    }\n",
              "\n",
              "    .dataframe thead th {\n",
              "        text-align: right;\n",
              "    }\n",
              "</style>\n",
              "<table border=\"1\" class=\"dataframe\">\n",
              "  <thead>\n",
              "    <tr style=\"text-align: right;\">\n",
              "      <th></th>\n",
              "      <th>x</th>\n",
              "      <th>y</th>\n",
              "      <th>variable</th>\n",
              "      <th>group</th>\n",
              "    </tr>\n",
              "  </thead>\n",
              "  <tbody>\n",
              "    <tr>\n",
              "      <th>0</th>\n",
              "      <td>20</td>\n",
              "      <td>172.0</td>\n",
              "      <td>20</td>\n",
              "      <td>1</td>\n",
              "    </tr>\n",
              "    <tr>\n",
              "      <th>1</th>\n",
              "      <td>30</td>\n",
              "      <td>181.0</td>\n",
              "      <td>30</td>\n",
              "      <td>1</td>\n",
              "    </tr>\n",
              "    <tr>\n",
              "      <th>2</th>\n",
              "      <td>40</td>\n",
              "      <td>190.0</td>\n",
              "      <td>40</td>\n",
              "      <td>1</td>\n",
              "    </tr>\n",
              "    <tr>\n",
              "      <th>3</th>\n",
              "      <td>50</td>\n",
              "      <td>199.0</td>\n",
              "      <td>50</td>\n",
              "      <td>1</td>\n",
              "    </tr>\n",
              "  </tbody>\n",
              "</table>\n",
              "</div>\n",
              "      <button class=\"colab-df-convert\" onclick=\"convertToInteractive('df-d679c350-aa74-494d-89c7-186060d59ad5')\"\n",
              "              title=\"Convert this dataframe to an interactive table.\"\n",
              "              style=\"display:none;\">\n",
              "\n",
              "  <svg xmlns=\"http://www.w3.org/2000/svg\" height=\"24px\"viewBox=\"0 0 24 24\"\n",
              "       width=\"24px\">\n",
              "    <path d=\"M0 0h24v24H0V0z\" fill=\"none\"/>\n",
              "    <path d=\"M18.56 5.44l.94 2.06.94-2.06 2.06-.94-2.06-.94-.94-2.06-.94 2.06-2.06.94zm-11 1L8.5 8.5l.94-2.06 2.06-.94-2.06-.94L8.5 2.5l-.94 2.06-2.06.94zm10 10l.94 2.06.94-2.06 2.06-.94-2.06-.94-.94-2.06-.94 2.06-2.06.94z\"/><path d=\"M17.41 7.96l-1.37-1.37c-.4-.4-.92-.59-1.43-.59-.52 0-1.04.2-1.43.59L10.3 9.45l-7.72 7.72c-.78.78-.78 2.05 0 2.83L4 21.41c.39.39.9.59 1.41.59.51 0 1.02-.2 1.41-.59l7.78-7.78 2.81-2.81c.8-.78.8-2.07 0-2.86zM5.41 20L4 18.59l7.72-7.72 1.47 1.35L5.41 20z\"/>\n",
              "  </svg>\n",
              "      </button>\n",
              "\n",
              "\n",
              "\n",
              "    <div id=\"df-c8b99ca7-3c76-4737-87af-b555f0739bb8\">\n",
              "      <button class=\"colab-df-quickchart\" onclick=\"quickchart('df-c8b99ca7-3c76-4737-87af-b555f0739bb8')\"\n",
              "              title=\"Suggest charts.\"\n",
              "              style=\"display:none;\">\n",
              "\n",
              "<svg xmlns=\"http://www.w3.org/2000/svg\" height=\"24px\"viewBox=\"0 0 24 24\"\n",
              "     width=\"24px\">\n",
              "    <g>\n",
              "        <path d=\"M19 3H5c-1.1 0-2 .9-2 2v14c0 1.1.9 2 2 2h14c1.1 0 2-.9 2-2V5c0-1.1-.9-2-2-2zM9 17H7v-7h2v7zm4 0h-2V7h2v10zm4 0h-2v-4h2v4z\"/>\n",
              "    </g>\n",
              "</svg>\n",
              "      </button>\n",
              "    </div>\n",
              "\n",
              "<style>\n",
              "  .colab-df-quickchart {\n",
              "    background-color: #E8F0FE;\n",
              "    border: none;\n",
              "    border-radius: 50%;\n",
              "    cursor: pointer;\n",
              "    display: none;\n",
              "    fill: #1967D2;\n",
              "    height: 32px;\n",
              "    padding: 0 0 0 0;\n",
              "    width: 32px;\n",
              "  }\n",
              "\n",
              "  .colab-df-quickchart:hover {\n",
              "    background-color: #E2EBFA;\n",
              "    box-shadow: 0px 1px 2px rgba(60, 64, 67, 0.3), 0px 1px 3px 1px rgba(60, 64, 67, 0.15);\n",
              "    fill: #174EA6;\n",
              "  }\n",
              "\n",
              "  [theme=dark] .colab-df-quickchart {\n",
              "    background-color: #3B4455;\n",
              "    fill: #D2E3FC;\n",
              "  }\n",
              "\n",
              "  [theme=dark] .colab-df-quickchart:hover {\n",
              "    background-color: #434B5C;\n",
              "    box-shadow: 0px 1px 3px 1px rgba(0, 0, 0, 0.15);\n",
              "    filter: drop-shadow(0px 1px 2px rgba(0, 0, 0, 0.3));\n",
              "    fill: #FFFFFF;\n",
              "  }\n",
              "</style>\n",
              "\n",
              "    <script>\n",
              "      async function quickchart(key) {\n",
              "        const containerElement = document.querySelector('#' + key);\n",
              "        const charts = await google.colab.kernel.invokeFunction(\n",
              "            'suggestCharts', [key], {});\n",
              "      }\n",
              "    </script>\n",
              "\n",
              "      <script>\n",
              "\n",
              "function displayQuickchartButton(domScope) {\n",
              "  let quickchartButtonEl =\n",
              "    domScope.querySelector('#df-c8b99ca7-3c76-4737-87af-b555f0739bb8 button.colab-df-quickchart');\n",
              "  quickchartButtonEl.style.display =\n",
              "    google.colab.kernel.accessAllowed ? 'block' : 'none';\n",
              "}\n",
              "\n",
              "        displayQuickchartButton(document);\n",
              "      </script>\n",
              "      <style>\n",
              "    .colab-df-container {\n",
              "      display:flex;\n",
              "      flex-wrap:wrap;\n",
              "      gap: 12px;\n",
              "    }\n",
              "\n",
              "    .colab-df-convert {\n",
              "      background-color: #E8F0FE;\n",
              "      border: none;\n",
              "      border-radius: 50%;\n",
              "      cursor: pointer;\n",
              "      display: none;\n",
              "      fill: #1967D2;\n",
              "      height: 32px;\n",
              "      padding: 0 0 0 0;\n",
              "      width: 32px;\n",
              "    }\n",
              "\n",
              "    .colab-df-convert:hover {\n",
              "      background-color: #E2EBFA;\n",
              "      box-shadow: 0px 1px 2px rgba(60, 64, 67, 0.3), 0px 1px 3px 1px rgba(60, 64, 67, 0.15);\n",
              "      fill: #174EA6;\n",
              "    }\n",
              "\n",
              "    [theme=dark] .colab-df-convert {\n",
              "      background-color: #3B4455;\n",
              "      fill: #D2E3FC;\n",
              "    }\n",
              "\n",
              "    [theme=dark] .colab-df-convert:hover {\n",
              "      background-color: #434B5C;\n",
              "      box-shadow: 0px 1px 3px 1px rgba(0, 0, 0, 0.15);\n",
              "      filter: drop-shadow(0px 1px 2px rgba(0, 0, 0, 0.3));\n",
              "      fill: #FFFFFF;\n",
              "    }\n",
              "  </style>\n",
              "\n",
              "      <script>\n",
              "        const buttonEl =\n",
              "          document.querySelector('#df-d679c350-aa74-494d-89c7-186060d59ad5 button.colab-df-convert');\n",
              "        buttonEl.style.display =\n",
              "          google.colab.kernel.accessAllowed ? 'block' : 'none';\n",
              "\n",
              "        async function convertToInteractive(key) {\n",
              "          const element = document.querySelector('#df-d679c350-aa74-494d-89c7-186060d59ad5');\n",
              "          const dataTable =\n",
              "            await google.colab.kernel.invokeFunction('convertToInteractive',\n",
              "                                                     [key], {});\n",
              "          if (!dataTable) return;\n",
              "\n",
              "          const docLinkHtml = 'Like what you see? Visit the ' +\n",
              "            '<a target=\"_blank\" href=https://colab.research.google.com/notebooks/data_table.ipynb>data table notebook</a>'\n",
              "            + ' to learn more about interactive tables.';\n",
              "          element.innerHTML = '';\n",
              "          dataTable['output_type'] = 'display_data';\n",
              "          await google.colab.output.renderOutput(dataTable, element);\n",
              "          const docLink = document.createElement('div');\n",
              "          docLink.innerHTML = docLinkHtml;\n",
              "          element.appendChild(docLink);\n",
              "        }\n",
              "      </script>\n",
              "    </div>\n",
              "  </div>\n"
            ]
          },
          "metadata": {},
          "execution_count": 7
        }
      ]
    },
    {
      "cell_type": "code",
      "source": [
        "from plotnine import geom_violin\n",
        "from plotnine import ggplot, aes, theme\n",
        "\n",
        "t = theme(\n",
        "          # Overrides\n",
        "          axis_title_y = element_text(angle = 90, va = 'bottom', ha = 'left', size = 13, color = GRAY3, y = 0.5),\n",
        "          axis_title_x = element_text(  size = 13, color = GRAY3, x=0.75),\n",
        "          #panel_grid_major_y=element_blank(),\n",
        "          legend_position=\"none\"\n",
        ")\n",
        "\n",
        "lsize = 0.1\n",
        "shift = -0.06\n",
        "shift_point = 0.07\n",
        "\n",
        "# For shifting the violin plot\n",
        "def alt_sign(x):\n",
        "    \"Alternate +1/-1 if x is even/odd\"\n",
        "    #return (-1) ** x\n",
        "    return\n",
        "\n",
        "fig = \\\n",
        "(ggplot()\n",
        "  + geom_line (data_x_y,aes( x='variable', y='y', group = 'group', size=2),color=GRAY8 )\n",
        "  + geom_point (data_x_y, aes( x='variable', y='y',size=10), color=GRAY8 )\n",
        "  + labs(y = \"Expected Height (cm)    \"  , x = \"Given Weight (kg)\")\n",
        "  +  SWD_theme() + t\n",
        "\n",
        ")\n",
        "\n",
        "fig"
      ],
      "metadata": {
        "id": "aqgYcR03Pvlc",
        "colab": {
          "base_uri": "https://localhost:8080/",
          "height": 489
        },
        "outputId": "f768e79e-a77c-4ee8-9c80-f4089aa3e549"
      },
      "id": "aqgYcR03Pvlc",
      "execution_count": 19,
      "outputs": [
        {
          "output_type": "display_data",
          "data": {
            "text/plain": [
              "<Figure size 640x480 with 1 Axes>"
            ],
            "image/png": "[encoded data removed]"
          },
          "metadata": {
            "needs_background": "light"
          }
        },
        {
          "output_type": "execute_result",
          "data": {
            "text/plain": [
              "<ggplot: (8461937950588)>"
            ]
          },
          "metadata": {},
          "execution_count": 19
        }
      ]
    },
    {
      "cell_type": "markdown",
      "source": [
        "Sample from the 4 normal distributions (specifing a constant st dev of 5 cm)"
      ],
      "metadata": {
        "id": "_CMeQqljcpI2"
      },
      "id": "_CMeQqljcpI2"
    },
    {
      "cell_type": "code",
      "source": [
        "dictYi"
      ],
      "metadata": {
        "id": "EWOiKt6ef_8e",
        "colab": {
          "base_uri": "https://localhost:8080/"
        },
        "outputId": "c1e82c32-86da-49a2-9fb5-64b05f52c091"
      },
      "id": "EWOiKt6ef_8e",
      "execution_count": 9,
      "outputs": [
        {
          "output_type": "execute_result",
          "data": {
            "text/plain": [
              "{20: 172.0, 30: 181.0, 40: 190.0, 50: 199.0}"
            ]
          },
          "metadata": {},
          "execution_count": 9
        }
      ]
    },
    {
      "cell_type": "code",
      "source": [
        "# Specify some x values.\n",
        "lst_x =  [i for i in range ( 20,60, 10)]\n",
        "np_x = np.array ( lst_x)\n",
        "\n",
        "\n",
        "# Produce some Yi values using\n",
        "# a model of height = function (weight) from Statistical Rethinking\n",
        "# Place in a dict for later retrieval.\n",
        "\n",
        "\n",
        "b_weight_kg = 0.9\n",
        "c_avg_height_cm = 154\n",
        "sd = 5.0  # standard deviation of errors.\n",
        "\n",
        "N = 100              # Number of data points to generate.\n",
        "#N = 100000              # Number of data points to generate.\n",
        "\n",
        "# Create a dataframe (with x as columns and yi~N() samples as rows)\n",
        "\n",
        "df = pd.DataFrame()\n",
        "\n",
        "for xi in lst_x:\n",
        "    yi = dictYi[xi]\n",
        "    df[xi] = stats.norm.rvs(yi , 5, N)\n",
        "\n",
        "###################################\n",
        "\n",
        "# A long version of this dataframe is needed for plotting as violin plots\n",
        "import pandas.api.types as pdtypes # for (sorted) categories.\n",
        "df_long = pd.melt(df,value_vars=[20,30,40,50]  )\n",
        "df_long['variable'] = df_long['variable'].astype(pdtypes.CategoricalDtype(categories=[10,20,30,40,50,60]))\n",
        "\n",
        "\n"
      ],
      "metadata": {
        "id": "irOfAJs_WrZf"
      },
      "id": "irOfAJs_WrZf",
      "execution_count": 10,
      "outputs": []
    },
    {
      "cell_type": "markdown",
      "source": [
        "Do violin plot"
      ],
      "metadata": {
        "id": "wTZxAvJ8W-ld"
      },
      "id": "wTZxAvJ8W-ld"
    },
    {
      "cell_type": "code",
      "source": [
        "from plotnine import geom_violin\n",
        "from plotnine import ggplot, aes\n",
        "\n",
        "t = theme(\n",
        "          # Overrides\n",
        "          axis_title_y = element_text(angle = 90, va = 'bottom', ha = 'left', size = 13, color = GRAY3, y = 0.5),\n",
        "          axis_title_x = element_text(  size = 13, color = GRAY3, x=0.8),\n",
        "          #panel_grid_major_y=element_blank(),\n",
        "          legend_position=\"none\"\n",
        ")\n",
        "\n",
        "lsize = 0.1\n",
        "shift = -0.06\n",
        "shift_point = 0.07\n",
        "\n",
        "# For shifting the violin plot\n",
        "def alt_sign(x):\n",
        "    \"Alternate +1/-1 if x is even/odd\"\n",
        "    #return (-1) ** x\n",
        "    return\n",
        "\n",
        "m1 = aes(x=stage('variable', after_scale='x+shift*x'))                 # shift outward\n",
        "m2 = aes(x=stage('variable', after_scale='x+shift_point*x'))           # shift outward\n",
        "m3 = aes( stage('variable', after_scale='x+shift_point*x' ),y='vals' )\n",
        "\n",
        "fig = \\\n",
        "(ggplot(df_long, aes('variable', 'value',group = 'variable'))\n",
        "  + geom_violin( alpha=0.3, color=GRAY8, fill=BLUE3, style=\"right\", size=lsize)\n",
        "  #+ geom_point(m2, alpha=0.005, color=GRAY8,size=0.2)\n",
        "  + geom_line (data_x_y,aes( x='variable', y='y', group = 'group', size=2),color=GRAY8 )\n",
        "  + geom_point (data_x_y, aes( x='variable', y='y',size=10), color=GRAY8 )\n",
        "  + labs(y = \"Expected Height (cm)     \"  , x = \"Given Weight (kg)\")\n",
        "  +SWD_theme() + t\n",
        ")\n",
        "\n",
        "\n",
        "fig"
      ],
      "metadata": {
        "id": "7t45ufDXXDqK",
        "colab": {
          "base_uri": "https://localhost:8080/",
          "height": 484
        },
        "outputId": "4a59ff25-dfa7-4732-f7b4-7077f5bacb39"
      },
      "id": "7t45ufDXXDqK",
      "execution_count": 11,
      "outputs": [
        {
          "output_type": "display_data",
          "data": {
            "text/plain": [
              "<Figure size 640x480 with 1 Axes>"
            ],
            "image/png": "[encoded data removed]"
          },
          "metadata": {
            "needs_background": "light"
          }
        },
        {
          "output_type": "execute_result",
          "data": {
            "text/plain": [
              "<ggplot: (8461941364478)>"
            ]
          },
          "metadata": {},
          "execution_count": 11
        }
      ]
    },
    {
      "cell_type": "markdown",
      "source": [
        "Plot the densities\n",
        "- Each of the conditional normal distributions\n",
        "- Originating Distribution: Building up a distribution by sampling an equal number of value from each of the 4 conditional normal distributions\n",
        "- Lastly, find the meand and std. dev. of the above distribution. Sample from a Normal Distribution using these parameters.\n",
        "\n",
        "The last step is intended to give a visual comparison of the originating distribution and a normal one with the same mean and variance."
      ],
      "metadata": {
        "id": "7RtQVy7oDCi4"
      },
      "id": "7RtQVy7oDCi4"
    },
    {
      "cell_type": "code",
      "source": [
        "# Find the mean and standard deviation in order to give a comparison.\n",
        "std1 = np.std (df_long['value'] )\n",
        "mu1  = np.mean (df_long['value'] )\n",
        "# Repeat the distribution for the data sampled from across the 4 conditional normal dists\n",
        "# And add the properly shaped normal one just defined\n",
        "\n",
        "df_Normal = pd.DataFrame ( { 'value': stats.norm.rvs( mu1 ,std1, N) })"
      ],
      "metadata": {
        "id": "7_TkaHs_XXpQ"
      },
      "id": "7_TkaHs_XXpQ",
      "execution_count": 12,
      "outputs": []
    },
    {
      "cell_type": "code",
      "source": [
        "t = theme(\n",
        "          # Overrides\n",
        "          axis_title_y = element_text(angle = 90, va = 'bottom', ha = 'left', size = 13, color = GRAY3, y = 0.8),\n",
        "          axis_title_x = element_text(  size = 13, color = GRAY3, x=0.8),\n",
        "          #panel_grid_major_y=element_blank(),\n",
        "          panel_grid_major_x=element_blank(),\n",
        "          panel_grid_minor_x=element_blank(),\n",
        "          axis_text_y = element_text( color=GRAY5, size=10)  ,\n",
        "          axis_text_x = element_text( color=GRAY5, size=8)  ,\n",
        "          legend_position=\"none\"\n",
        ")\n",
        "\n",
        "# Conditional distributions\n",
        "p1 = \\\n",
        "  (ggplot(df_long, aes(x='value', group='variable') )\n",
        "  + geom_density (alpha=0.1, color=GRAY6)\n",
        "  + labs(y = \"Density     \"  , x = \"Given Weight (kg)\")\n",
        "  + scale_x_continuous(limit = [150, 220])\n",
        "   +SWD_theme() + t\n",
        ")\n",
        "\n",
        "# Originating distribution\n",
        "p2 = \\\n",
        "  (ggplot(df_long, aes(x='value'))\n",
        "  + geom_density (alpha=0.1,  color=GRAY6)\n",
        "  + labs(y = \"Density     \"  , x = \"Given Weight (kg)\")\n",
        "  +SWD_theme() + t\n",
        ")\n",
        "\n",
        "# Normal Distribution\n",
        "p3 = \\\n",
        "  (ggplot(df_Normal, aes(x='value'))\n",
        "  + geom_density (alpha=0.1,  color=GRAY6)\n",
        "  + geom_density (df_long, aes(x='value'), color=GRAY8 )\n",
        "  + labs(y = \"Density     \"  , x = \"Given Weight (kg)\")\n",
        "  +SWD_theme() + t\n",
        ")\n",
        "\n",
        "# Empty plotnine figure to place the subplots on. Needs junk data (for backend \"copy\" reasons).\n",
        "fig = (ggplot()+geom_blank(data=df) +theme_void()).draw(show=False, return_ggplot=False)\n",
        "\n",
        "# Create gridspec for adding subpanels to the blank figure\n",
        "gs = gridspec.GridSpec(1, 3)\n",
        "ax1 = fig.add_subplot(gs[0,0])\n",
        "ax2 = fig.add_subplot(gs[0,1])\n",
        "ax3 = fig.add_subplot(gs[0,2])\n",
        "\n",
        "gs.update(wspace=0.5, hspace=0.05) # set the spacing between axes.\n",
        "\n",
        "# Add subplots to the figure\n",
        "_=p1._draw_using_figure(fig, [ax1])\n",
        "_=p2._draw_using_figure(fig, [ax2] )\n",
        "_=p3._draw_using_figure(fig, [ax3] )\n",
        "\n",
        "fig.dpi = 100\n",
        "width_in = 7\n",
        "fig.set_size_inches(width_in , width_in/1.62)\n",
        "\n",
        "# X axis labels.\n",
        "fig.axes[1].set_xlabel ('Conditional\\n Normals')\n",
        "fig.axes[2].set_xlabel ('Originating\\n Distribution')\n",
        "fig.axes[3].set_xlabel ('Normal\\n Distribution')\n",
        "\n",
        "ax0 = fig.add_axes( (0,0,1,1))\n",
        "ax0.axis('Off') # don't draw anything."
      ],
      "metadata": {
        "id": "ad3D3FuLPCMs",
        "colab": {
          "base_uri": "https://localhost:8080/",
          "height": 503
        },
        "outputId": "1fe31d49-60c1-4d8a-b8c3-dd01f16554d6"
      },
      "id": "ad3D3FuLPCMs",
      "execution_count": 31,
      "outputs": [
        {
          "output_type": "execute_result",
          "data": {
            "text/plain": [
              "(0.0, 1.0, 0.0, 1.0)"
            ]
          },
          "metadata": {},
          "execution_count": 31
        },
        {
          "output_type": "display_data",
          "data": {
            "text/plain": [
              "<Figure size 700x432.099 with 5 Axes>"
            ],
            "image/png": "[encoded data removed]"
          },
          "metadata": {
            "needs_background": "light"
          }
        }
      ]
    },
    {
      "cell_type": "markdown",
      "source": [
        "## So in summary\n",
        "### In this case the data that created a \"perfect\" linear model was not a normal distribution. The distribution is a bit wider (like a T-Distrbution?).  However, it is worth nothing that there was also no skew in the originating distribution."
      ],
      "metadata": {
        "id": "uCFWpjJga93R"
      },
      "id": "uCFWpjJga93R"
    },
    {
      "cell_type": "markdown",
      "source": [
        "# Part 2"
      ],
      "metadata": {
        "id": "WH4qgPclcZbj"
      },
      "id": "WH4qgPclcZbj"
    },
    {
      "cell_type": "markdown",
      "source": [
        "As before Sample from the 4 Normal Distributions but this time\n",
        "- The std. dev. for esimated height is still 5 at 20&30 kg\n",
        "- But the std. dev. for esimated height is 10 at 40&50 kg\n"
      ],
      "metadata": {
        "id": "jsvN7b6Cc2CM"
      },
      "id": "jsvN7b6Cc2CM"
    },
    {
      "cell_type": "code",
      "source": [],
      "metadata": {
        "id": "QcpL1NxqdciV"
      },
      "id": "QcpL1NxqdciV",
      "execution_count": 14,
      "outputs": []
    },
    {
      "cell_type": "code",
      "source": [
        "# Specify some x values.\n",
        "lst_x =  [i for i in range ( 20,60, 10)]\n",
        "np_x = np.array ( lst_x)\n",
        "\n",
        "\n",
        "# Produce some Yi values using\n",
        "# a model of height = function (weight) from Statistical Rethinking\n",
        "# Place in a dict for later retrieval.\n",
        "\n",
        "b_weight_kg = 0.9\n",
        "c_avg_height_cm = 154\n",
        "sd = 5.0  # standard deviation of errors.\n",
        "\n",
        "\n",
        "N = 100000              # Number of data points to generate.\n",
        "\n",
        "# Create a dataframe (with x as columns and yi~N() samples as rows)\n",
        "\n",
        "df = pd.DataFrame()\n",
        "\n",
        "for xi in lst_x:\n",
        "    yi = dictYi[xi]\n",
        "    if xi <= 30:\n",
        "      df[xi] = stats.norm.rvs(yi , 5, N)\n",
        "    else:\n",
        "      df[xi] = stats.norm.rvs(yi , 10, N)\n",
        "\n",
        "###################################\n",
        "\n",
        "# A long version of this dataframe is needed for plotting as violin plots\n",
        "import pandas.api.types as pdtypes # for (sorted) categories.\n",
        "df_long = pd.melt(df,value_vars=[20,30,40,50]  )\n",
        "df_long['variable'] = df_long['variable'].astype(pdtypes.CategoricalDtype(categories=[10,20,30,40,50,60]))\n",
        "\n"
      ],
      "metadata": {
        "id": "gKe0zNjVcb1g"
      },
      "id": "gKe0zNjVcb1g",
      "execution_count": 15,
      "outputs": []
    },
    {
      "cell_type": "markdown",
      "source": [
        "Redo the violin plot"
      ],
      "metadata": {
        "id": "BJPFjWRReJuu"
      },
      "id": "BJPFjWRReJuu"
    },
    {
      "cell_type": "code",
      "source": [
        "from plotnine import geom_violin\n",
        "from plotnine import ggplot, aes\n",
        "\n",
        "t = theme(\n",
        "          # Overrides\n",
        "          axis_title_y = element_text(angle = 90, va = 'bottom', ha = 'left', size = 13, color = GRAY3, y = 0.5),\n",
        "          axis_title_x = element_text(  size = 13, color = GRAY3, x=0.8),\n",
        "          panel_grid_major_y=element_blank(),\n",
        "          legend_position=\"none\"\n",
        ")\n",
        "\n",
        "lsize = 0.1\n",
        "shift = -0.06\n",
        "shift_point = 0.07\n",
        "\n",
        "# For shifting the violin plot\n",
        "def alt_sign(x):\n",
        "    \"Alternate +1/-1 if x is even/odd\"\n",
        "    #return (-1) ** x\n",
        "    return\n",
        "\n",
        "m1 = aes(x=stage('variable', after_scale='x+shift*x'))                 # shift outward\n",
        "m2 = aes(x=stage('variable', after_scale='x+shift_point*x'))           # shift outward\n",
        "m3 = aes( stage('variable', after_scale='x+shift_point*x' ),y='vals' )\n",
        "\n",
        "fig = \\\n",
        "(ggplot(df_long, aes('variable', 'value',group = 'variable'))\n",
        "  + geom_violin( alpha=0.3, color=GRAY8, fill=BLUE3, style=\"right\", size=lsize)\n",
        "  #+ geom_point(m2, alpha=0.005, color=GRAY8,size=0.2)\n",
        "  + geom_line (data_x_y,aes( x='variable', y='y', group = 'group', size=2),color=GRAY8 )\n",
        "  + geom_point (data_x_y, aes( x='variable', y='y',size=10), color=GRAY8 )\n",
        "  + labs(y = \"Expected Height (cm)     \"  , x = \"Given Weight (kg)\")\n",
        "  +SWD_theme() + t\n",
        ")\n",
        "\n",
        "\n",
        "fig"
      ],
      "metadata": {
        "id": "rxKCb2-Rdxbq",
        "colab": {
          "base_uri": "https://localhost:8080/",
          "height": 484
        },
        "outputId": "94b5caad-6cb4-43e5-db63-a60edefd9dc9"
      },
      "id": "rxKCb2-Rdxbq",
      "execution_count": 16,
      "outputs": [
        {
          "output_type": "display_data",
          "data": {
            "text/plain": [
              "<Figure size 640x480 with 1 Axes>"
            ],
            "image/png": "[encoded data removed]"
          },
          "metadata": {
            "needs_background": "light"
          }
        },
        {
          "output_type": "execute_result",
          "data": {
            "text/plain": [
              "<ggplot: (8461937858311)>"
            ]
          },
          "metadata": {},
          "execution_count": 16
        }
      ]
    },
    {
      "cell_type": "markdown",
      "source": [
        "## So in summary\n",
        "#### The originating distribution for height is definately a little skewed to the right.  Does this really tell us anything though?"
      ],
      "metadata": {
        "id": "jLbTSZrieZfl"
      },
      "id": "jLbTSZrieZfl"
    }
  ],
  "metadata": {
    "kernelspec": {
      "display_name": "Python 3 (ipykernel)",
      "language": "python",
      "name": "python3"
    },
    "language_info": {
      "codemirror_mode": {
        "name": "ipython",
        "version": 3
      },
      "file_extension": ".py",
      "mimetype": "text/x-python",
      "name": "python",
      "nbconvert_exporter": "python",
      "pygments_lexer": "ipython3",
      "version": "3.9.13"
    },
    "colab": {
      "provenance": [],
      "include_colab_link": true
    }
  },
  "nbformat": 4,
  "nbformat_minor": 5
}