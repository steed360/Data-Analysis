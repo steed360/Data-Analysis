{
  "cells": [
    {
      "cell_type": "markdown",
      "metadata": {
        "id": "view-in-github",
        "colab_type": "text"
      },
      "source": [
        "<a href=\"https://colab.research.google.com/github/steed360/Data-Analysis/blob/main/a_Regression_Errors.ipynb\" target=\"_parent\"><img src=\"https://colab.research.google.com/assets/colab-badge.svg\" alt=\"Open In Colab\"/></a>"
      ]
    },
    {
      "cell_type": "markdown",
      "id": "2c5c9a22",
      "metadata": {
        "id": "2c5c9a22"
      },
      "source": [
        "### Create charts to illustrate and better understand which distributions of Y will produce linear regression models that satisfy the \"regression assumptions\", including:\n",
        "\n",
        "- Error terms will be normally distributed\n",
        "- Same std deviation for the error term regardless of position along X\n",
        "\n",
        "\n",
        "Introduction:\n",
        "\n",
        "- Text books warn against using regression (directly) to explain a variable that has a long tail.\n",
        "- Examples of such data are income distributions and travel time distributions. - This is also mentioned in relation to survival analysis.\n",
        "\n",
        "For a beginner this raises two quesitons:\n",
        "\n",
        "- What kind of data is most suitable for attempting a linear regression?\n",
        "- What is it about skewed data that makes it unsuitable for linear regression?\n",
        "\n",
        "Part One:\n",
        "Imagine the dataset to be analyzed if left skewed. At it's most simple regression involves disaggregating the data into a large number of conditional means.  In the case of banded data, this is EXACTLY what happens.  So we'll band the skewed data into three sections and look at the variance of each one. This is a naive thing to do but it basically shows what is going on.\n",
        "\n",
        "Part Two\n",
        "But to help with intuition, in this notebook we try to visualize the issue using simple fitted regression models (where we already have the co-efficients). We can sample from the error term to create a dataset.  This dataset would have come from a distribution which we call the Originating Distribution. To gain elementary intuition, we're interested in the shape of this distribution.\n",
        "\n",
        "In Part 3 we sample from an model in which there is non constant variance. That is to say we are contriving a situation where there is less precision in the estimates of Y towards bigger values of X. What kind of Originating Distribution do we get in this case?\n",
        "\n",
        "Note: the \"errors\" discussed should really be seen as measured uncertainty around model predictions. Indeed it's exactly the conditional distribution discussed here that is used to produce predicton intervals.\n",
        "\n",
        "Method:\n",
        "\n",
        "Part One\n",
        "As described above.\n",
        "\n",
        "Part Two:\n",
        "\n",
        "- Firstly start with a fitted model (estimating height for a given weight)\n",
        "- The model was generated in the Statistical Rethiking dataset using the Howell dataset of bushmen of the Kalahari. (People who are 5ft tall appear very light by our standards)\n",
        "- Plot the regression line and estimated mean height for a few weight values.\n",
        "- Then visualize the normal distribution around each of these estimated mean heights. Following the regression assumptions each Normal distribution should have the same standard deviation.\n",
        "- The prevoius step is done by sampling from the following:\n",
        "  yi~N( mean = + 154cm + weight * slope , std= 4)\n",
        "- In this simple example, regression could be seen as producing conditional Normal Distributions (all with the same standard deviation)\n",
        "- Now sample from each of the Conditional Distributions and the visualize the \"Originating Distribution\".\n",
        "- Is it Normally Distributed? No.\n",
        "\n",
        "Part Three:\n",
        "\n",
        "- Repeat the data sampling in Part One (again sample from the regression equation)\n",
        "- This time increase the variance for the last two weight points.\n",
        "- Again, visualize the regression line and the Conditional Normal Distributions around each of the estimated mean heights.\n",
        "- Once again visualize the shape of the \"Originating distribution\". It is somewhat skewed like income data.\n",
        "- Let's imagine that we were starting with data and wanted to do a regression. Where would we go wrong?\n",
        "- Estimate the regression line using data sampled from the \"Originating Distribution\".  Also find the standard deviation of the residuals.\n",
        "- Overlay the distribution of errors onto the actual distribution.\n",
        "- A large residual standard error translates into less certainty of the estimated co-efficients.\n",
        "- Therefore having skewed data has caused us to be less under-confident for the two smaller weight points and to be over-confident for the two larger weight points.\n"
      ]
    },
    {
      "cell_type": "code",
      "source": [
        "%matplotlib inline\n",
        "import numpy as np\n",
        "import pandas as pd\n",
        "from pandas import DataFrame\n",
        "import pandas.api.types as pdtypes # for (sorted) categories.\n",
        "\n",
        "import matplotlib.pyplot as plt\n",
        "\n",
        "import scipy.stats as stats\n",
        "\n",
        "import arviz as az\n",
        "\n",
        "import plotnine\n",
        "#from plotnine import ggplot, geom_point, aes, stat_smooth, facet_wrap\n",
        "from plotnine import *\n",
        "from plotnine import ggplot, geom_point, aes, stat_smooth, facet_wrap, geom_line\n",
        "from plotnine import ggplot  # https://plotnine.readthedocs.io/en/stable/\n",
        "from plotnine import geom_violin, geom_density\n",
        "\n",
        "import matplotlib\n",
        "from matplotlib import gridspec\n",
        "\n",
        "%matplotlib inline\n",
        "\n",
        "from mizani import formatters # for better axis labelling\n",
        "from matplotlib.ticker import FixedLocator, FixedFormatter\n",
        "from matplotlib.patches import Rectangle\n"
      ],
      "metadata": {
        "id": "LZ5WXNXiQBfg"
      },
      "id": "LZ5WXNXiQBfg",
      "execution_count": null,
      "outputs": []
    },
    {
      "cell_type": "code",
      "source": [
        "# define colors\n",
        "GRAY1, GRAY2, GRAY3 = '#231F20', '#414040', '#555655'\n",
        "GRAY4, GRAY5, GRAY6 = '#646369', '#76787B', '#828282'\n",
        "GRAY7, GRAY8, GRAY9 = '#929497', '#A6A6A5', '#BFBEBE'\n",
        "BLUE1, BLUE2, BLUE3, BLUE4 = '#174A7E', '#4A81BF', '#94B2D7', '#94AFC5'\n",
        "BLUE5, BLUE6 = '#92CDDD', '#2E869D'\n",
        "RED1, RED2 = '#C3514E', '#E6BAB7'\n",
        "GREEN1, GREEN2 = '#0C8040', '#9ABB59'\n",
        "ORANGE1, ORANGE2, ORANGE3 = '#F79747', '#FAC090', '#F36721'"
      ],
      "metadata": {
        "id": "xy1xJErKP-hy"
      },
      "id": "xy1xJErKP-hy",
      "execution_count": null,
      "outputs": []
    },
    {
      "cell_type": "code",
      "source": [
        "# configure plot font family to Arial\n",
        "#plt.rcParams['font.family'] = 'Arial'\n",
        "# configure mathtext bold and italic font family to Arial\n",
        "#matplotlib.rcParams['mathtext.fontset'] = 'custom'\n",
        "#matplotlib.rcParams['mathtext.bf'] = 'Arial:bold'\n",
        "#matplotlib.rcParams['mathtext.it'] = 'Arial:italic'"
      ],
      "metadata": {
        "id": "yJj9rRihRnku"
      },
      "id": "yJj9rRihRnku",
      "execution_count": null,
      "outputs": []
    },
    {
      "cell_type": "code",
      "source": [
        "# Specify the chart layout (PowerBI all is forgiven.... :)\n",
        "\n",
        "def SWD_theme ():\n",
        "\n",
        "    font = \"Arial\" # doesn't work on Colab\n",
        "    #t=theme_minimal(base_size = 10, base_family = font )\n",
        "    t=theme_minimal(base_size = 10 )\n",
        "\n",
        "    t2 = theme(\n",
        "      #panel_grid_major = element_blank(),\n",
        "      panel_grid_major = element_line(size = 0.5, color = GRAY9),\n",
        "      panel_grid_minor = element_line(size = 0.5, color = GRAY9),\n",
        "\n",
        "      #panel_grid_minor = element_blank(),\n",
        "      axis_line = element_line(size = .1, color = GRAY9),\n",
        "      axis_text = element_text(color = GRAY3, size = 12),\n",
        "      #axis.ticks.x = element_line(size = 0.5, color = GRAY9),\n",
        "      #axis.ticks.y = element_line(size = 0.5, color = GRAY9),\n",
        "      axis_title = element_text(color = GRAY3),\n",
        "      #axis_title_y = element_text(hjust = 1, margin = margin(0, 6, 0, 15, \"pt\")),\n",
        "      #axis_title_x = element_text(hjust = 0, margin = margin(6, 0, 15, 0, \"pt\")),\n",
        "      #plot_subtitle = element_text(color = GRAY4, size= 8),\n",
        "      plot_title = element_text(color = GRAY4, size= 12 ),\n",
        "      # I don't think this line is implemented in plotnine\n",
        "      #plot_title_position = \"plot\", # This aligns the plot title to the very left edge\n",
        "      #plot_caption = element_text(hjust = 0, color = GRAY6),\n",
        "      #plot_caption_position = \"plot\",\n",
        "      #plot_margin = margin(.5,.5,.5,.5,\"cm\"),\n",
        "      #plot_margin = (0.4 ),\n",
        "      strip_text = element_text(color = GRAY7))\n",
        "\n",
        "    return t+ t2"
      ],
      "metadata": {
        "id": "lRjIJkzyP_ma"
      },
      "id": "lRjIJkzyP_ma",
      "execution_count": null,
      "outputs": []
    },
    {
      "cell_type": "code",
      "source": [],
      "metadata": {
        "id": "iiu62S9r-ceK"
      },
      "id": "iiu62S9r-ceK",
      "execution_count": null,
      "outputs": []
    },
    {
      "cell_type": "markdown",
      "source": [
        "# Part One"
      ],
      "metadata": {
        "id": "yda0NJkJ-ej6"
      },
      "id": "yda0NJkJ-ej6"
    },
    {
      "cell_type": "markdown",
      "source": [
        "Sample a million values from a left skewed distribution from 1-100"
      ],
      "metadata": {
        "id": "qoEn03dg-kp4"
      },
      "id": "qoEn03dg-kp4"
    },
    {
      "cell_type": "code",
      "source": [
        "import scipy\n",
        "from scipy.stats import skewnorm\n",
        "\n",
        "numValue = 100000\n",
        "maxValue = 100\n",
        "skewness = 15\n",
        "\n",
        "random = skewnorm.rvs ( a= skewness, loc=maxValue, size=numValue)\n",
        "random = random - min (random);\n",
        "random = random / max (random);\n",
        "random = random * maxValue\n",
        "\n",
        "df = pd.DataFrame ( {  'value':random } ).sort_values ( 'value')\n",
        "#df['rank']  = df['value'].rank(method='first', ascending=True)\n",
        "df['rank']  = [x+1 for x in range (numValue)]\n",
        "\n",
        "df.tail(5)\n"
      ],
      "metadata": {
        "colab": {
          "base_uri": "https://localhost:8080/",
          "height": 206
        },
        "id": "RTQ0toT5-ghz",
        "outputId": "5d91c237-68e6-443d-d2e5-ffe8757cc5de"
      },
      "id": "RTQ0toT5-ghz",
      "execution_count": 155,
      "outputs": [
        {
          "output_type": "execute_result",
          "data": {
            "text/plain": [
              "            value    rank\n",
              "41378   94.131090   99996\n",
              "34987   94.969276   99997\n",
              "65801   96.089180   99998\n",
              "76624   97.965170   99999\n",
              "75780  100.000000  100000"
            ],
            "text/html": [
              "\n",
              "\n",
              "  <div id=\"df-44468062-7569-4ab6-89ef-93bd04751393\">\n",
              "    <div class=\"colab-df-container\">\n",
              "      <div>\n",
              "<style scoped>\n",
              "    .dataframe tbody tr th:only-of-type {\n",
              "        vertical-align: middle;\n",
              "    }\n",
              "\n",
              "    .dataframe tbody tr th {\n",
              "        vertical-align: top;\n",
              "    }\n",
              "\n",
              "    .dataframe thead th {\n",
              "        text-align: right;\n",
              "    }\n",
              "</style>\n",
              "<table border=\"1\" class=\"dataframe\">\n",
              "  <thead>\n",
              "    <tr style=\"text-align: right;\">\n",
              "      <th></th>\n",
              "      <th>value</th>\n",
              "      <th>rank</th>\n",
              "    </tr>\n",
              "  </thead>\n",
              "  <tbody>\n",
              "    <tr>\n",
              "      <th>41378</th>\n",
              "      <td>94.131090</td>\n",
              "      <td>99996</td>\n",
              "    </tr>\n",
              "    <tr>\n",
              "      <th>34987</th>\n",
              "      <td>94.969276</td>\n",
              "      <td>99997</td>\n",
              "    </tr>\n",
              "    <tr>\n",
              "      <th>65801</th>\n",
              "      <td>96.089180</td>\n",
              "      <td>99998</td>\n",
              "    </tr>\n",
              "    <tr>\n",
              "      <th>76624</th>\n",
              "      <td>97.965170</td>\n",
              "      <td>99999</td>\n",
              "    </tr>\n",
              "    <tr>\n",
              "      <th>75780</th>\n",
              "      <td>100.000000</td>\n",
              "      <td>100000</td>\n",
              "    </tr>\n",
              "  </tbody>\n",
              "</table>\n",
              "</div>\n",
              "      <button class=\"colab-df-convert\" onclick=\"convertToInteractive('df-44468062-7569-4ab6-89ef-93bd04751393')\"\n",
              "              title=\"Convert this dataframe to an interactive table.\"\n",
              "              style=\"display:none;\">\n",
              "\n",
              "  <svg xmlns=\"http://www.w3.org/2000/svg\" height=\"24px\"viewBox=\"0 0 24 24\"\n",
              "       width=\"24px\">\n",
              "    <path d=\"M0 0h24v24H0V0z\" fill=\"none\"/>\n",
              "    <path d=\"M18.56 5.44l.94 2.06.94-2.06 2.06-.94-2.06-.94-.94-2.06-.94 2.06-2.06.94zm-11 1L8.5 8.5l.94-2.06 2.06-.94-2.06-.94L8.5 2.5l-.94 2.06-2.06.94zm10 10l.94 2.06.94-2.06 2.06-.94-2.06-.94-.94-2.06-.94 2.06-2.06.94z\"/><path d=\"M17.41 7.96l-1.37-1.37c-.4-.4-.92-.59-1.43-.59-.52 0-1.04.2-1.43.59L10.3 9.45l-7.72 7.72c-.78.78-.78 2.05 0 2.83L4 21.41c.39.39.9.59 1.41.59.51 0 1.02-.2 1.41-.59l7.78-7.78 2.81-2.81c.8-.78.8-2.07 0-2.86zM5.41 20L4 18.59l7.72-7.72 1.47 1.35L5.41 20z\"/>\n",
              "  </svg>\n",
              "      </button>\n",
              "\n",
              "\n",
              "\n",
              "    <div id=\"df-ac8659b0-80bf-4f47-a7a8-e6b3c7b609c4\">\n",
              "      <button class=\"colab-df-quickchart\" onclick=\"quickchart('df-ac8659b0-80bf-4f47-a7a8-e6b3c7b609c4')\"\n",
              "              title=\"Suggest charts.\"\n",
              "              style=\"display:none;\">\n",
              "\n",
              "<svg xmlns=\"http://www.w3.org/2000/svg\" height=\"24px\"viewBox=\"0 0 24 24\"\n",
              "     width=\"24px\">\n",
              "    <g>\n",
              "        <path d=\"M19 3H5c-1.1 0-2 .9-2 2v14c0 1.1.9 2 2 2h14c1.1 0 2-.9 2-2V5c0-1.1-.9-2-2-2zM9 17H7v-7h2v7zm4 0h-2V7h2v10zm4 0h-2v-4h2v4z\"/>\n",
              "    </g>\n",
              "</svg>\n",
              "      </button>\n",
              "    </div>\n",
              "\n",
              "<style>\n",
              "  .colab-df-quickchart {\n",
              "    background-color: #E8F0FE;\n",
              "    border: none;\n",
              "    border-radius: 50%;\n",
              "    cursor: pointer;\n",
              "    display: none;\n",
              "    fill: #1967D2;\n",
              "    height: 32px;\n",
              "    padding: 0 0 0 0;\n",
              "    width: 32px;\n",
              "  }\n",
              "\n",
              "  .colab-df-quickchart:hover {\n",
              "    background-color: #E2EBFA;\n",
              "    box-shadow: 0px 1px 2px rgba(60, 64, 67, 0.3), 0px 1px 3px 1px rgba(60, 64, 67, 0.15);\n",
              "    fill: #174EA6;\n",
              "  }\n",
              "\n",
              "  [theme=dark] .colab-df-quickchart {\n",
              "    background-color: #3B4455;\n",
              "    fill: #D2E3FC;\n",
              "  }\n",
              "\n",
              "  [theme=dark] .colab-df-quickchart:hover {\n",
              "    background-color: #434B5C;\n",
              "    box-shadow: 0px 1px 3px 1px rgba(0, 0, 0, 0.15);\n",
              "    filter: drop-shadow(0px 1px 2px rgba(0, 0, 0, 0.3));\n",
              "    fill: #FFFFFF;\n",
              "  }\n",
              "</style>\n",
              "\n",
              "    <script>\n",
              "      async function quickchart(key) {\n",
              "        const containerElement = document.querySelector('#' + key);\n",
              "        const charts = await google.colab.kernel.invokeFunction(\n",
              "            'suggestCharts', [key], {});\n",
              "      }\n",
              "    </script>\n",
              "\n",
              "      <script>\n",
              "\n",
              "function displayQuickchartButton(domScope) {\n",
              "  let quickchartButtonEl =\n",
              "    domScope.querySelector('#df-ac8659b0-80bf-4f47-a7a8-e6b3c7b609c4 button.colab-df-quickchart');\n",
              "  quickchartButtonEl.style.display =\n",
              "    google.colab.kernel.accessAllowed ? 'block' : 'none';\n",
              "}\n",
              "\n",
              "        displayQuickchartButton(document);\n",
              "      </script>\n",
              "      <style>\n",
              "    .colab-df-container {\n",
              "      display:flex;\n",
              "      flex-wrap:wrap;\n",
              "      gap: 12px;\n",
              "    }\n",
              "\n",
              "    .colab-df-convert {\n",
              "      background-color: #E8F0FE;\n",
              "      border: none;\n",
              "      border-radius: 50%;\n",
              "      cursor: pointer;\n",
              "      display: none;\n",
              "      fill: #1967D2;\n",
              "      height: 32px;\n",
              "      padding: 0 0 0 0;\n",
              "      width: 32px;\n",
              "    }\n",
              "\n",
              "    .colab-df-convert:hover {\n",
              "      background-color: #E2EBFA;\n",
              "      box-shadow: 0px 1px 2px rgba(60, 64, 67, 0.3), 0px 1px 3px 1px rgba(60, 64, 67, 0.15);\n",
              "      fill: #174EA6;\n",
              "    }\n",
              "\n",
              "    [theme=dark] .colab-df-convert {\n",
              "      background-color: #3B4455;\n",
              "      fill: #D2E3FC;\n",
              "    }\n",
              "\n",
              "    [theme=dark] .colab-df-convert:hover {\n",
              "      background-color: #434B5C;\n",
              "      box-shadow: 0px 1px 3px 1px rgba(0, 0, 0, 0.15);\n",
              "      filter: drop-shadow(0px 1px 2px rgba(0, 0, 0, 0.3));\n",
              "      fill: #FFFFFF;\n",
              "    }\n",
              "  </style>\n",
              "\n",
              "      <script>\n",
              "        const buttonEl =\n",
              "          document.querySelector('#df-44468062-7569-4ab6-89ef-93bd04751393 button.colab-df-convert');\n",
              "        buttonEl.style.display =\n",
              "          google.colab.kernel.accessAllowed ? 'block' : 'none';\n",
              "\n",
              "        async function convertToInteractive(key) {\n",
              "          const element = document.querySelector('#df-44468062-7569-4ab6-89ef-93bd04751393');\n",
              "          const dataTable =\n",
              "            await google.colab.kernel.invokeFunction('convertToInteractive',\n",
              "                                                     [key], {});\n",
              "          if (!dataTable) return;\n",
              "\n",
              "          const docLinkHtml = 'Like what you see? Visit the ' +\n",
              "            '<a target=\"_blank\" href=https://colab.research.google.com/notebooks/data_table.ipynb>data table notebook</a>'\n",
              "            + ' to learn more about interactive tables.';\n",
              "          element.innerHTML = '';\n",
              "          dataTable['output_type'] = 'display_data';\n",
              "          await google.colab.output.renderOutput(dataTable, element);\n",
              "          const docLink = document.createElement('div');\n",
              "          docLink.innerHTML = docLinkHtml;\n",
              "          element.appendChild(docLink);\n",
              "        }\n",
              "      </script>\n",
              "    </div>\n",
              "  </div>\n"
            ]
          },
          "metadata": {},
          "execution_count": 155
        }
      ]
    },
    {
      "cell_type": "code",
      "source": [],
      "metadata": {
        "id": "ZGwnOA7ld1BP"
      },
      "id": "ZGwnOA7ld1BP",
      "execution_count": 157,
      "outputs": []
    },
    {
      "cell_type": "code",
      "source": [
        "# Find the values at rank = 25, 50, 75 and 100\n",
        "\n",
        "x =  numValue / 4;\n",
        "\n",
        "l1 = int ( df  [ df['rank']==x     ] ['value'] )\n",
        "l2 = int ( df  [ df['rank']==x * 2 ] ['value'] )\n",
        "l3 = int ( df  [ df['rank']==x * 3 ] ['value'] )\n",
        "l4 = int ( df  [ df['rank']==x * 4 ] ['value'] )\n",
        "\n",
        "bins     = [0, l1 + 0.01, l2 + 0.01, l3 + 0.01, l4 + 0.01]\n",
        "labels   =  ['A', 'B', 'C', 'D']\n",
        "\n",
        "df['Samples']  =   pd.cut ( df['value'], bins=bins, labels = labels)\n",
        "\n",
        "df.groupby('Samples').agg(\n",
        "      min_Val=('value', 'min')\n",
        "    , max_Val=('value', 'max')\n",
        "    , num_rows= ( 'value', 'count')\n",
        ")\n"
      ],
      "metadata": {
        "colab": {
          "base_uri": "https://localhost:8080/",
          "height": 206
        },
        "id": "TxAxXzR_ZQfv",
        "outputId": "61497fff-fb98-4dc5-b274-5c01c3da98cf"
      },
      "id": "TxAxXzR_ZQfv",
      "execution_count": 158,
      "outputs": [
        {
          "output_type": "execute_result",
          "data": {
            "text/plain": [
              "           min_Val     max_Val  num_rows\n",
              "Samples                                 \n",
              "A         0.488630   12.009972     24594\n",
              "B        12.010439   20.009745     24722\n",
              "C        20.010189   30.008571     23818\n",
              "D        30.010083  100.000000     26865"
            ],
            "text/html": [
              "\n",
              "\n",
              "  <div id=\"df-43fdc881-6244-42d0-9f5e-152cc650c1ef\">\n",
              "    <div class=\"colab-df-container\">\n",
              "      <div>\n",
              "<style scoped>\n",
              "    .dataframe tbody tr th:only-of-type {\n",
              "        vertical-align: middle;\n",
              "    }\n",
              "\n",
              "    .dataframe tbody tr th {\n",
              "        vertical-align: top;\n",
              "    }\n",
              "\n",
              "    .dataframe thead th {\n",
              "        text-align: right;\n",
              "    }\n",
              "</style>\n",
              "<table border=\"1\" class=\"dataframe\">\n",
              "  <thead>\n",
              "    <tr style=\"text-align: right;\">\n",
              "      <th></th>\n",
              "      <th>min_Val</th>\n",
              "      <th>max_Val</th>\n",
              "      <th>num_rows</th>\n",
              "    </tr>\n",
              "    <tr>\n",
              "      <th>Samples</th>\n",
              "      <th></th>\n",
              "      <th></th>\n",
              "      <th></th>\n",
              "    </tr>\n",
              "  </thead>\n",
              "  <tbody>\n",
              "    <tr>\n",
              "      <th>A</th>\n",
              "      <td>0.488630</td>\n",
              "      <td>12.009972</td>\n",
              "      <td>24594</td>\n",
              "    </tr>\n",
              "    <tr>\n",
              "      <th>B</th>\n",
              "      <td>12.010439</td>\n",
              "      <td>20.009745</td>\n",
              "      <td>24722</td>\n",
              "    </tr>\n",
              "    <tr>\n",
              "      <th>C</th>\n",
              "      <td>20.010189</td>\n",
              "      <td>30.008571</td>\n",
              "      <td>23818</td>\n",
              "    </tr>\n",
              "    <tr>\n",
              "      <th>D</th>\n",
              "      <td>30.010083</td>\n",
              "      <td>100.000000</td>\n",
              "      <td>26865</td>\n",
              "    </tr>\n",
              "  </tbody>\n",
              "</table>\n",
              "</div>\n",
              "      <button class=\"colab-df-convert\" onclick=\"convertToInteractive('df-43fdc881-6244-42d0-9f5e-152cc650c1ef')\"\n",
              "              title=\"Convert this dataframe to an interactive table.\"\n",
              "              style=\"display:none;\">\n",
              "\n",
              "  <svg xmlns=\"http://www.w3.org/2000/svg\" height=\"24px\"viewBox=\"0 0 24 24\"\n",
              "       width=\"24px\">\n",
              "    <path d=\"M0 0h24v24H0V0z\" fill=\"none\"/>\n",
              "    <path d=\"M18.56 5.44l.94 2.06.94-2.06 2.06-.94-2.06-.94-.94-2.06-.94 2.06-2.06.94zm-11 1L8.5 8.5l.94-2.06 2.06-.94-2.06-.94L8.5 2.5l-.94 2.06-2.06.94zm10 10l.94 2.06.94-2.06 2.06-.94-2.06-.94-.94-2.06-.94 2.06-2.06.94z\"/><path d=\"M17.41 7.96l-1.37-1.37c-.4-.4-.92-.59-1.43-.59-.52 0-1.04.2-1.43.59L10.3 9.45l-7.72 7.72c-.78.78-.78 2.05 0 2.83L4 21.41c.39.39.9.59 1.41.59.51 0 1.02-.2 1.41-.59l7.78-7.78 2.81-2.81c.8-.78.8-2.07 0-2.86zM5.41 20L4 18.59l7.72-7.72 1.47 1.35L5.41 20z\"/>\n",
              "  </svg>\n",
              "      </button>\n",
              "\n",
              "\n",
              "\n",
              "    <div id=\"df-147e96db-33d1-4888-9777-58787aef2dd8\">\n",
              "      <button class=\"colab-df-quickchart\" onclick=\"quickchart('df-147e96db-33d1-4888-9777-58787aef2dd8')\"\n",
              "              title=\"Suggest charts.\"\n",
              "              style=\"display:none;\">\n",
              "\n",
              "<svg xmlns=\"http://www.w3.org/2000/svg\" height=\"24px\"viewBox=\"0 0 24 24\"\n",
              "     width=\"24px\">\n",
              "    <g>\n",
              "        <path d=\"M19 3H5c-1.1 0-2 .9-2 2v14c0 1.1.9 2 2 2h14c1.1 0 2-.9 2-2V5c0-1.1-.9-2-2-2zM9 17H7v-7h2v7zm4 0h-2V7h2v10zm4 0h-2v-4h2v4z\"/>\n",
              "    </g>\n",
              "</svg>\n",
              "      </button>\n",
              "    </div>\n",
              "\n",
              "<style>\n",
              "  .colab-df-quickchart {\n",
              "    background-color: #E8F0FE;\n",
              "    border: none;\n",
              "    border-radius: 50%;\n",
              "    cursor: pointer;\n",
              "    display: none;\n",
              "    fill: #1967D2;\n",
              "    height: 32px;\n",
              "    padding: 0 0 0 0;\n",
              "    width: 32px;\n",
              "  }\n",
              "\n",
              "  .colab-df-quickchart:hover {\n",
              "    background-color: #E2EBFA;\n",
              "    box-shadow: 0px 1px 2px rgba(60, 64, 67, 0.3), 0px 1px 3px 1px rgba(60, 64, 67, 0.15);\n",
              "    fill: #174EA6;\n",
              "  }\n",
              "\n",
              "  [theme=dark] .colab-df-quickchart {\n",
              "    background-color: #3B4455;\n",
              "    fill: #D2E3FC;\n",
              "  }\n",
              "\n",
              "  [theme=dark] .colab-df-quickchart:hover {\n",
              "    background-color: #434B5C;\n",
              "    box-shadow: 0px 1px 3px 1px rgba(0, 0, 0, 0.15);\n",
              "    filter: drop-shadow(0px 1px 2px rgba(0, 0, 0, 0.3));\n",
              "    fill: #FFFFFF;\n",
              "  }\n",
              "</style>\n",
              "\n",
              "    <script>\n",
              "      async function quickchart(key) {\n",
              "        const containerElement = document.querySelector('#' + key);\n",
              "        const charts = await google.colab.kernel.invokeFunction(\n",
              "            'suggestCharts', [key], {});\n",
              "      }\n",
              "    </script>\n",
              "\n",
              "      <script>\n",
              "\n",
              "function displayQuickchartButton(domScope) {\n",
              "  let quickchartButtonEl =\n",
              "    domScope.querySelector('#df-147e96db-33d1-4888-9777-58787aef2dd8 button.colab-df-quickchart');\n",
              "  quickchartButtonEl.style.display =\n",
              "    google.colab.kernel.accessAllowed ? 'block' : 'none';\n",
              "}\n",
              "\n",
              "        displayQuickchartButton(document);\n",
              "      </script>\n",
              "      <style>\n",
              "    .colab-df-container {\n",
              "      display:flex;\n",
              "      flex-wrap:wrap;\n",
              "      gap: 12px;\n",
              "    }\n",
              "\n",
              "    .colab-df-convert {\n",
              "      background-color: #E8F0FE;\n",
              "      border: none;\n",
              "      border-radius: 50%;\n",
              "      cursor: pointer;\n",
              "      display: none;\n",
              "      fill: #1967D2;\n",
              "      height: 32px;\n",
              "      padding: 0 0 0 0;\n",
              "      width: 32px;\n",
              "    }\n",
              "\n",
              "    .colab-df-convert:hover {\n",
              "      background-color: #E2EBFA;\n",
              "      box-shadow: 0px 1px 2px rgba(60, 64, 67, 0.3), 0px 1px 3px 1px rgba(60, 64, 67, 0.15);\n",
              "      fill: #174EA6;\n",
              "    }\n",
              "\n",
              "    [theme=dark] .colab-df-convert {\n",
              "      background-color: #3B4455;\n",
              "      fill: #D2E3FC;\n",
              "    }\n",
              "\n",
              "    [theme=dark] .colab-df-convert:hover {\n",
              "      background-color: #434B5C;\n",
              "      box-shadow: 0px 1px 3px 1px rgba(0, 0, 0, 0.15);\n",
              "      filter: drop-shadow(0px 1px 2px rgba(0, 0, 0, 0.3));\n",
              "      fill: #FFFFFF;\n",
              "    }\n",
              "  </style>\n",
              "\n",
              "      <script>\n",
              "        const buttonEl =\n",
              "          document.querySelector('#df-43fdc881-6244-42d0-9f5e-152cc650c1ef button.colab-df-convert');\n",
              "        buttonEl.style.display =\n",
              "          google.colab.kernel.accessAllowed ? 'block' : 'none';\n",
              "\n",
              "        async function convertToInteractive(key) {\n",
              "          const element = document.querySelector('#df-43fdc881-6244-42d0-9f5e-152cc650c1ef');\n",
              "          const dataTable =\n",
              "            await google.colab.kernel.invokeFunction('convertToInteractive',\n",
              "                                                     [key], {});\n",
              "          if (!dataTable) return;\n",
              "\n",
              "          const docLinkHtml = 'Like what you see? Visit the ' +\n",
              "            '<a target=\"_blank\" href=https://colab.research.google.com/notebooks/data_table.ipynb>data table notebook</a>'\n",
              "            + ' to learn more about interactive tables.';\n",
              "          element.innerHTML = '';\n",
              "          dataTable['output_type'] = 'display_data';\n",
              "          await google.colab.output.renderOutput(dataTable, element);\n",
              "          const docLink = document.createElement('div');\n",
              "          docLink.innerHTML = docLinkHtml;\n",
              "          element.appendChild(docLink);\n",
              "        }\n",
              "      </script>\n",
              "    </div>\n",
              "  </div>\n"
            ]
          },
          "metadata": {},
          "execution_count": 158
        }
      ]
    },
    {
      "cell_type": "code",
      "source": [
        "df_annot =  pd.DataFrame ({ 'x': bins[0:4], 'y':[0.01]*4, 'label': labels })"
      ],
      "metadata": {
        "id": "UMni11vbI7Af"
      },
      "id": "UMni11vbI7Af",
      "execution_count": 159,
      "outputs": []
    },
    {
      "cell_type": "code",
      "source": [
        "#from plotnine import geom_violin\n",
        "#from plotnine import ggplot, aes, theme\n",
        "\n",
        "t = theme(\n",
        "          # Overrides\n",
        "          axis_title_y = element_text(angle = 90, va = 'bottom', ha = 'left', size = 13, color = GRAY3, y = 0.5),\n",
        "          axis_title_x = element_text(  size = 13, color = GRAY3, x=0.75),\n",
        "          #panel_grid_major_y=element_blank(),\n",
        "          legend_position=\"none\"\n",
        ")\n",
        "\n",
        "region = bins\n",
        "\n",
        "fig = \\\n",
        "(ggplot(df, aes('value'))\n",
        "  + geom_density (alpha=0.1,  color=BLUE4, fill=BLUE4)\n",
        "  + annotate(geom_vline, xintercept=region, color=GRAY6)\n",
        "  + geom_text (df_annot, aes(x='x', y='y', label='label' ) , color=GRAY4, ha='left', nudge_x=2)\n",
        "  + labs(y = \"    Density\"  , x = \"Dependent Variable\")\n",
        "  +SWD_theme() + t\n",
        ")\n",
        "\n",
        "\n",
        "fig"
      ],
      "metadata": {
        "colab": {
          "base_uri": "https://localhost:8080/",
          "height": 485
        },
        "id": "Hj1oHU7_Bhx_",
        "outputId": "0b27156d-0336-436e-a5a8-38915afba444"
      },
      "id": "Hj1oHU7_Bhx_",
      "execution_count": 160,
      "outputs": [
        {
          "output_type": "display_data",
          "data": {
            "text/plain": [
              "<Figure size 640x480 with 1 Axes>"
            ],
            "image/png": "[encoded data removed]"
          },
          "metadata": {
            "needs_background": "light"
          }
        },
        {
          "output_type": "execute_result",
          "data": {
            "text/plain": [
              "<ggplot: (8494670816344)>"
            ]
          },
          "metadata": {},
          "execution_count": 160
        }
      ]
    },
    {
      "cell_type": "code",
      "source": [
        "\n",
        "t = theme(\n",
        "          # Overrides\n",
        "          axis_title_y = element_text(angle = 90, va = 'bottom', ha = 'left', size = 13, color = GRAY3, y = 0.5),\n",
        "          axis_title_x = element_text(  size = 13, color = GRAY3, x=0.75),\n",
        "          panel_grid_major_x=element_blank(),\n",
        "          panel_grid_major_y=element_blank(),\n",
        "          legend_position=\"none\"\n",
        ")\n",
        "\n",
        "\n",
        "fig = \\\n",
        "(ggplot(df, aes(y='value', x='Samples'))\n",
        "  + geom_boxplot(colour=GRAY8, fill=GRAY8,weight=10)\n",
        "  + labs(y = \"    Dependent Var       \" , x = \"\" )\n",
        "\n",
        "\n",
        "  +SWD_theme() + t\n",
        ")\n",
        "\n",
        "fig"
      ],
      "metadata": {
        "id": "k-ET9mhAR6Qb",
        "colab": {
          "base_uri": "https://localhost:8080/",
          "height": 462
        },
        "outputId": "f4e84fc1-6f32-40be-dea0-a220c49ab068"
      },
      "id": "k-ET9mhAR6Qb",
      "execution_count": 170,
      "outputs": [
        {
          "output_type": "display_data",
          "data": {
            "text/plain": [
              "<Figure size 640x480 with 1 Axes>"
            ],
            "image/png": "[encoded data removed]"
          },
          "metadata": {
            "needs_background": "light"
          }
        },
        {
          "output_type": "execute_result",
          "data": {
            "text/plain": [
              "<ggplot: (8494666989514)>"
            ]
          },
          "metadata": {},
          "execution_count": 170
        }
      ]
    },
    {
      "cell_type": "markdown",
      "id": "aafebb2e",
      "metadata": {
        "id": "aafebb2e"
      },
      "source": [
        "# Part Two"
      ]
    },
    {
      "cell_type": "markdown",
      "id": "03eb5e27",
      "metadata": {
        "id": "03eb5e27"
      },
      "source": [
        "#### Sample from the normal distribution for each of the four points, specifically sample from N ( mu = 30, s= 5), N (mu=40, s=5) etc"
      ]
    },
    {
      "cell_type": "code",
      "execution_count": null,
      "id": "d8ac1df4",
      "metadata": {
        "id": "d8ac1df4",
        "colab": {
          "base_uri": "https://localhost:8080/"
        },
        "outputId": "19b27fd3-5b68-477b-fca5-830044a9df91"
      },
      "outputs": [
        {
          "output_type": "execute_result",
          "data": {
            "text/plain": [
              "{20: 131.79000000000002,\n",
              " 30: 140.79000000000002,\n",
              " 40: 149.79000000000002,\n",
              " 50: 158.79000000000002}"
            ]
          },
          "metadata": {},
          "execution_count": 10
        }
      ],
      "source": [
        "# Specify some x values.\n",
        "lst_x =  [i for i in range ( 20,60, 10)]\n",
        "np_x = np.array ( lst_x)\n",
        "\n",
        "# Produce some Yi values using\n",
        "# a model of height = function (weight) from Statistical Rethinking\n",
        "# Place in a dict for later retrieval.\n",
        "\n",
        "b_weight_kg = 0.9\n",
        "c_avg_height_cm = 113.79\n",
        "sd = 5.0  # standard deviation of errors.\n",
        "\n",
        "dictYi = {}\n",
        "\n",
        "for xi in lst_x:\n",
        "  dictYi[xi] = c_avg_height_cm  + b_weight_kg * xi\n",
        "\n",
        "dictYi\n"
      ]
    },
    {
      "cell_type": "code",
      "source": [
        "#####################################\n",
        "# A simple data frame is needed to do a line chart\n",
        "###################################\n",
        "\n",
        "lst_Yi = [dictYi[xi] for xi in dictYi.keys() ]\n",
        "\n",
        "data_x_y = pd.DataFrame ( {'x':lst_x,'y':lst_Yi})\n",
        "\n",
        "# Currently doing this as a categorical variable because the violin plot requires a categorical X Axis\n",
        "data_x_y['variable'] = data_x_y['x'].astype(pdtypes.CategoricalDtype(categories=[20,30,40,50]))\n",
        "data_x_y['group'] = 1\n",
        "\n",
        "data_x_y"
      ],
      "metadata": {
        "id": "QIfhfrdaOkxU",
        "colab": {
          "base_uri": "https://localhost:8080/",
          "height": 174
        },
        "outputId": "abfb20e6-68f7-4d39-85f6-1038af7c4a48"
      },
      "id": "QIfhfrdaOkxU",
      "execution_count": null,
      "outputs": [
        {
          "output_type": "execute_result",
          "data": {
            "text/plain": [
              "    x       y variable  group\n",
              "0  20  131.79       20      1\n",
              "1  30  140.79       30      1\n",
              "2  40  149.79       40      1\n",
              "3  50  158.79       50      1"
            ],
            "text/html": [
              "\n",
              "\n",
              "  <div id=\"df-ffa134e6-17df-4bc1-9776-9ad864aba8d1\">\n",
              "    <div class=\"colab-df-container\">\n",
              "      <div>\n",
              "<style scoped>\n",
              "    .dataframe tbody tr th:only-of-type {\n",
              "        vertical-align: middle;\n",
              "    }\n",
              "\n",
              "    .dataframe tbody tr th {\n",
              "        vertical-align: top;\n",
              "    }\n",
              "\n",
              "    .dataframe thead th {\n",
              "        text-align: right;\n",
              "    }\n",
              "</style>\n",
              "<table border=\"1\" class=\"dataframe\">\n",
              "  <thead>\n",
              "    <tr style=\"text-align: right;\">\n",
              "      <th></th>\n",
              "      <th>x</th>\n",
              "      <th>y</th>\n",
              "      <th>variable</th>\n",
              "      <th>group</th>\n",
              "    </tr>\n",
              "  </thead>\n",
              "  <tbody>\n",
              "    <tr>\n",
              "      <th>0</th>\n",
              "      <td>20</td>\n",
              "      <td>131.79</td>\n",
              "      <td>20</td>\n",
              "      <td>1</td>\n",
              "    </tr>\n",
              "    <tr>\n",
              "      <th>1</th>\n",
              "      <td>30</td>\n",
              "      <td>140.79</td>\n",
              "      <td>30</td>\n",
              "      <td>1</td>\n",
              "    </tr>\n",
              "    <tr>\n",
              "      <th>2</th>\n",
              "      <td>40</td>\n",
              "      <td>149.79</td>\n",
              "      <td>40</td>\n",
              "      <td>1</td>\n",
              "    </tr>\n",
              "    <tr>\n",
              "      <th>3</th>\n",
              "      <td>50</td>\n",
              "      <td>158.79</td>\n",
              "      <td>50</td>\n",
              "      <td>1</td>\n",
              "    </tr>\n",
              "  </tbody>\n",
              "</table>\n",
              "</div>\n",
              "      <button class=\"colab-df-convert\" onclick=\"convertToInteractive('df-ffa134e6-17df-4bc1-9776-9ad864aba8d1')\"\n",
              "              title=\"Convert this dataframe to an interactive table.\"\n",
              "              style=\"display:none;\">\n",
              "\n",
              "  <svg xmlns=\"http://www.w3.org/2000/svg\" height=\"24px\"viewBox=\"0 0 24 24\"\n",
              "       width=\"24px\">\n",
              "    <path d=\"M0 0h24v24H0V0z\" fill=\"none\"/>\n",
              "    <path d=\"M18.56 5.44l.94 2.06.94-2.06 2.06-.94-2.06-.94-.94-2.06-.94 2.06-2.06.94zm-11 1L8.5 8.5l.94-2.06 2.06-.94-2.06-.94L8.5 2.5l-.94 2.06-2.06.94zm10 10l.94 2.06.94-2.06 2.06-.94-2.06-.94-.94-2.06-.94 2.06-2.06.94z\"/><path d=\"M17.41 7.96l-1.37-1.37c-.4-.4-.92-.59-1.43-.59-.52 0-1.04.2-1.43.59L10.3 9.45l-7.72 7.72c-.78.78-.78 2.05 0 2.83L4 21.41c.39.39.9.59 1.41.59.51 0 1.02-.2 1.41-.59l7.78-7.78 2.81-2.81c.8-.78.8-2.07 0-2.86zM5.41 20L4 18.59l7.72-7.72 1.47 1.35L5.41 20z\"/>\n",
              "  </svg>\n",
              "      </button>\n",
              "\n",
              "\n",
              "\n",
              "    <div id=\"df-eb68cb7c-4647-48dc-81c0-d35e2f138933\">\n",
              "      <button class=\"colab-df-quickchart\" onclick=\"quickchart('df-eb68cb7c-4647-48dc-81c0-d35e2f138933')\"\n",
              "              title=\"Suggest charts.\"\n",
              "              style=\"display:none;\">\n",
              "\n",
              "<svg xmlns=\"http://www.w3.org/2000/svg\" height=\"24px\"viewBox=\"0 0 24 24\"\n",
              "     width=\"24px\">\n",
              "    <g>\n",
              "        <path d=\"M19 3H5c-1.1 0-2 .9-2 2v14c0 1.1.9 2 2 2h14c1.1 0 2-.9 2-2V5c0-1.1-.9-2-2-2zM9 17H7v-7h2v7zm4 0h-2V7h2v10zm4 0h-2v-4h2v4z\"/>\n",
              "    </g>\n",
              "</svg>\n",
              "      </button>\n",
              "    </div>\n",
              "\n",
              "<style>\n",
              "  .colab-df-quickchart {\n",
              "    background-color: #E8F0FE;\n",
              "    border: none;\n",
              "    border-radius: 50%;\n",
              "    cursor: pointer;\n",
              "    display: none;\n",
              "    fill: #1967D2;\n",
              "    height: 32px;\n",
              "    padding: 0 0 0 0;\n",
              "    width: 32px;\n",
              "  }\n",
              "\n",
              "  .colab-df-quickchart:hover {\n",
              "    background-color: #E2EBFA;\n",
              "    box-shadow: 0px 1px 2px rgba(60, 64, 67, 0.3), 0px 1px 3px 1px rgba(60, 64, 67, 0.15);\n",
              "    fill: #174EA6;\n",
              "  }\n",
              "\n",
              "  [theme=dark] .colab-df-quickchart {\n",
              "    background-color: #3B4455;\n",
              "    fill: #D2E3FC;\n",
              "  }\n",
              "\n",
              "  [theme=dark] .colab-df-quickchart:hover {\n",
              "    background-color: #434B5C;\n",
              "    box-shadow: 0px 1px 3px 1px rgba(0, 0, 0, 0.15);\n",
              "    filter: drop-shadow(0px 1px 2px rgba(0, 0, 0, 0.3));\n",
              "    fill: #FFFFFF;\n",
              "  }\n",
              "</style>\n",
              "\n",
              "    <script>\n",
              "      async function quickchart(key) {\n",
              "        const containerElement = document.querySelector('#' + key);\n",
              "        const charts = await google.colab.kernel.invokeFunction(\n",
              "            'suggestCharts', [key], {});\n",
              "      }\n",
              "    </script>\n",
              "\n",
              "      <script>\n",
              "\n",
              "function displayQuickchartButton(domScope) {\n",
              "  let quickchartButtonEl =\n",
              "    domScope.querySelector('#df-eb68cb7c-4647-48dc-81c0-d35e2f138933 button.colab-df-quickchart');\n",
              "  quickchartButtonEl.style.display =\n",
              "    google.colab.kernel.accessAllowed ? 'block' : 'none';\n",
              "}\n",
              "\n",
              "        displayQuickchartButton(document);\n",
              "      </script>\n",
              "      <style>\n",
              "    .colab-df-container {\n",
              "      display:flex;\n",
              "      flex-wrap:wrap;\n",
              "      gap: 12px;\n",
              "    }\n",
              "\n",
              "    .colab-df-convert {\n",
              "      background-color: #E8F0FE;\n",
              "      border: none;\n",
              "      border-radius: 50%;\n",
              "      cursor: pointer;\n",
              "      display: none;\n",
              "      fill: #1967D2;\n",
              "      height: 32px;\n",
              "      padding: 0 0 0 0;\n",
              "      width: 32px;\n",
              "    }\n",
              "\n",
              "    .colab-df-convert:hover {\n",
              "      background-color: #E2EBFA;\n",
              "      box-shadow: 0px 1px 2px rgba(60, 64, 67, 0.3), 0px 1px 3px 1px rgba(60, 64, 67, 0.15);\n",
              "      fill: #174EA6;\n",
              "    }\n",
              "\n",
              "    [theme=dark] .colab-df-convert {\n",
              "      background-color: #3B4455;\n",
              "      fill: #D2E3FC;\n",
              "    }\n",
              "\n",
              "    [theme=dark] .colab-df-convert:hover {\n",
              "      background-color: #434B5C;\n",
              "      box-shadow: 0px 1px 3px 1px rgba(0, 0, 0, 0.15);\n",
              "      filter: drop-shadow(0px 1px 2px rgba(0, 0, 0, 0.3));\n",
              "      fill: #FFFFFF;\n",
              "    }\n",
              "  </style>\n",
              "\n",
              "      <script>\n",
              "        const buttonEl =\n",
              "          document.querySelector('#df-ffa134e6-17df-4bc1-9776-9ad864aba8d1 button.colab-df-convert');\n",
              "        buttonEl.style.display =\n",
              "          google.colab.kernel.accessAllowed ? 'block' : 'none';\n",
              "\n",
              "        async function convertToInteractive(key) {\n",
              "          const element = document.querySelector('#df-ffa134e6-17df-4bc1-9776-9ad864aba8d1');\n",
              "          const dataTable =\n",
              "            await google.colab.kernel.invokeFunction('convertToInteractive',\n",
              "                                                     [key], {});\n",
              "          if (!dataTable) return;\n",
              "\n",
              "          const docLinkHtml = 'Like what you see? Visit the ' +\n",
              "            '<a target=\"_blank\" href=https://colab.research.google.com/notebooks/data_table.ipynb>data table notebook</a>'\n",
              "            + ' to learn more about interactive tables.';\n",
              "          element.innerHTML = '';\n",
              "          dataTable['output_type'] = 'display_data';\n",
              "          await google.colab.output.renderOutput(dataTable, element);\n",
              "          const docLink = document.createElement('div');\n",
              "          docLink.innerHTML = docLinkHtml;\n",
              "          element.appendChild(docLink);\n",
              "        }\n",
              "      </script>\n",
              "    </div>\n",
              "  </div>\n"
            ]
          },
          "metadata": {},
          "execution_count": 11
        }
      ]
    },
    {
      "cell_type": "code",
      "source": [
        "from plotnine import geom_violin\n",
        "from plotnine import ggplot, aes, theme\n",
        "\n",
        "t = theme(\n",
        "          # Overrides\n",
        "          axis_title_y = element_text(angle = 90, va = 'bottom', ha = 'left', size = 13, color = GRAY3, y = 0.5),\n",
        "          axis_title_x = element_text(  size = 13, color = GRAY3, x=0.75),\n",
        "          #panel_grid_major_y=element_blank(),\n",
        "          legend_position=\"none\"\n",
        ")\n",
        "\n",
        "lsize = 0.1\n",
        "shift = -0.06\n",
        "shift_point = 0.07\n",
        "\n",
        "# For shifting the violin plot\n",
        "def alt_sign(x):\n",
        "    \"Alternate +1/-1 if x is even/odd\"\n",
        "    #return (-1) ** x\n",
        "    return\n",
        "\n",
        "fig = \\\n",
        "(ggplot()\n",
        "  + geom_line (data_x_y,aes( x='variable', y='y', group = 'group', size=2),color=GRAY8 )\n",
        "  + geom_point (data_x_y, aes( x='variable', y='y',size=10), color=GRAY8 )\n",
        "  + labs(y = \"Expected Height (cm)    \"  , x = \"Given Weight (kg)\")\n",
        "  +  SWD_theme() + t\n",
        "\n",
        ")\n",
        "\n",
        "fig"
      ],
      "metadata": {
        "id": "aqgYcR03Pvlc",
        "colab": {
          "base_uri": "https://localhost:8080/",
          "height": 492
        },
        "outputId": "bb2e9b01-d669-4dae-973d-b14f9c63549a"
      },
      "id": "aqgYcR03Pvlc",
      "execution_count": null,
      "outputs": [
        {
          "output_type": "display_data",
          "data": {
            "text/plain": [
              "<Figure size 640x480 with 1 Axes>"
            ],
            "image/png": "[encoded data removed]"
          },
          "metadata": {
            "needs_background": "light"
          }
        },
        {
          "output_type": "execute_result",
          "data": {
            "text/plain": [
              "<ggplot: (8494673079170)>"
            ]
          },
          "metadata": {},
          "execution_count": 12
        }
      ]
    },
    {
      "cell_type": "markdown",
      "source": [
        "Sample from the 4 normal distributions (specifing a constant st dev of 5 cm)"
      ],
      "metadata": {
        "id": "_CMeQqljcpI2"
      },
      "id": "_CMeQqljcpI2"
    },
    {
      "cell_type": "code",
      "source": [
        "dictYi"
      ],
      "metadata": {
        "id": "EWOiKt6ef_8e",
        "colab": {
          "base_uri": "https://localhost:8080/"
        },
        "outputId": "3e9c498d-b29a-4b06-eaf7-bca7bcf51422"
      },
      "id": "EWOiKt6ef_8e",
      "execution_count": null,
      "outputs": [
        {
          "output_type": "execute_result",
          "data": {
            "text/plain": [
              "{20: 131.79000000000002,\n",
              " 30: 140.79000000000002,\n",
              " 40: 149.79000000000002,\n",
              " 50: 158.79000000000002}"
            ]
          },
          "metadata": {},
          "execution_count": 13
        }
      ]
    },
    {
      "cell_type": "code",
      "source": [
        "# Specify some x values.\n",
        "lst_x =  [i for i in range ( 20,60, 10)]\n",
        "np_x = np.array ( lst_x)\n",
        "\n",
        "\n",
        "# Produce some Yi values using\n",
        "# a model of height = function (weight) from Statistical Rethinking\n",
        "# Place in a dict for later retrieval.\n",
        "\n",
        "\n",
        "b_weight_kg = 0.9\n",
        "c_avg_height_cm = 154\n",
        "sd = 5.0  # standard deviation of errors.\n",
        "\n",
        "#N = 100              # Number of data points to generate.\n",
        "N = 100000              # Number of data points to generate.\n",
        "\n",
        "# Create a dataframe (with x as columns and yi~N() samples as rows)\n",
        "\n",
        "df = pd.DataFrame()\n",
        "\n",
        "for xi in lst_x:\n",
        "    yi = dictYi[xi]\n",
        "    df[xi] = stats.norm.rvs(yi , 5, N)\n",
        "\n",
        "###################################\n",
        "\n",
        "# A long version of this dataframe is needed for plotting as violin plots\n",
        "import pandas.api.types as pdtypes # for (sorted) categories.\n",
        "df_long = pd.melt(df,value_vars=[20,30,40,50]  )\n",
        "df_long['x'] = df_long['variable']\n",
        "df_long['variable'] = df_long['variable'].astype(pdtypes.CategoricalDtype(categories=[10,20,30,40,50,60]))\n",
        "\n",
        "\n"
      ],
      "metadata": {
        "id": "irOfAJs_WrZf"
      },
      "id": "irOfAJs_WrZf",
      "execution_count": null,
      "outputs": []
    },
    {
      "cell_type": "markdown",
      "source": [
        "Do violin plot"
      ],
      "metadata": {
        "id": "wTZxAvJ8W-ld"
      },
      "id": "wTZxAvJ8W-ld"
    },
    {
      "cell_type": "code",
      "source": [
        "from plotnine import geom_violin\n",
        "from plotnine import ggplot, aes\n",
        "\n",
        "t = theme(\n",
        "          # Overrides\n",
        "          axis_title_y = element_text(angle = 90, va = 'bottom', ha = 'left', size = 13, color = GRAY3, y = 0.5),\n",
        "          axis_title_x = element_text(  size = 13, color = GRAY3, x=0.7),\n",
        "          #panel_grid_major_y=element_blank(),\n",
        "          legend_position=\"none\"\n",
        ")\n",
        "\n",
        "lsize = 0.1\n",
        "shift = -0.06\n",
        "shift_point = 0.07\n",
        "\n",
        "# For shifting the violin plot\n",
        "def alt_sign(x):\n",
        "    \"Alternate +1/-1 if x is even/odd\"\n",
        "    #return (-1) ** x\n",
        "    return\n",
        "\n",
        "m1 = aes(x=stage('variable', after_scale='x+shift*x'))                 # shift outward\n",
        "m2 = aes(x=stage('variable', after_scale='x+shift_point*x'))           # shift outward\n",
        "m3 = aes( stage('variable', after_scale='x+shift_point*x' ),y='vals' )\n",
        "\n",
        "fig = \\\n",
        "(ggplot(df_long, aes('variable', 'value',group = 'variable'))\n",
        "  + geom_violin( alpha=0.3, color=GRAY8, fill=BLUE3, style=\"right\", size=lsize)\n",
        "  #+ geom_point(m2, alpha=0.005, color=GRAY8,size=0.2)\n",
        "  + geom_line (data_x_y,aes( x='variable', y='y', group = 'group', size=2),color=GRAY8 )\n",
        "  + geom_point (data_x_y, aes( x='variable', y='y',size=10), color=GRAY8 )\n",
        "  + labs(y = \"Expected Height (cm)     \"  , x = \"Given Weight (kg)\")\n",
        "  +SWD_theme() + t\n",
        ")\n",
        "\n",
        "\n",
        "fig"
      ],
      "metadata": {
        "id": "7t45ufDXXDqK",
        "colab": {
          "base_uri": "https://localhost:8080/",
          "height": 485
        },
        "outputId": "a0bb1c0c-1a94-44d4-d956-3f053a39c7d0"
      },
      "id": "7t45ufDXXDqK",
      "execution_count": null,
      "outputs": [
        {
          "output_type": "display_data",
          "data": {
            "text/plain": [
              "<Figure size 640x480 with 1 Axes>"
            ],
            "image/png": "[encoded data removed]"
          },
          "metadata": {
            "needs_background": "light"
          }
        },
        {
          "output_type": "execute_result",
          "data": {
            "text/plain": [
              "<ggplot: (8494673012487)>"
            ]
          },
          "metadata": {},
          "execution_count": 15
        }
      ]
    },
    {
      "cell_type": "markdown",
      "source": [
        "Plot the densities\n",
        "- Each of the conditional normal distributions\n",
        "- Originating Distribution: Building up a distribution by sampling an equal number of value from each of the 4 conditional normal distributions\n",
        "- Lastly, find the meand and std. dev. of the above distribution. Sample from a Normal Distribution using these parameters.\n",
        "\n",
        "The last step is intended to give a visual comparison of the originating distribution and a normal one with the same mean and variance."
      ],
      "metadata": {
        "id": "7RtQVy7oDCi4"
      },
      "id": "7RtQVy7oDCi4"
    },
    {
      "cell_type": "code",
      "source": [
        "# Find the mean and standard deviation in order to give a comparison.\n",
        "std1 = np.std (df_long['value'] )\n",
        "mu1  = np.mean (df_long['value'] )\n",
        "# Repeat the distribution for the data sampled from across the 4 conditional normal dists\n",
        "# And add the properly shaped normal one just defined\n",
        "\n",
        "df_Normal = pd.DataFrame ( { 'value': stats.norm.rvs( mu1 ,std1, N) })"
      ],
      "metadata": {
        "id": "7_TkaHs_XXpQ"
      },
      "id": "7_TkaHs_XXpQ",
      "execution_count": null,
      "outputs": []
    },
    {
      "cell_type": "code",
      "source": [
        "t = theme(\n",
        "          # Overrides\n",
        "          axis_title_y = element_text(angle = 90, va = 'bottom', ha = 'left', size = 13, color = GRAY3, y = 0.8),\n",
        "          axis_title_x = element_text(  size = 13, color = GRAY3, x=0.8),\n",
        "          #panel_grid_major_y=element_blank(),\n",
        "          panel_grid_major_x=element_blank(),\n",
        "          panel_grid_minor_x=element_blank(),\n",
        "          axis_text_y = element_text( color=GRAY5, size=10)  ,\n",
        "          axis_text_x = element_text( color=GRAY5, size=8, y = 0, va=\"top\", ha=\"left\")  ,\n",
        "          #va = 'bottom', ha = 'left', size = 13, color = GRAY3, y = 0.5\n",
        "          legend_position=\"none\"\n",
        ")\n",
        "\n",
        "# Conditional distributions\n",
        "p1 = \\\n",
        "  (ggplot(df_long, aes(x='value', group='variable') )\n",
        "  + geom_density (alpha=0.1, color=GRAY6)\n",
        "  + labs(y = \"Density     \"  , x = \"Given Weight (kg)\")\n",
        "  + scale_x_continuous(limit = [150, 220])\n",
        "   +SWD_theme() + t\n",
        ")\n",
        "\n",
        "# Originating distribution\n",
        "p2 = \\\n",
        "  (ggplot(df_long, aes(x='value'))\n",
        "  + geom_density (alpha=0.1,  color=BLUE4)\n",
        "  + labs(y = \"Density     \"  , x = \"Given Weight (kg)\")\n",
        "  +SWD_theme() + t\n",
        ")\n",
        "\n",
        "# Normal Distribution\n",
        "p3 = \\\n",
        "  (ggplot(df_Normal, aes(x='value'))\n",
        "  + geom_density (alpha=0.1,  color=RED2)\n",
        "  + geom_density (df_long, aes(x='value'), color=BLUE4 )\n",
        "  + labs(y = \"Density     \"  , x = \"Given Weight (kg)\")\n",
        "  +SWD_theme() + t\n",
        ")\n",
        "\n",
        "# Empty plotnine figure to place the subplots on. Needs junk data (for backend \"copy\" reasons).\n",
        "fig = (ggplot()+geom_blank(data=df) +theme_void()).draw(show=False, return_ggplot=False)\n",
        "\n",
        "# Create gridspec for adding subpanels to the blank figure\n",
        "gs = gridspec.GridSpec(1, 3)\n",
        "ax1 = fig.add_subplot(gs[0,0])\n",
        "ax2 = fig.add_subplot(gs[0,1])\n",
        "ax3 = fig.add_subplot(gs[0,2])\n",
        "\n",
        "gs.update(wspace=0.5, hspace=0.05) # set the spacing between axes.\n",
        "\n",
        "# Add subplots to the figure\n",
        "_=p1._draw_using_figure(fig, [ax1])\n",
        "_=p2._draw_using_figure(fig, [ax2] )\n",
        "_=p3._draw_using_figure(fig, [ax3] )\n",
        "\n",
        "fig.dpi = 100\n",
        "width_in = 7\n",
        "fig.set_size_inches(width_in , width_in/1.62)\n",
        "\n",
        "# X axis labels.\n",
        "fig.axes[1].set_xlabel ('Conditional\\n Normals')\n",
        "fig.axes[2].set_xlabel ('Originating Distribution')\n",
        "fig.axes[3].set_xlabel ('Normal\\n Distribution')\n",
        "\n",
        "ax0 = fig.add_axes( (0,0,1,1))\n",
        "ax0.axis('Off') # don't draw anything."
      ],
      "metadata": {
        "id": "ad3D3FuLPCMs",
        "colab": {
          "base_uri": "https://localhost:8080/",
          "height": 522
        },
        "outputId": "ada545f1-a7d1-4872-90ae-da32a59dfcd0"
      },
      "id": "ad3D3FuLPCMs",
      "execution_count": null,
      "outputs": [
        {
          "output_type": "stream",
          "name": "stderr",
          "text": [
            "/usr/local/lib/python3.10/dist-packages/plotnine/scales/scale.py:102: PlotnineWarning: scale_x_continuous could not recognise parameter `limit`\n"
          ]
        },
        {
          "output_type": "execute_result",
          "data": {
            "text/plain": [
              "(0.0, 1.0, 0.0, 1.0)"
            ]
          },
          "metadata": {},
          "execution_count": 17
        },
        {
          "output_type": "display_data",
          "data": {
            "text/plain": [
              "<Figure size 700x432.099 with 5 Axes>"
            ],
            "image/png": "[encoded data removed]"
          },
          "metadata": {
            "needs_background": "light"
          }
        }
      ]
    },
    {
      "cell_type": "markdown",
      "source": [
        "The Originating distribution is wider than a Normal distribution of the same mean and variance"
      ],
      "metadata": {
        "id": "0CWzZZ4TY4xC"
      },
      "id": "0CWzZZ4TY4xC"
    },
    {
      "cell_type": "markdown",
      "source": [
        "Use the data sampled from the Originating Distribution to plot the regression line alongside the residual standard error"
      ],
      "metadata": {
        "id": "1NAsYDk1Sz_T"
      },
      "id": "1NAsYDk1Sz_T"
    },
    {
      "cell_type": "code",
      "source": [
        "import scipy\n",
        "slope, intercept, r, p, se = scipy.stats.linregress(df_long.variable  , df_long.value)\n",
        "\n",
        "# Residual standard error\n",
        "preds = intercept + ( slope * df_long['x'] )\n",
        "rse = np.std (  df_long.value - preds )\n",
        "\n",
        "# There's no need to plot this because of course the regression will\n",
        "# estimate the correct parameters\n",
        "(slope, intercept, rse)"
      ],
      "metadata": {
        "colab": {
          "base_uri": "https://localhost:8080/"
        },
        "id": "amzew-UqUwWe",
        "outputId": "9e0d539c-d36a-4a44-fc42-1e82dcf31147"
      },
      "id": "amzew-UqUwWe",
      "execution_count": null,
      "outputs": [
        {
          "output_type": "execute_result",
          "data": {
            "text/plain": [
              "(0.9008286568036259, 113.76802860470886, 4.992034152684221)"
            ]
          },
          "metadata": {},
          "execution_count": 18
        }
      ]
    },
    {
      "cell_type": "code",
      "source": [],
      "metadata": {
        "id": "LKRyy5wzVobw"
      },
      "id": "LKRyy5wzVobw",
      "execution_count": null,
      "outputs": []
    },
    {
      "cell_type": "markdown",
      "source": [
        "## So in summary\n",
        "### In this case the data that created a \"perfect\" linear model was not a normal distribution. The distribution is a bit wider (like a T-Distrbution?).  However, it is worth nothing that there was also no skew in the originating distribution."
      ],
      "metadata": {
        "id": "uCFWpjJga93R"
      },
      "id": "uCFWpjJga93R"
    },
    {
      "cell_type": "markdown",
      "source": [
        "# Part 3"
      ],
      "metadata": {
        "id": "WH4qgPclcZbj"
      },
      "id": "WH4qgPclcZbj"
    },
    {
      "cell_type": "markdown",
      "source": [
        "As before Sample from the 4 Normal Distributions but this time\n",
        "- The std. dev. for esimated height is still 5 at 20&30 kg\n",
        "- But the std. dev. for esimated height is 10 at 40&50 kg\n"
      ],
      "metadata": {
        "id": "jsvN7b6Cc2CM"
      },
      "id": "jsvN7b6Cc2CM"
    },
    {
      "cell_type": "code",
      "source": [],
      "metadata": {
        "id": "QcpL1NxqdciV"
      },
      "id": "QcpL1NxqdciV",
      "execution_count": null,
      "outputs": []
    },
    {
      "cell_type": "code",
      "source": [
        "# Specify some x values.\n",
        "lst_x =  [i for i in range ( 20,60, 10)]\n",
        "np_x = np.array ( lst_x)\n",
        "\n",
        "\n",
        "# Produce some Yi values using\n",
        "# a model of height = function (weight) from Statistical Rethinking\n",
        "# Place in a dict for later retrieval.\n",
        "\n",
        "b_weight_kg = 0.9\n",
        "c_avg_height_cm = 154\n",
        "sd = 5.0  # standard deviation of errors.\n",
        "\n",
        "N = 100000              # Number of data points to generate.\n",
        "\n",
        "# Create a dataframe (with x as columns and yi~N() samples as rows)\n",
        "\n",
        "df = pd.DataFrame()\n",
        "\n",
        "for xi in lst_x:\n",
        "    yi = dictYi[xi]\n",
        "\n",
        "    ## ***  THIS BIT IS DIFFERENT *** ####\n",
        "    if xi <= 30:\n",
        "      df[xi] = stats.norm.rvs(yi , 5, N)\n",
        "    else:\n",
        "      df[xi] = stats.norm.rvs(yi , 10, N)\n",
        "    ## ***  THIS BIT IS DIFFERENT *** ####\n",
        "\n",
        "###################################\n",
        "\n",
        "# A long version of this dataframe is needed for plotting as violin plots\n",
        "import pandas.api.types as pdtypes # for (sorted) categories.\n",
        "df_long = pd.melt(df,value_vars=[20,30,40,50]  )\n",
        "df_long['x'] = df_long['variable']\n",
        "df_long['variable'] = df_long['variable'].astype(pdtypes.CategoricalDtype(categories=[10,20,30,40,50,60]))\n",
        "\n"
      ],
      "metadata": {
        "id": "gKe0zNjVcb1g"
      },
      "id": "gKe0zNjVcb1g",
      "execution_count": null,
      "outputs": []
    },
    {
      "cell_type": "markdown",
      "source": [
        "Redo the violin plot"
      ],
      "metadata": {
        "id": "BJPFjWRReJuu"
      },
      "id": "BJPFjWRReJuu"
    },
    {
      "cell_type": "code",
      "source": [
        "from plotnine import geom_violin\n",
        "from plotnine import ggplot, aes\n",
        "\n",
        "t = theme(\n",
        "          # Overrides\n",
        "          axis_title_y = element_text(angle = 90, va = 'bottom', ha = 'left', size = 13, color = GRAY3, y = 0.5),\n",
        "          axis_title_x = element_text(  size = 13, color = GRAY3, x=0.8),\n",
        "          panel_grid_major_y=element_blank(),\n",
        "          legend_position=\"none\"\n",
        ")\n",
        "\n",
        "lsize = 0.1\n",
        "shift = -0.06\n",
        "shift_point = 0.07\n",
        "\n",
        "# For shifting the violin plot\n",
        "def alt_sign(x):\n",
        "    \"Alternate +1/-1 if x is even/odd\"\n",
        "    #return (-1) ** x\n",
        "    return\n",
        "\n",
        "m1 = aes(x=stage('variable', after_scale='x+shift*x'))                 # shift outward\n",
        "m2 = aes(x=stage('variable', after_scale='x+shift_point*x'))           # shift outward\n",
        "m3 = aes( stage('variable', after_scale='x+shift_point*x' ),y='vals' )\n",
        "\n",
        "fig = \\\n",
        "(ggplot(df_long, aes('variable', 'value',group = 'variable'))\n",
        "  + geom_violin( alpha=0.3, color=GRAY8, fill=BLUE3, style=\"right\", size=lsize)\n",
        "  #+ geom_point(m2, alpha=0.005, color=GRAY8,size=0.2)\n",
        "  + geom_line (data_x_y,aes( x='variable', y='y', group = 'group', size=2),color=GRAY8 )\n",
        "  + geom_point (data_x_y, aes( x='variable', y='y',size=10), color=GRAY8 )\n",
        "  + labs(y = \"Expected Height (cm)     \"  , x = \"Given Weight (kg)\")\n",
        "  +SWD_theme() + t\n",
        ")\n",
        "\n",
        "\n",
        "fig"
      ],
      "metadata": {
        "id": "rxKCb2-Rdxbq",
        "colab": {
          "base_uri": "https://localhost:8080/",
          "height": 485
        },
        "outputId": "f43827e2-3bf5-4e03-97e7-54f00a4d3e31"
      },
      "id": "rxKCb2-Rdxbq",
      "execution_count": null,
      "outputs": [
        {
          "output_type": "display_data",
          "data": {
            "text/plain": [
              "<Figure size 640x480 with 1 Axes>"
            ],
            "image/png": "[encoded data removed]"
          },
          "metadata": {
            "needs_background": "light"
          }
        },
        {
          "output_type": "execute_result",
          "data": {
            "text/plain": [
              "<ggplot: (8494670721985)>"
            ]
          },
          "metadata": {},
          "execution_count": 20
        }
      ]
    },
    {
      "cell_type": "code",
      "source": [
        "t = theme(\n",
        "          # Overrides\n",
        "          axis_title_y = element_text(angle = 90, va = 'bottom', ha = 'left', size = 13, color = GRAY3, y = 0.8),\n",
        "          axis_title_x = element_text(  size = 13, color = GRAY3, x=0.8),\n",
        "          #panel_grid_major_y=element_blank(),\n",
        "          panel_grid_major_x=element_blank(),\n",
        "          panel_grid_minor_x=element_blank(),\n",
        "          axis_text_y = element_text( color=GRAY5, size=10)  ,\n",
        "          axis_text_x = element_text( color=GRAY5, size=8, y = 0, va=\"top\", ha=\"left\")  ,\n",
        "          #va = 'bottom', ha = 'left', size = 13, color = GRAY3, y = 0.5\n",
        "          legend_position=\"none\"\n",
        ")\n",
        "\n",
        "# Conditional distributions\n",
        "p1 = \\\n",
        "  (ggplot(df_long, aes(x='value', group='variable') )\n",
        "  + geom_density (alpha=0.1, color=GRAY6)\n",
        "  + labs(y = \"Density     \"  , x = \"Given Weight (kg)\")\n",
        "  + scale_x_continuous(limit = [150, 220])\n",
        "   +SWD_theme() + t\n",
        ")\n",
        "\n",
        "# Originating distribution\n",
        "p2 = \\\n",
        "  (ggplot(df_long, aes(x='value'))\n",
        "  + geom_density (alpha=0.1,  color=BLUE2)\n",
        "  + labs(y = \"Density     \"  , x = \"Given Weight (kg)\")\n",
        "  +SWD_theme() + t\n",
        ")\n",
        "\n",
        "# Normal Distribution\n",
        "p3 = \\\n",
        "  (ggplot(df_Normal, aes(x='value'))\n",
        "  + geom_density (alpha=0.1,  color=RED2)\n",
        "  + geom_density (df_long, aes(x='value'), color=GRAY8 )\n",
        "  + labs(y = \"Density     \"  , x = \"Given Weight (kg)\")\n",
        "  +SWD_theme() + t\n",
        ")\n",
        "\n",
        "# Empty plotnine figure to place the subplots on. Needs junk data (for backend \"copy\" reasons).\n",
        "fig = (ggplot()+geom_blank(data=df) +theme_void()).draw(show=False, return_ggplot=False)\n",
        "\n",
        "# Create gridspec for adding subpanels to the blank figure\n",
        "gs = gridspec.GridSpec(1, 3)\n",
        "ax1 = fig.add_subplot(gs[0,0])\n",
        "ax2 = fig.add_subplot(gs[0,1])\n",
        "ax3 = fig.add_subplot(gs[0,2])\n",
        "\n",
        "gs.update(wspace=0.5, hspace=0.05) # set the spacing between axes.\n",
        "\n",
        "# Add subplots to the figure\n",
        "_=p1._draw_using_figure(fig, [ax1])\n",
        "_=p2._draw_using_figure(fig, [ax2] )\n",
        "_=p3._draw_using_figure(fig, [ax3] )\n",
        "\n",
        "fig.dpi = 100\n",
        "width_in = 7\n",
        "fig.set_size_inches(width_in , width_in/1.62)\n",
        "\n",
        "# X axis labels.\n",
        "fig.axes[1].set_xlabel ('Conditional\\n Normals')\n",
        "fig.axes[2].set_xlabel ('Originating\\n Distribution')\n",
        "fig.axes[3].set_xlabel ('Normal\\n Distribution')\n",
        "\n",
        "ax0 = fig.add_axes( (0,0,1,1))\n",
        "ax0.axis('Off') # don't draw anything."
      ],
      "metadata": {
        "colab": {
          "base_uri": "https://localhost:8080/",
          "height": 522
        },
        "id": "Gpnjb_G2NS-J",
        "outputId": "034cf9c0-03ef-4490-fe86-02030bfc9ac6"
      },
      "id": "Gpnjb_G2NS-J",
      "execution_count": null,
      "outputs": [
        {
          "output_type": "stream",
          "name": "stderr",
          "text": [
            "/usr/local/lib/python3.10/dist-packages/plotnine/scales/scale.py:102: PlotnineWarning: scale_x_continuous could not recognise parameter `limit`\n"
          ]
        },
        {
          "output_type": "execute_result",
          "data": {
            "text/plain": [
              "(0.0, 1.0, 0.0, 1.0)"
            ]
          },
          "metadata": {},
          "execution_count": 21
        },
        {
          "output_type": "display_data",
          "data": {
            "text/plain": [
              "<Figure size 700x432.099 with 5 Axes>"
            ],
            "image/png": "[encoded data removed]"
          },
          "metadata": {
            "needs_background": "light"
          }
        }
      ]
    },
    {
      "cell_type": "markdown",
      "source": [
        "In summary the originating distribution is skewed a little to the right."
      ],
      "metadata": {
        "id": "ms92tCm7aJmU"
      },
      "id": "ms92tCm7aJmU"
    },
    {
      "cell_type": "markdown",
      "source": [
        "Now, recalculate the regression model using data sampled from the  originating distribution and see what kind of residual standard error comes back"
      ],
      "metadata": {
        "id": "afHwA6y7aQh1"
      },
      "id": "afHwA6y7aQh1"
    },
    {
      "cell_type": "code",
      "source": [
        "import scipy\n",
        "slope, intercept, r, p, se = scipy.stats.linregress(df_long.variable  , df_long.value)\n",
        "\n",
        "# Residual standard error\n",
        "preds = intercept + ( slope * df_long['x'] )\n",
        "rse = np.std (  df_long.value - preds )\n",
        "\n",
        "# There's no need to plot this because of course the regression will\n",
        "# estimate the correct parameters\n",
        "(slope, intercept, rse)"
      ],
      "metadata": {
        "colab": {
          "base_uri": "https://localhost:8080/"
        },
        "id": "R4Cgy85UaHKi",
        "outputId": "058f9cd1-17e3-46e7-9042-2428ba158815"
      },
      "id": "R4Cgy85UaHKi",
      "execution_count": null,
      "outputs": [
        {
          "output_type": "execute_result",
          "data": {
            "text/plain": [
              "(0.8982909661644917, 113.84946733734908, 7.885808278703532)"
            ]
          },
          "metadata": {},
          "execution_count": 22
        }
      ]
    },
    {
      "cell_type": "code",
      "source": [
        "# Add the new predictions to our existing data frame\n",
        "# Predictions are the same as before.\n",
        "data_x_y ['y_new'] = np_x * slope+ intercept\n",
        "data_x_y"
      ],
      "metadata": {
        "colab": {
          "base_uri": "https://localhost:8080/",
          "height": 174
        },
        "id": "N0UJFAX2bjym",
        "outputId": "ff80a8c4-65b4-463a-c78f-f1170b249654"
      },
      "id": "N0UJFAX2bjym",
      "execution_count": null,
      "outputs": [
        {
          "output_type": "execute_result",
          "data": {
            "text/plain": [
              "    x       y variable  group       y_new\n",
              "0  20  131.79       20      1  131.815287\n",
              "1  30  140.79       30      1  140.798196\n",
              "2  40  149.79       40      1  149.781106\n",
              "3  50  158.79       50      1  158.764016"
            ],
            "text/html": [
              "\n",
              "\n",
              "  <div id=\"df-6822c1ff-a9f1-4c29-b4e4-d8fab4601dbe\">\n",
              "    <div class=\"colab-df-container\">\n",
              "      <div>\n",
              "<style scoped>\n",
              "    .dataframe tbody tr th:only-of-type {\n",
              "        vertical-align: middle;\n",
              "    }\n",
              "\n",
              "    .dataframe tbody tr th {\n",
              "        vertical-align: top;\n",
              "    }\n",
              "\n",
              "    .dataframe thead th {\n",
              "        text-align: right;\n",
              "    }\n",
              "</style>\n",
              "<table border=\"1\" class=\"dataframe\">\n",
              "  <thead>\n",
              "    <tr style=\"text-align: right;\">\n",
              "      <th></th>\n",
              "      <th>x</th>\n",
              "      <th>y</th>\n",
              "      <th>variable</th>\n",
              "      <th>group</th>\n",
              "      <th>y_new</th>\n",
              "    </tr>\n",
              "  </thead>\n",
              "  <tbody>\n",
              "    <tr>\n",
              "      <th>0</th>\n",
              "      <td>20</td>\n",
              "      <td>131.79</td>\n",
              "      <td>20</td>\n",
              "      <td>1</td>\n",
              "      <td>131.815287</td>\n",
              "    </tr>\n",
              "    <tr>\n",
              "      <th>1</th>\n",
              "      <td>30</td>\n",
              "      <td>140.79</td>\n",
              "      <td>30</td>\n",
              "      <td>1</td>\n",
              "      <td>140.798196</td>\n",
              "    </tr>\n",
              "    <tr>\n",
              "      <th>2</th>\n",
              "      <td>40</td>\n",
              "      <td>149.79</td>\n",
              "      <td>40</td>\n",
              "      <td>1</td>\n",
              "      <td>149.781106</td>\n",
              "    </tr>\n",
              "    <tr>\n",
              "      <th>3</th>\n",
              "      <td>50</td>\n",
              "      <td>158.79</td>\n",
              "      <td>50</td>\n",
              "      <td>1</td>\n",
              "      <td>158.764016</td>\n",
              "    </tr>\n",
              "  </tbody>\n",
              "</table>\n",
              "</div>\n",
              "      <button class=\"colab-df-convert\" onclick=\"convertToInteractive('df-6822c1ff-a9f1-4c29-b4e4-d8fab4601dbe')\"\n",
              "              title=\"Convert this dataframe to an interactive table.\"\n",
              "              style=\"display:none;\">\n",
              "\n",
              "  <svg xmlns=\"http://www.w3.org/2000/svg\" height=\"24px\"viewBox=\"0 0 24 24\"\n",
              "       width=\"24px\">\n",
              "    <path d=\"M0 0h24v24H0V0z\" fill=\"none\"/>\n",
              "    <path d=\"M18.56 5.44l.94 2.06.94-2.06 2.06-.94-2.06-.94-.94-2.06-.94 2.06-2.06.94zm-11 1L8.5 8.5l.94-2.06 2.06-.94-2.06-.94L8.5 2.5l-.94 2.06-2.06.94zm10 10l.94 2.06.94-2.06 2.06-.94-2.06-.94-.94-2.06-.94 2.06-2.06.94z\"/><path d=\"M17.41 7.96l-1.37-1.37c-.4-.4-.92-.59-1.43-.59-.52 0-1.04.2-1.43.59L10.3 9.45l-7.72 7.72c-.78.78-.78 2.05 0 2.83L4 21.41c.39.39.9.59 1.41.59.51 0 1.02-.2 1.41-.59l7.78-7.78 2.81-2.81c.8-.78.8-2.07 0-2.86zM5.41 20L4 18.59l7.72-7.72 1.47 1.35L5.41 20z\"/>\n",
              "  </svg>\n",
              "      </button>\n",
              "\n",
              "\n",
              "\n",
              "    <div id=\"df-3719676e-7870-4b6b-9c90-0f327bad3f2c\">\n",
              "      <button class=\"colab-df-quickchart\" onclick=\"quickchart('df-3719676e-7870-4b6b-9c90-0f327bad3f2c')\"\n",
              "              title=\"Suggest charts.\"\n",
              "              style=\"display:none;\">\n",
              "\n",
              "<svg xmlns=\"http://www.w3.org/2000/svg\" height=\"24px\"viewBox=\"0 0 24 24\"\n",
              "     width=\"24px\">\n",
              "    <g>\n",
              "        <path d=\"M19 3H5c-1.1 0-2 .9-2 2v14c0 1.1.9 2 2 2h14c1.1 0 2-.9 2-2V5c0-1.1-.9-2-2-2zM9 17H7v-7h2v7zm4 0h-2V7h2v10zm4 0h-2v-4h2v4z\"/>\n",
              "    </g>\n",
              "</svg>\n",
              "      </button>\n",
              "    </div>\n",
              "\n",
              "<style>\n",
              "  .colab-df-quickchart {\n",
              "    background-color: #E8F0FE;\n",
              "    border: none;\n",
              "    border-radius: 50%;\n",
              "    cursor: pointer;\n",
              "    display: none;\n",
              "    fill: #1967D2;\n",
              "    height: 32px;\n",
              "    padding: 0 0 0 0;\n",
              "    width: 32px;\n",
              "  }\n",
              "\n",
              "  .colab-df-quickchart:hover {\n",
              "    background-color: #E2EBFA;\n",
              "    box-shadow: 0px 1px 2px rgba(60, 64, 67, 0.3), 0px 1px 3px 1px rgba(60, 64, 67, 0.15);\n",
              "    fill: #174EA6;\n",
              "  }\n",
              "\n",
              "  [theme=dark] .colab-df-quickchart {\n",
              "    background-color: #3B4455;\n",
              "    fill: #D2E3FC;\n",
              "  }\n",
              "\n",
              "  [theme=dark] .colab-df-quickchart:hover {\n",
              "    background-color: #434B5C;\n",
              "    box-shadow: 0px 1px 3px 1px rgba(0, 0, 0, 0.15);\n",
              "    filter: drop-shadow(0px 1px 2px rgba(0, 0, 0, 0.3));\n",
              "    fill: #FFFFFF;\n",
              "  }\n",
              "</style>\n",
              "\n",
              "    <script>\n",
              "      async function quickchart(key) {\n",
              "        const containerElement = document.querySelector('#' + key);\n",
              "        const charts = await google.colab.kernel.invokeFunction(\n",
              "            'suggestCharts', [key], {});\n",
              "      }\n",
              "    </script>\n",
              "\n",
              "      <script>\n",
              "\n",
              "function displayQuickchartButton(domScope) {\n",
              "  let quickchartButtonEl =\n",
              "    domScope.querySelector('#df-3719676e-7870-4b6b-9c90-0f327bad3f2c button.colab-df-quickchart');\n",
              "  quickchartButtonEl.style.display =\n",
              "    google.colab.kernel.accessAllowed ? 'block' : 'none';\n",
              "}\n",
              "\n",
              "        displayQuickchartButton(document);\n",
              "      </script>\n",
              "      <style>\n",
              "    .colab-df-container {\n",
              "      display:flex;\n",
              "      flex-wrap:wrap;\n",
              "      gap: 12px;\n",
              "    }\n",
              "\n",
              "    .colab-df-convert {\n",
              "      background-color: #E8F0FE;\n",
              "      border: none;\n",
              "      border-radius: 50%;\n",
              "      cursor: pointer;\n",
              "      display: none;\n",
              "      fill: #1967D2;\n",
              "      height: 32px;\n",
              "      padding: 0 0 0 0;\n",
              "      width: 32px;\n",
              "    }\n",
              "\n",
              "    .colab-df-convert:hover {\n",
              "      background-color: #E2EBFA;\n",
              "      box-shadow: 0px 1px 2px rgba(60, 64, 67, 0.3), 0px 1px 3px 1px rgba(60, 64, 67, 0.15);\n",
              "      fill: #174EA6;\n",
              "    }\n",
              "\n",
              "    [theme=dark] .colab-df-convert {\n",
              "      background-color: #3B4455;\n",
              "      fill: #D2E3FC;\n",
              "    }\n",
              "\n",
              "    [theme=dark] .colab-df-convert:hover {\n",
              "      background-color: #434B5C;\n",
              "      box-shadow: 0px 1px 3px 1px rgba(0, 0, 0, 0.15);\n",
              "      filter: drop-shadow(0px 1px 2px rgba(0, 0, 0, 0.3));\n",
              "      fill: #FFFFFF;\n",
              "    }\n",
              "  </style>\n",
              "\n",
              "      <script>\n",
              "        const buttonEl =\n",
              "          document.querySelector('#df-6822c1ff-a9f1-4c29-b4e4-d8fab4601dbe button.colab-df-convert');\n",
              "        buttonEl.style.display =\n",
              "          google.colab.kernel.accessAllowed ? 'block' : 'none';\n",
              "\n",
              "        async function convertToInteractive(key) {\n",
              "          const element = document.querySelector('#df-6822c1ff-a9f1-4c29-b4e4-d8fab4601dbe');\n",
              "          const dataTable =\n",
              "            await google.colab.kernel.invokeFunction('convertToInteractive',\n",
              "                                                     [key], {});\n",
              "          if (!dataTable) return;\n",
              "\n",
              "          const docLinkHtml = 'Like what you see? Visit the ' +\n",
              "            '<a target=\"_blank\" href=https://colab.research.google.com/notebooks/data_table.ipynb>data table notebook</a>'\n",
              "            + ' to learn more about interactive tables.';\n",
              "          element.innerHTML = '';\n",
              "          dataTable['output_type'] = 'display_data';\n",
              "          await google.colab.output.renderOutput(dataTable, element);\n",
              "          const docLink = document.createElement('div');\n",
              "          docLink.innerHTML = docLinkHtml;\n",
              "          element.appendChild(docLink);\n",
              "        }\n",
              "      </script>\n",
              "    </div>\n",
              "  </div>\n"
            ]
          },
          "metadata": {},
          "execution_count": 23
        }
      ]
    },
    {
      "cell_type": "markdown",
      "source": [
        "Also resample from the conditional distributions as understood by the new model"
      ],
      "metadata": {
        "id": "Eq5ybiFvca4A"
      },
      "id": "Eq5ybiFvca4A"
    },
    {
      "cell_type": "code",
      "source": [
        "df_new_model = pd.DataFrame()\n",
        "\n",
        "for xi in lst_x:\n",
        "    yi =  xi * slope+ intercept\n",
        "    df_new_model[xi] = stats.norm.rvs(yi , rse, N)\n",
        "\n",
        "# A long version of this dataframe is needed for plotting as violin plots\n",
        "import pandas.api.types as pdtypes # for (sorted) categories.\n",
        "df_long_new_model = pd.melt(df_new_model,value_vars=[20,30,40,50]  )\n",
        "df_long_new_model['x'] = df_long['variable']\n",
        "df_long_new_model['variable'] = df_long['variable'].astype(pdtypes.CategoricalDtype(categories=[10,20,30,40,50,60]))\n",
        "df_long_new_model.head()"
      ],
      "metadata": {
        "colab": {
          "base_uri": "https://localhost:8080/",
          "height": 206
        },
        "id": "Np7UHrPRcX9H",
        "outputId": "33ba4c4d-efb5-478f-89c6-c40eb38cce50"
      },
      "id": "Np7UHrPRcX9H",
      "execution_count": null,
      "outputs": [
        {
          "output_type": "execute_result",
          "data": {
            "text/plain": [
              "  variable       value   x\n",
              "0       20  127.493234  20\n",
              "1       20  133.004925  20\n",
              "2       20  125.105624  20\n",
              "3       20  141.405368  20\n",
              "4       20  135.054725  20"
            ],
            "text/html": [
              "\n",
              "\n",
              "  <div id=\"df-c7a3882d-7b72-4928-881a-6aa11edbbd19\">\n",
              "    <div class=\"colab-df-container\">\n",
              "      <div>\n",
              "<style scoped>\n",
              "    .dataframe tbody tr th:only-of-type {\n",
              "        vertical-align: middle;\n",
              "    }\n",
              "\n",
              "    .dataframe tbody tr th {\n",
              "        vertical-align: top;\n",
              "    }\n",
              "\n",
              "    .dataframe thead th {\n",
              "        text-align: right;\n",
              "    }\n",
              "</style>\n",
              "<table border=\"1\" class=\"dataframe\">\n",
              "  <thead>\n",
              "    <tr style=\"text-align: right;\">\n",
              "      <th></th>\n",
              "      <th>variable</th>\n",
              "      <th>value</th>\n",
              "      <th>x</th>\n",
              "    </tr>\n",
              "  </thead>\n",
              "  <tbody>\n",
              "    <tr>\n",
              "      <th>0</th>\n",
              "      <td>20</td>\n",
              "      <td>127.493234</td>\n",
              "      <td>20</td>\n",
              "    </tr>\n",
              "    <tr>\n",
              "      <th>1</th>\n",
              "      <td>20</td>\n",
              "      <td>133.004925</td>\n",
              "      <td>20</td>\n",
              "    </tr>\n",
              "    <tr>\n",
              "      <th>2</th>\n",
              "      <td>20</td>\n",
              "      <td>125.105624</td>\n",
              "      <td>20</td>\n",
              "    </tr>\n",
              "    <tr>\n",
              "      <th>3</th>\n",
              "      <td>20</td>\n",
              "      <td>141.405368</td>\n",
              "      <td>20</td>\n",
              "    </tr>\n",
              "    <tr>\n",
              "      <th>4</th>\n",
              "      <td>20</td>\n",
              "      <td>135.054725</td>\n",
              "      <td>20</td>\n",
              "    </tr>\n",
              "  </tbody>\n",
              "</table>\n",
              "</div>\n",
              "      <button class=\"colab-df-convert\" onclick=\"convertToInteractive('df-c7a3882d-7b72-4928-881a-6aa11edbbd19')\"\n",
              "              title=\"Convert this dataframe to an interactive table.\"\n",
              "              style=\"display:none;\">\n",
              "\n",
              "  <svg xmlns=\"http://www.w3.org/2000/svg\" height=\"24px\"viewBox=\"0 0 24 24\"\n",
              "       width=\"24px\">\n",
              "    <path d=\"M0 0h24v24H0V0z\" fill=\"none\"/>\n",
              "    <path d=\"M18.56 5.44l.94 2.06.94-2.06 2.06-.94-2.06-.94-.94-2.06-.94 2.06-2.06.94zm-11 1L8.5 8.5l.94-2.06 2.06-.94-2.06-.94L8.5 2.5l-.94 2.06-2.06.94zm10 10l.94 2.06.94-2.06 2.06-.94-2.06-.94-.94-2.06-.94 2.06-2.06.94z\"/><path d=\"M17.41 7.96l-1.37-1.37c-.4-.4-.92-.59-1.43-.59-.52 0-1.04.2-1.43.59L10.3 9.45l-7.72 7.72c-.78.78-.78 2.05 0 2.83L4 21.41c.39.39.9.59 1.41.59.51 0 1.02-.2 1.41-.59l7.78-7.78 2.81-2.81c.8-.78.8-2.07 0-2.86zM5.41 20L4 18.59l7.72-7.72 1.47 1.35L5.41 20z\"/>\n",
              "  </svg>\n",
              "      </button>\n",
              "\n",
              "\n",
              "\n",
              "    <div id=\"df-6554e23f-a0da-4532-ac2f-87283daecba6\">\n",
              "      <button class=\"colab-df-quickchart\" onclick=\"quickchart('df-6554e23f-a0da-4532-ac2f-87283daecba6')\"\n",
              "              title=\"Suggest charts.\"\n",
              "              style=\"display:none;\">\n",
              "\n",
              "<svg xmlns=\"http://www.w3.org/2000/svg\" height=\"24px\"viewBox=\"0 0 24 24\"\n",
              "     width=\"24px\">\n",
              "    <g>\n",
              "        <path d=\"M19 3H5c-1.1 0-2 .9-2 2v14c0 1.1.9 2 2 2h14c1.1 0 2-.9 2-2V5c0-1.1-.9-2-2-2zM9 17H7v-7h2v7zm4 0h-2V7h2v10zm4 0h-2v-4h2v4z\"/>\n",
              "    </g>\n",
              "</svg>\n",
              "      </button>\n",
              "    </div>\n",
              "\n",
              "<style>\n",
              "  .colab-df-quickchart {\n",
              "    background-color: #E8F0FE;\n",
              "    border: none;\n",
              "    border-radius: 50%;\n",
              "    cursor: pointer;\n",
              "    display: none;\n",
              "    fill: #1967D2;\n",
              "    height: 32px;\n",
              "    padding: 0 0 0 0;\n",
              "    width: 32px;\n",
              "  }\n",
              "\n",
              "  .colab-df-quickchart:hover {\n",
              "    background-color: #E2EBFA;\n",
              "    box-shadow: 0px 1px 2px rgba(60, 64, 67, 0.3), 0px 1px 3px 1px rgba(60, 64, 67, 0.15);\n",
              "    fill: #174EA6;\n",
              "  }\n",
              "\n",
              "  [theme=dark] .colab-df-quickchart {\n",
              "    background-color: #3B4455;\n",
              "    fill: #D2E3FC;\n",
              "  }\n",
              "\n",
              "  [theme=dark] .colab-df-quickchart:hover {\n",
              "    background-color: #434B5C;\n",
              "    box-shadow: 0px 1px 3px 1px rgba(0, 0, 0, 0.15);\n",
              "    filter: drop-shadow(0px 1px 2px rgba(0, 0, 0, 0.3));\n",
              "    fill: #FFFFFF;\n",
              "  }\n",
              "</style>\n",
              "\n",
              "    <script>\n",
              "      async function quickchart(key) {\n",
              "        const containerElement = document.querySelector('#' + key);\n",
              "        const charts = await google.colab.kernel.invokeFunction(\n",
              "            'suggestCharts', [key], {});\n",
              "      }\n",
              "    </script>\n",
              "\n",
              "      <script>\n",
              "\n",
              "function displayQuickchartButton(domScope) {\n",
              "  let quickchartButtonEl =\n",
              "    domScope.querySelector('#df-6554e23f-a0da-4532-ac2f-87283daecba6 button.colab-df-quickchart');\n",
              "  quickchartButtonEl.style.display =\n",
              "    google.colab.kernel.accessAllowed ? 'block' : 'none';\n",
              "}\n",
              "\n",
              "        displayQuickchartButton(document);\n",
              "      </script>\n",
              "      <style>\n",
              "    .colab-df-container {\n",
              "      display:flex;\n",
              "      flex-wrap:wrap;\n",
              "      gap: 12px;\n",
              "    }\n",
              "\n",
              "    .colab-df-convert {\n",
              "      background-color: #E8F0FE;\n",
              "      border: none;\n",
              "      border-radius: 50%;\n",
              "      cursor: pointer;\n",
              "      display: none;\n",
              "      fill: #1967D2;\n",
              "      height: 32px;\n",
              "      padding: 0 0 0 0;\n",
              "      width: 32px;\n",
              "    }\n",
              "\n",
              "    .colab-df-convert:hover {\n",
              "      background-color: #E2EBFA;\n",
              "      box-shadow: 0px 1px 2px rgba(60, 64, 67, 0.3), 0px 1px 3px 1px rgba(60, 64, 67, 0.15);\n",
              "      fill: #174EA6;\n",
              "    }\n",
              "\n",
              "    [theme=dark] .colab-df-convert {\n",
              "      background-color: #3B4455;\n",
              "      fill: #D2E3FC;\n",
              "    }\n",
              "\n",
              "    [theme=dark] .colab-df-convert:hover {\n",
              "      background-color: #434B5C;\n",
              "      box-shadow: 0px 1px 3px 1px rgba(0, 0, 0, 0.15);\n",
              "      filter: drop-shadow(0px 1px 2px rgba(0, 0, 0, 0.3));\n",
              "      fill: #FFFFFF;\n",
              "    }\n",
              "  </style>\n",
              "\n",
              "      <script>\n",
              "        const buttonEl =\n",
              "          document.querySelector('#df-c7a3882d-7b72-4928-881a-6aa11edbbd19 button.colab-df-convert');\n",
              "        buttonEl.style.display =\n",
              "          google.colab.kernel.accessAllowed ? 'block' : 'none';\n",
              "\n",
              "        async function convertToInteractive(key) {\n",
              "          const element = document.querySelector('#df-c7a3882d-7b72-4928-881a-6aa11edbbd19');\n",
              "          const dataTable =\n",
              "            await google.colab.kernel.invokeFunction('convertToInteractive',\n",
              "                                                     [key], {});\n",
              "          if (!dataTable) return;\n",
              "\n",
              "          const docLinkHtml = 'Like what you see? Visit the ' +\n",
              "            '<a target=\"_blank\" href=https://colab.research.google.com/notebooks/data_table.ipynb>data table notebook</a>'\n",
              "            + ' to learn more about interactive tables.';\n",
              "          element.innerHTML = '';\n",
              "          dataTable['output_type'] = 'display_data';\n",
              "          await google.colab.output.renderOutput(dataTable, element);\n",
              "          const docLink = document.createElement('div');\n",
              "          docLink.innerHTML = docLinkHtml;\n",
              "          element.appendChild(docLink);\n",
              "        }\n",
              "      </script>\n",
              "    </div>\n",
              "  </div>\n"
            ]
          },
          "metadata": {},
          "execution_count": 24
        }
      ]
    },
    {
      "cell_type": "code",
      "source": [
        "from plotnine import geom_violin\n",
        "from plotnine import ggplot, aes\n",
        "\n",
        "t = theme(\n",
        "          # Overrides\n",
        "          axis_title_y = element_text(angle = 90, va = 'bottom', ha = 'left', size = 13, color = GRAY3, y = 0.5),\n",
        "          axis_title_x = element_text(  size = 13, color = GRAY3, x=0.65),\n",
        "          panel_grid_major_y=element_blank(),\n",
        "          legend_position=\"none\"\n",
        ")\n",
        "\n",
        "lsize = 0.1\n",
        "shift = -0.06\n",
        "shift_point = 0.07\n",
        "\n",
        "# For shifting the violin plot\n",
        "def alt_sign(x):\n",
        "    \"Alternate +1/-1 if x is even/odd\"\n",
        "    #return (-1) ** x\n",
        "    return\n",
        "\n",
        "m1 = aes(x=stage('variable', after_scale='x+shift*x'))                 # shift outward\n",
        "m2 = aes(x=stage('variable', after_scale='x+shift_point*x'))           # shift outward\n",
        "m3 = aes( stage('variable', after_scale='x+shift_point*x' ),y='vals' )\n",
        "\n",
        "fig = \\\n",
        "(ggplot(\\\n",
        "  # All this is the same as before...\n",
        "    df_long, aes('variable', 'value',group = 'variable'))\n",
        "  + geom_line (data_x_y,aes( x='variable', y='y', group = 'group', size=2),color=GRAY8 )\n",
        "  + geom_point (data_x_y, aes( x='variable', y='y',size=10), color=GRAY8 )\n",
        "  + geom_violin( alpha=0.2, color=GRAY8, fill=BLUE3, style=\"right\", size=lsize)\n",
        "\n",
        "  # Add the distribution from the new model.\n",
        "  + geom_violin(df_long_new_model, aes( y='value'),\n",
        "                alpha=0.2, color=GRAY8, fill=RED2, style=\"right\", size=lsize)\n",
        "\n",
        " + labs(y = \"Expected Height (cm)     \"  , x = \"Given Weight (kg)\")\n",
        "  +SWD_theme() + t\n",
        ")\n",
        "\n",
        "\n",
        "fig"
      ],
      "metadata": {
        "colab": {
          "base_uri": "https://localhost:8080/",
          "height": 485
        },
        "id": "WRppJjx_edPJ",
        "outputId": "7ade1cac-9105-4a54-c7e1-635db2f6d35c"
      },
      "id": "WRppJjx_edPJ",
      "execution_count": null,
      "outputs": [
        {
          "output_type": "display_data",
          "data": {
            "text/plain": [
              "<Figure size 640x480 with 1 Axes>"
            ],
            "image/png": "[encoded data removed]"
          },
          "metadata": {
            "needs_background": "light"
          }
        },
        {
          "output_type": "execute_result",
          "data": {
            "text/plain": [
              "<ggplot: (8494670754393)>"
            ]
          },
          "metadata": {},
          "execution_count": 25
        }
      ]
    },
    {
      "cell_type": "markdown",
      "source": [
        "## So in summary\n",
        "#### The originating distribution for height is definately a little skewed to the right.  \n",
        "#### If we run a regresson model against just the originating dataset, then we get the same regressoin line, however, it can clearly be seen that conditional normal distribution is now constant.\n"
      ],
      "metadata": {
        "id": "jLbTSZrieZfl"
      },
      "id": "jLbTSZrieZfl"
    }
  ],
  "metadata": {
    "kernelspec": {
      "display_name": "Python 3 (ipykernel)",
      "language": "python",
      "name": "python3"
    },
    "language_info": {
      "codemirror_mode": {
        "name": "ipython",
        "version": 3
      },
      "file_extension": ".py",
      "mimetype": "text/x-python",
      "name": "python",
      "nbconvert_exporter": "python",
      "pygments_lexer": "ipython3",
      "version": "3.9.13"
    },
    "colab": {
      "provenance": [],
      "include_colab_link": true
    }
  },
  "nbformat": 4,
  "nbformat_minor": 5
}