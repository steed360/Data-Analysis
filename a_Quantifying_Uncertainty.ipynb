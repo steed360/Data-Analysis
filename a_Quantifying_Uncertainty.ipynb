{
  "nbformat": 4,
  "nbformat_minor": 0,
  "metadata": {
    "colab": {
      "provenance": [],
      "authorship_tag": "ABX9TyO6IeW7Nqaf6AI2Exjipm+K",
      "include_colab_link": true
    },
    "kernelspec": {
      "name": "python3",
      "display_name": "Python 3"
    },
    "language_info": {
      "name": "python"
    }
  },
  "cells": [
    {
      "cell_type": "markdown",
      "metadata": {
        "id": "view-in-github",
        "colab_type": "text"
      },
      "source": [
        "<a href=\"https://colab.research.google.com/github/steed360/Data-Analysis/blob/main/a_Quantifying_Uncertainty.ipynb\" target=\"_parent\"><img src=\"https://colab.research.google.com/assets/colab-badge.svg\" alt=\"Open In Colab\"/></a>"
      ]
    },
    {
      "cell_type": "code",
      "execution_count": 1,
      "metadata": {
        "id": "8irXriLS2v_5"
      },
      "outputs": [],
      "source": [
        "import arviz as az\n",
        "import matplotlib.pyplot as plt\n",
        "import numpy as np\n",
        "#import pymc3 as pm\n",
        "import pandas as pd\n",
        "import scipy.stats as stats\n",
        "import seaborn as sns\n",
        "#from scipy.interpolate import griddata\n"
      ]
    },
    {
      "cell_type": "markdown",
      "source": [
        "**Purpose of this Notebook**\n",
        "\n",
        "Tool for predicting campaign effectiveness.  \n",
        "\n",
        "A previous campaign contacted 1000 people and had a response rate of 5%. Repeating the campaign, how many responses can be expected?\n",
        "\n",
        "Assuming an underlying Bernouilli variable (response rate) of 0.05 (5%), show different ways to apply this in predicting the expected number of responses to a new campaign. \n",
        "\n",
        "The 5 ways this is done are:\n",
        "\n",
        "a)  Apply a fixed point (multiply the unseen sample by 0.05). So to find the expected response rate, simply  multiply the number of people to be contacted by 0.05. \n",
        "\n",
        "b)   Apply fixed points but acknowledge the uncertainty that 0.05 is the right point to use (on account of sampling distributions). The fixed points will be the lower and upper bounds of the 90% confidence interval.\n",
        "\n",
        "c)  Instead of applying fixed points apply all of the **sampling distribution as fixed points**. Specifically for each of the 1000 recipients, sample a response probability from the sampling distribution. Because response rates closer to 0.05 are more plausible, they will be selected more often. Hence, \n",
        "\n",
        "d)  Repeat \n",
        "\n",
        "\n"
      ],
      "metadata": {
        "id": "uQLJuRkn2-b_"
      }
    },
    {
      "cell_type": "markdown",
      "source": [],
      "metadata": {
        "id": "f1NBzA8k3LW2"
      }
    },
    {
      "cell_type": "code",
      "source": [],
      "metadata": {
        "id": "joN0Aq8g29SN"
      },
      "execution_count": null,
      "outputs": []
    }
  ]
}